{
  "nbformat": 4,
  "nbformat_minor": 0,
  "metadata": {
    "colab": {
      "provenance": [],
      "gpuType": "T4"
    },
    "kernelspec": {
      "name": "python3",
      "display_name": "Python 3"
    },
    "language_info": {
      "name": "python"
    },
    "accelerator": "GPU"
  },
  "cells": [
    {
      "cell_type": "markdown",
      "source": [
        "# Introdução às Redes Neurais (Dia 02) ![Picture1.jpg](data:image/jpeg;base64,/9j/4AAQSkZJRgABAQEAyADIAAD/4QBMRXhpZgAATU0AKgAAAAgAAYdpAAQAAAABAAAAGgAAAAAAA6ABAAMAAAABAAEAAKACAAQAAAABAAAAWaADAAQAAAABAAAAHQAAAAD/7QA4UGhvdG9zaG9wIDMuMAA4QklNBAQAAAAAAAA4QklNBCUAAAAAABDUHYzZjwCyBOmACZjs+EJ+/8AAEQgAHQBZAwERAAIRAQMRAf/EAB8AAAEFAQEBAQEBAAAAAAAAAAABAgMEBQYHCAkKC//EALUQAAIBAwMCBAMFBQQEAAABfQECAwAEEQUSITFBBhNRYQcicRQygZGhCCNCscEVUtHwJDNicoIJChYXGBkaJSYnKCkqNDU2Nzg5OkNERUZHSElKU1RVVldYWVpjZGVmZ2hpanN0dXZ3eHl6g4SFhoeIiYqSk5SVlpeYmZqio6Slpqeoqaqys7S1tre4ubrCw8TFxsfIycrS09TV1tfY2drh4uPk5ebn6Onq8fLz9PX29/j5+v/EAB8BAAMBAQEBAQEBAQEAAAAAAAABAgMEBQYHCAkKC//EALURAAIBAgQEAwQHBQQEAAECdwABAgMRBAUhMQYSQVEHYXETIjKBCBRCkaGxwQkjM1LwFWJy0QoWJDThJfEXGBkaJicoKSo1Njc4OTpDREVGR0hJSlNUVVZXWFlaY2RlZmdoaWpzdHV2d3h5eoKDhIWGh4iJipKTlJWWl5iZmqKjpKWmp6ipqrKztLW2t7i5usLDxMXGx8jJytLT1NXW19jZ2uLj5OXm5+jp6vLz9PX29/j5+v/bAEMAAQEBAQEBAQEBAQEBAQEBAQEBAQEBAQEBAQEBAQEBAQEBAQEBAQEBAQEBAQEBAQEBAQEBAQEBAQEBAQEBAQEBAf/bAEMBAQEBAQEBAQEBAQEBAQEBAQEBAQEBAQEBAQEBAQEBAQEBAQEBAQEBAQEBAQEBAQEBAQEBAQEBAQEBAQEBAQEBAf/dAAQADP/aAAwDAQACEQMRAD8Axfjv8Xf2kda/ao+NPgvwV8VfjTf6lf8Ax6+JXh/wz4a8P+PfGzzTzSeP9bstN0nSdNstXAAH7q3tbW3hVI0VURVRfl/u/hvIOEKXBnD2ZZlkfDsIR4ayjGY3HYzK8teryvDVK+IxFerh7ylJuU6lSc3KUm23KT97/F/xA438UcT4tcc8P8P8Y8d1KtTxC4pyvKMoyviTPkrLiLHYfB4HA4PD4yMIU6cFClQoUoRp06cYxiowiie6+Pnib4PStYav8Z/if8dPiRakLqNnB8afiHb/AAW8KXgj/faY2q+GPFWneIPinq9jcN5VzqHh/wAQ+GvAltd2Ui6bqPxH0W+jv4safC2Dz/8Ae0OHcj4ayaWtCq+HcoqcRY+m4u1ZUcZga2DyTDzbTp0sVhcbmNSnrVp5VWTgdNbxJzbglfVsbx7xl4gcVQ0xeHjx5xTh+BckrqdpYR4vKc5wma8W42ik41cRl2ZZRkVCunHDYniHCNVperfs7ft9fteeJvjt8H/Ckvxv8V6J4T1Px94ZsL/wz4UNh4W0m/sXvooXt9WXRbSzvdeMkB8me78QX2q6hdRgLd3c+AW8ziXw04KyzhnPsbh8kpTx2GyfHVqWLxGIxVerGvSw1ScKsYVK7oUpc6UrUKVKmn8NOEfdPo/D36QXi7xD4h8FZRjuL8RTyjH8VZRhcRlmCwWW4PDVMJicfRp1MLVq0cJHHYmm6UvZOeMxeIxEoa1K9Sb5peP2X/BQP9ovXfs+lfGH4h+OPil4b+WCe5bxlrHg/wCI+nW5Kq9z4f8Aib4ae08Qfb7aMO2nWXjFfGnhGGeWWa68K3rzS7var+F3CtOX1jJsuweV4yL5kq2EpZvlle1v3WLyvMlXoujK1pzwFTLsbrenjabVj5DB/SO8Sa9P6hxXn2bcRZTOPs5PCZpieF+IcJe/+05ZxFw/9UxX1unzc1GnnlDPcockvb5TWSP1u/4I66v8SpP205H1D4y/EL4r/Cbxp+zz4+8S+BdS8VeKdf1GN5dO8afD/T9R0nxF4e1HWtWstC8eeEbqeTTdd0+Oe6WOK8s9Z0a+1Dw14h0bVNQ/I/FrD5RT4PoRpcP5PkWfZfxNgMFmtHLsHhKL5K2VZvWoV8NiaOHw9bEZXmEaUcRhZ1IwfPSqYfEUqeMwdelS/p/6MWO4oreK2LniON+KuMuCc78PM6zbhrFZ9muZ4qPtsLxHwvhMXg8wy/FY3F4XA8R5HPEVcDmNKlOqvZYijjsFWq5XmuCxGK/pN+MXx9+BX7PHhqPxn8f/AI0fCf4HeD5rk2UPir4v/ETwh8NvDs94E802cOteMtY0XTprvyx5n2aO5aYp8wjI5r+az/QQqfBb9oz9nz9pHQbzxT+zx8dfg78ePDOnXKWeo+IPg38TPBfxN0XT7yRXaOzv9T8Fa1rVlZ3brHIy21zNFMRG5EZCkqAcdeftofseadd3Wn6h+1h+zTY39jcz2d9ZXnx2+F1rd2d3aytBc2t1bTeKUmt7m2mjeGeCVEkilRo5VV1IoA9c8I/FD4Z/EDw3ceMvAfxE8C+NvCFoLhrvxV4R8W6B4k8N2q2cH2m7Nxrmjaje6ZCLW2IuLgyXSeRAfNl2odygHIeAP2kf2dvivrreF/hb8e/gt8SvEqWFxqj+HfAHxS8DeMddTTLSSCK61FtJ8O67qOoLYW0t1bRXF4bcW8MlxAkkitNGHAJfiD+0X+z58JNat/DXxW+O3wb+GXiK702HWrTQPiD8T/BHgzWrnR7m5vLO21a30rxJrmm302mz3mn39rDfRQNay3NjeQJK0ttMiAF//he3wQ/6LJ8Kv/DheEf/AJc0Af/Qk/aQu2+Dvjj4/a9YlrX4lfHT4y/HWz0fU1VRd+FfgrYfE7xf4X1+80m5B82y1b4n+KNM1/wldXlube9tPBvhPxHpJkn0nx9dR1/c/CNP+3st4Xw1W8so4b4e4YqVqLSdPHcQVsmwOMw0ayfx0clwdXC42nTfNTq4/MMNW92tlcHL/G3xRq/6l5/4jZhh+WPE3iDxz4i4fC4pSkq+TcD4XizOMpzCphWmlTxfFua4fM8or1k4VsNkmTZhhLVMNxHUcPz7r9RP5xPo/wDY/wBNvdZ/al+AGkabAbrUdV+K/gzTbC2DxRG4vb7WbW2tYBJNJFDGZZ5UjDyyxxJu3SSIgZl+X43kocH8Tyk7RjkeZyk97JYSq27K7dkui+8/SfByEqvit4dU4K858ZcPxgtFeUsyw6irtxSu2ldtJbvqezeP/wDgmV+2n8KNFg8SfFL4W+GPhr4dutSg0e117x/8dP2fvBui3Or3NvdXdtpUGqeI/ilptjNqVxa2F9cwWMczXUttZ3c8cTRW07p5GX+KHBWbVpYbK8zxuZYiFOVaVDAcP8R4ytGjGUISqypYbJ5zVOM6kIObXIpThFtOUVL6XPPo6+LvDOEhmHEnDuU8P4CriIYSnjc6464ByvCVMVUp1atPDQxGO4noUpV6lKhWqQoxn7SUKNWai4wmz9jv+CEvwq8Y+Bfid8V7HxlffDTVbTS/Cseu+FJPA3xy+C3xTu9EvtdvdP0XxfBNo/wy8f8AjDUdKsfFNppXhGa+1K/srK1nuvBeiWy3rSKLeX8U8dszwOZUMir4KnmlGcquIo4xY/JM8yiOIjh48+AalmuAwdLESwbxeYKEaTnUpLG1W7RqH9dfQwyDN8hxnGWDzavw7i6VPD4HF5U8l4w4P4oqYCrj6nsc6UqXDed5viMFDNIZZkTrTxEaFHESyfDKMpTocp/O5/wcf2158Mf+C5vw0+N//BSL4FfGL9oX/gmjJ4K8DaR8MfBXgfxdr/gnRtY8LRfDg2nj7wv4Y8Y6ZfaRZaV450f41Saz488TeFLbxN4S8R+KfDcfhy1u/EOiaLqulavafzif3wfaP/BEz4Cf8ErfFn/BUnQf2q/+CTH/AAUK1/4HeGrnwnrll4z/AOCYPxc+G3jeH4i+KfCN54FvrLxP4dsviX45+Lt0vj7RNF8RppfxStE0SL4sXng7UvDqzXetNp0CTWQB/M1+yov/AASTb9sH9uf/AIewP8ek8JD4qeMf+FN/8KIGpHUD4i/4Wh44/wCEsHiH+zkc/Y/7N/sf7B521fO+0bTw1AH65f8ABul4T8P337df/BUzxl+xZ438X6P+wTov7KPx+0nS/AXxf8d+EY/i54v0fVGsn+EWpeIvhhourHUNTvPDQg8RSx/EKLQW03w3Y38vhe+16DW/F9xpuoAH5U/8EDPiVrn7H3/BQn/gn/8AtW3+oPZ/DH4yftO/Eb9jTxo7/udLtbfxh4E+GOgJca9en93b2VprHxy8L+LoBO0SbvAt1chnhtLoRAHZ/wDBxP8AEjX/ANrv/go5+3x+0bpd8b74W/sw/Hr4L/sN6CV/eW9rqWmeBfjGt/b2tzvKTQXXj34GfGHXFMKmMprEJB2eW8oB+0tAH//R9o/4KJ/sxftMeMP2x/jZf+Cv2c/jr4k8GWHiODR/DOueG/hD491fQdXs7HTLI6jrOl6jpnh250+6g17xDNrWvTSWdxPbm81O6EUroA1f2n4X8S8L5bwRktDHcRcP4PHyhiKuMoYnN8uw+JjN4qtToLEUquJhUjOngqeFoxU4p+ypU0rJJH+SH0i/D/xG4g8YOLsbk3AXHGa5LTrYHD5Xi8v4Xz/HZfOksuwtfGzwWJw2Cr4edGvm+IzHFzdGpKDxOIrv4nM+KP8Ahjb9rz/o1f8AaP8A/DH/ABM/+Zevv/8AXXg3/oreGf8Aw+5X/wDNZ+I/8Qi8V/8Ao2HiH/4hfEv/AM7T6H/ZJ/Zq/an+HH7TvwE+IGu/swftF2mjeCfit4K8V6ncyfBn4gWaxWWg65aanORdah4ZWxgcx2xWKS8YWwkZPOym4V83xjxVwpj+FOIsFhuKeG6uIxeTZjhqFOGd5bOU6tbDVKcIxhDFSnJuUkuWEZSeyTdkff8AhV4a+JmS+JXAecZh4bcfYbA5XxXkePxdetwhn9ClSw+EzChXqznWr5fChSioQb9pVnGnHeTSTP0a/aD8D/8ABUL9r79nbx14G+KnhHxN8TrHSvjl8HPFvwf1Nvh34X+FM154QHhD4/WHi/XNZ0mfS/CWraBdWBuPBVvreheL7W31LR72/tIrGK4g1CC7v/y7hfNfDHg7iDBZjl+YPATq5FnWCzujUxVbOIYfHxxuQVMHQw2KwdLEYfF0qqp4+dHFYOdSjWpU1KpKjNOEf6N8RuGvpFeKvA+bZFnmRQzunhuMuEs24QxWHy7B8LVcbk88o42o5rjMwy/NsRgcflmIwsq2SUsVl+a0MLisLiMRKFGOKoyjiJ+p/wDBHn4NfE74BftH3fgXUPhn8VtM0bWfhx4l174nfE/xN8MfHngzwPq3i7SbvRrHwZ4F8Iap4s8P6LLf6X4cstZ8U315ql5HZf8ACW67qLyabpb6R4U0fW9X8rxezrLuJckwebU81yydWjmlDC5VkmFzTLMdmGGy+vhcbVzDMsyp4DE4lU62Mr4fLqVPDxqThgaFGkqtVYvG4jD0PpfotcJZ94f8X5vwxiOG+IaWGxfDuNzLiPi/MOHOIcoyPMc7wWZZRhsjyDh+vnWW5a6+FyrBY7PcTWxtTDYetnGMxmJeGw8ssyjCY7F/Lf8AwVn+Jv8AwWK/Y5/4KM3Hxk0f9n74jf8ABS7/AIJL/E7QdL/4SD9kLQfhxoPxG8LeHbiXwFa+E/FvhjxbYaP8NfHfi7QrnTfG1ifih4X8SeJPD2teCdUh1yLwtNdfbLa+TT/53P7sPyw/Yi/YO+P/AO29/wAFsP2a/wBuT9nL/glj48/4JKfsjfAnxL4H8efETT/F+l+IvAmgeLdW8Ealr2sa7J4L8PeIfCXw+guNQ+KVtqGmfDe+8KfDHwo3gvQdBsbzWdavYby91KO4APmH9hH/AIeK/wDBNH9rT9uL4i3v/BCX9pz9tLQfjt8QPEFn4dXxr+zf8ZtP0Tw9YaL8S/Guu2viPw1qU3wA+I9pq0HiWz1y3Cz2UdhDJaW9tcR3V1FKixAH3n/wTB/4J5f8FBvjb/wU1/ax/wCCo/xY/Yf1P/gnv8I9e+BX7QNnoP7PVn4Yv/A9z4y8XfET4H3vwu0XwF4V+GNxp+ieLtRF1f5+Jvi3xDqXhHQNM1r4gRW8+j6c1/qy2elgH5s/B7/glD+3VqH/AAQo+O7y/sgftS+C/wBqT4Ff8FIfhR8efhN8OdT+BHxR0X4x+LfBupfC/wAP/C/xNqPgLwFqPhWHxX4m0zS9a13RfE2qX+g6TexafH4Fu7y4mitdL1FkANb4q/8ABLH9vG4/4IQ6H4j1P9kX9qDxh+19+0p/wVf1f48fFH4Z6Z8A/idf/GTQfh14d+B/xg8D6N4h8Z/Dux8LTeMNC0W88dar4r1uz1jV9Js9OuI/HujG2kKanYyXQB+uv/DH37Wf/RsX7QX/AIZ34h//ADN0Af/S/crxb4V/bI1f4o/FPRfDP7dnxJ8J22vfHv8AbP0bwFOfD2qa3L8OI9F8FaF420+2TTLj4i2nhfxVoGg6M83gzwP4Z1Pw7Z6X4IhkPi7RFXxy914guADyDxhd/tVx6pqHia2/bG+MVn4W8U+G/hH4v8G+ArLxH8QYLTwJ4YttK/Z08SeKvBlz4pPxOfxf40uvGOgnxP4ZuvHWt6xD4s0258X6x4ptLqTWXdroA6Px/wCDv+CgNvqFz4Rvf+Cj3jh9Z1nwN+0/4h0HxhoPws/4Ra58O3mjeGdI8IaC1x4e0v4nnw1rz6JpnwF8U6npgu9OtbTS/F/xr8YeMdFs9J17R9Du4gDr/ih4S/au+JusfCKy+H37cfxn+D+j6r+x78DI9VsLCbXfE93qHiO1/aPntvF3jm61mbx1o2py+MvG3h270nwrf69LPJqNloemXtrHc3Kaw62QBU0uz/bef4o/B9vEf7dnjHWNO8UeLfjR48j0bTfAt74Y0y38C6z4b0Kw0T4data6Z8S2t/EV54L/AOEHe88NeLL6GG0ttR8Y+MdSbwf/AGlf6beaMAefeE739sT4t6t4B0e4/ba+K/hfVZfh18OfCOu6t4dTXLSw1s+DPhn4++G3i3xMdAi8eQ21h4v+JPjSHSPizrHiO3um1PSNb0mPR9NuTaTteoAeyQ6X+2pH+zf8Q4/EH7cXi3WNf8U2X7Ki+CfFem+B9R8Ma78PtR8Kpr/wU+IV+dS0z4nvqniSH4t6/wCEdD+KviHTW1LRrW18STeItMuDrOm+IblogDD8XeG/2zNU/Z81vSfCH7e3xW8H/ELwv+1r+0HY+JfiZc+HU8UXni3whrPhTTtF0bwbY6Bf+LbSz8F6N4IGuprXhCDw/fC00nxJpdpq0ViPOvrW7AK/j3wr+1xZ+BPEfj7xR+3D8V9S1qLWtI8UJB4K/wCEy+Gukx+E/ih4q+E/xmi8Dw6Ro/xV1LTLY+EbH4j+KPhlofii3tI9UPgZNA097dI9AtbdwDP8LfC/9t+78R6O/ir/AIKFePPF3h7w3Z3Hia90nUPhzLpusXkvjHRdU+BWnw6F4u8P/E3SdY8K3PhuD4qap43g1a1W+1DUfE+ieHTNLb2llJFOAdp4s8C/ti/2/r/w18Cft2fEfwrrHjD4UaDaeBfG2v6H4l8eXPwzXw18RtIg8bXyaDqfxW07TfHHiDx9ZanY2kHijxXJc+I/BcOmS2uh6pNpmsappsoB+i3/AA038Xf7nw+/8JjX/wD5tqAP/9k=)"
      ],
      "metadata": {
        "id": "-DJbdwRMdYaI"
      }
    },
    {
      "cell_type": "markdown",
      "source": [
        "---\n",
        "## Introdução (Exemplo 2)\n",
        "\n",
        "**Objetivo:** resolver o mesmo problema de classificação de um dígito manuscrito, porém usando o Keras.\n",
        "\n",
        "Mas, o que é o Keras? Segundo sua própria definição é:\n",
        "\n",
        "\"A `tf.keras` é a API de alto nível do TensorFlow para criar e treinar modelos de aprendizado profundo. Ela é usada para prototipagem rápida, pesquisa de ponta e produção, com três principais vantagens:\n",
        "\n",
        "* Fácil de usar:\n",
        "A Keras tem uma interface simples e consistente otimizada para os casos de uso comuns. Ela fornece feedback claro e prático para os erros do usuário.\n",
        "* Os modelos modulares e compostos:\n",
        "da Keras são feitos conectando elementos configuráveis, com poucas restrições.\n",
        "* Fácil de estender:\n",
        "Desenvolva elementos personalizados que expressem novas ideias para pesquisa. Crie novas camadas, métricas e funções de perda e desenvolva modelos de última geração.\"\n",
        "\n",
        "No site do Keras/Tensorflow é possível encontrar vários exemplos de problemas resolvidos: https://www.tensorflow.org/guide/keras?hl=pt-br."
      ],
      "metadata": {
        "id": "lv4DrHhGdbnH"
      }
    },
    {
      "cell_type": "markdown",
      "source": [
        "---\n",
        "Começamos da mesma forma, importando as bibliotecas necessárias para o trabalho. Perceba que além do `numpy` estamos importando métodos do `Keras`, `scikit-learn` e `seaborn`."
      ],
      "metadata": {
        "id": "r9Q0GuYAsVDU"
      }
    },
    {
      "cell_type": "code",
      "execution_count": null,
      "metadata": {
        "id": "0YUo_Pmoqkha"
      },
      "outputs": [],
      "source": [
        "# importa o necessário\n",
        "import numpy as np\n",
        "import matplotlib.pyplot as plt\n",
        "from keras.layers import Dense, Flatten\n",
        "from keras.models import Sequential\n",
        "from keras.utils import to_categorical\n",
        "from keras.datasets import mnist #enorme banco de dados de digitos manuscritos\n",
        "from sklearn.metrics import confusion_matrix # outra api de ml em python\n",
        "import seaborn as sns # biblioteca para visualizacao estatistica no python"
      ]
    },
    {
      "cell_type": "markdown",
      "source": [
        "---\n",
        "No `Keras` os dados do MNIST já estão presentes, então carregamos eles diretamente."
      ],
      "metadata": {
        "id": "VffvEAFUswSZ"
      }
    },
    {
      "cell_type": "code",
      "source": [
        "# carregar o banco de dados\n",
        "(X_train, y_train), (X_test, y_test) = mnist.load_data()"
      ],
      "metadata": {
        "id": "_aRYUWmjrPIx",
        "colab": {
          "base_uri": "https://localhost:8080/"
        },
        "outputId": "63f4d131-fa8b-4e12-8132-9e8a8231be02"
      },
      "execution_count": null,
      "outputs": [
        {
          "output_type": "stream",
          "name": "stdout",
          "text": [
            "Downloading data from https://storage.googleapis.com/tensorflow/tf-keras-datasets/mnist.npz\n",
            "\u001b[1m11490434/11490434\u001b[0m \u001b[32m━━━━━━━━━━━━━━━━━━━━\u001b[0m\u001b[37m\u001b[0m \u001b[1m2s\u001b[0m 0us/step\n"
          ]
        }
      ]
    },
    {
      "cell_type": "markdown",
      "source": [
        "---\n",
        "Vamos dar uma analisada nos dados."
      ],
      "metadata": {
        "id": "i0msWXQus5R9"
      }
    },
    {
      "cell_type": "code",
      "source": [
        "# imprime o formato das matrizes\n",
        "print(X_train.shape, y_train.shape)\n",
        "print(X_test.shape, y_test.shape)"
      ],
      "metadata": {
        "colab": {
          "base_uri": "https://localhost:8080/"
        },
        "id": "6c-1oCRqrbxG",
        "outputId": "7bd94f0f-8fc7-4d28-a26f-0c3709bfef16"
      },
      "execution_count": null,
      "outputs": [
        {
          "output_type": "stream",
          "name": "stdout",
          "text": [
            "(60000, 28, 28) (60000,)\n",
            "(10000, 28, 28) (10000,)\n"
          ]
        }
      ]
    },
    {
      "cell_type": "markdown",
      "source": [
        "Note que os dados de treino e teste já estão separados. Além disso, temos um conjunto bem maior de informação. São 70 mil imagens ao total.\n",
        "\n",
        "Outra informação relevante é que aqui as matrizes das imagens não estão empilhadas. Elas estão no seu formato original $28\\times 28$.\n",
        "\n",
        "---"
      ],
      "metadata": {
        "id": "7vEGMQtHtANV"
      }
    },
    {
      "cell_type": "markdown",
      "source": [
        "Aqui vamos apenas visualizar os dígitos manuscritos que estão presentes no conjunto de dados. É esperado que vamos ver figuras semelhantes aquelas que vimos anteriormente."
      ],
      "metadata": {
        "id": "vrZ1EOwstcLZ"
      }
    },
    {
      "cell_type": "code",
      "source": [
        "# Vamos visualizar um exemplo para cada dígito usando um loop for e um subplot matplotlib\n",
        "num_classes = 10\n",
        "\n",
        "# Cria um subplot\n",
        "fig, ax = plt.subplots(1, num_classes, figsize=(20,20)) # 1 linha, 10 colunas (num_classes)\n",
        "\n",
        "# Loop através de 10 classes do dataset de treinamento e adiciona um label pra cada dataset de teste\n",
        "for i in range(num_classes):\n",
        "  sample = X_train[y_train == i][0]\n",
        "  ax[i].imshow(sample, cmap=\"gray\")\n",
        "  ax[i].set_title(f\"Rótulo: {i}\")\n",
        "  ax[i].get_xaxis().set_visible(False)\n",
        "  ax[i].get_yaxis().set_visible(False)"
      ],
      "metadata": {
        "colab": {
          "base_uri": "https://localhost:8080/",
          "height": 155
        },
        "id": "LgBzejMvrgKx",
        "outputId": "55542d7c-4688-453e-8295-c1f85d0d9903"
      },
      "execution_count": null,
      "outputs": [
        {
          "output_type": "display_data",
          "data": {
            "text/plain": [
              "<Figure size 2000x2000 with 10 Axes>"
            ],
            "image/png": "[encoded data removed]"
          },
          "metadata": {}
        }
      ]
    },
    {
      "cell_type": "markdown",
      "source": [
        "---\n",
        "O `Keras` já possui um método que é capaz de transformar a informação numérica dos rótulos para o formato categórico."
      ],
      "metadata": {
        "id": "_tNR7l4ctpqw"
      }
    },
    {
      "cell_type": "code",
      "source": [
        "# Converte y_train no formato categórico\n",
        "temp = []\n",
        "for i in range(len(y_train)):\n",
        "    temp.append(to_categorical(y_train[i], num_classes=10))\n",
        "y_train = np.array(temp)\n",
        "\n",
        "# Converte y_test no formato categórico\n",
        "temp = []\n",
        "for i in range(len(y_test)):\n",
        "    temp.append(to_categorical(y_test[i], num_classes=10))\n",
        "y_test = np.array(temp)\n",
        "\n",
        "# Mostra como a forma do y_train e y_test mudou\n",
        "print(y_train.shape)\n",
        "print(y_test.shape)"
      ],
      "metadata": {
        "colab": {
          "base_uri": "https://localhost:8080/"
        },
        "id": "s0rRM_H9r8c_",
        "outputId": "c7eda37a-2c1b-4b50-b5c5-2932179659be"
      },
      "execution_count": null,
      "outputs": [
        {
          "output_type": "stream",
          "name": "stdout",
          "text": [
            "(60000, 10)\n",
            "(10000, 10)\n"
          ]
        }
      ]
    },
    {
      "cell_type": "markdown",
      "source": [
        "---\n",
        "Vamos conferir agora se os dados precisam de alguma normalização."
      ],
      "metadata": {
        "id": "NX6dngLWt_l-"
      }
    },
    {
      "cell_type": "code",
      "source": [
        "# observem que os dados são matrizes 28x28 com valores inteiros entre 0 e 255\n",
        "X_train[0]\n"
      ],
      "metadata": {
        "colab": {
          "base_uri": "https://localhost:8080/",
          "height": 69
        },
        "id": "9klOQ-tysn2z",
        "outputId": "7a1843e4-860a-41ce-ff1e-1d49c5f50369"
      },
      "execution_count": null,
      "outputs": [
        {
          "output_type": "execute_result",
          "data": {
            "text/plain": [
              "array([[  0,   0,   0,   0,   0,   0,   0,   0,   0,   0,   0,   0,   0,\n",
              "          0,   0,   0,   0,   0,   0,   0,   0,   0,   0,   0,   0,   0,\n",
              "          0,   0],\n",
              "       [  0,   0,   0,   0,   0,   0,   0,   0,   0,   0,   0,   0,   0,\n",
              "          0,   0,   0,   0,   0,   0,   0,   0,   0,   0,   0,   0,   0,\n",
              "          0,   0],\n",
              "       [  0,   0,   0,   0,   0,   0,   0,   0,   0,   0,   0,   0,   0,\n",
              "          0,   0,   0,   0,   0,   0,   0,   0,   0,   0,   0,   0,   0,\n",
              "          0,   0],\n",
              "       [  0,   0,   0,   0,   0,   0,   0,   0,   0,   0,   0,   0,   0,\n",
              "          0,   0,   0,   0,   0,   0,   0,   0,   0,   0,   0,   0,   0,\n",
              "          0,   0],\n",
              "       [  0,   0,   0,   0,   0,   0,   0,   0,   0,   0,   0,   0,   0,\n",
              "          0,   0,   0,   0,   0,   0,   0,   0,   0,   0,   0,   0,   0,\n",
              "          0,   0],\n",
              "       [  0,   0,   0,   0,   0,   0,   0,   0,   0,   0,   0,   0,   3,\n",
              "         18,  18,  18, 126, 136, 175,  26, 166, 255, 247, 127,   0,   0,\n",
              "          0,   0],\n",
              "       [  0,   0,   0,   0,   0,   0,   0,   0,  30,  36,  94, 154, 170,\n",
              "        253, 253, 253, 253, 253, 225, 172, 253, 242, 195,  64,   0,   0,\n",
              "          0,   0],\n",
              "       [  0,   0,   0,   0,   0,   0,   0,  49, 238, 253, 253, 253, 253,\n",
              "        253, 253, 253, 253, 251,  93,  82,  82,  56,  39,   0,   0,   0,\n",
              "          0,   0],\n",
              "       [  0,   0,   0,   0,   0,   0,   0,  18, 219, 253, 253, 253, 253,\n",
              "        253, 198, 182, 247, 241,   0,   0,   0,   0,   0,   0,   0,   0,\n",
              "          0,   0],\n",
              "       [  0,   0,   0,   0,   0,   0,   0,   0,  80, 156, 107, 253, 253,\n",
              "        205,  11,   0,  43, 154,   0,   0,   0,   0,   0,   0,   0,   0,\n",
              "          0,   0],\n",
              "       [  0,   0,   0,   0,   0,   0,   0,   0,   0,  14,   1, 154, 253,\n",
              "         90,   0,   0,   0,   0,   0,   0,   0,   0,   0,   0,   0,   0,\n",
              "          0,   0],\n",
              "       [  0,   0,   0,   0,   0,   0,   0,   0,   0,   0,   0, 139, 253,\n",
              "        190,   2,   0,   0,   0,   0,   0,   0,   0,   0,   0,   0,   0,\n",
              "          0,   0],\n",
              "       [  0,   0,   0,   0,   0,   0,   0,   0,   0,   0,   0,  11, 190,\n",
              "        253,  70,   0,   0,   0,   0,   0,   0,   0,   0,   0,   0,   0,\n",
              "          0,   0],\n",
              "       [  0,   0,   0,   0,   0,   0,   0,   0,   0,   0,   0,   0,  35,\n",
              "        241, 225, 160, 108,   1,   0,   0,   0,   0,   0,   0,   0,   0,\n",
              "          0,   0],\n",
              "       [  0,   0,   0,   0,   0,   0,   0,   0,   0,   0,   0,   0,   0,\n",
              "         81, 240, 253, 253, 119,  25,   0,   0,   0,   0,   0,   0,   0,\n",
              "          0,   0],\n",
              "       [  0,   0,   0,   0,   0,   0,   0,   0,   0,   0,   0,   0,   0,\n",
              "          0,  45, 186, 253, 253, 150,  27,   0,   0,   0,   0,   0,   0,\n",
              "          0,   0],\n",
              "       [  0,   0,   0,   0,   0,   0,   0,   0,   0,   0,   0,   0,   0,\n",
              "          0,   0,  16,  93, 252, 253, 187,   0,   0,   0,   0,   0,   0,\n",
              "          0,   0],\n",
              "       [  0,   0,   0,   0,   0,   0,   0,   0,   0,   0,   0,   0,   0,\n",
              "          0,   0,   0,   0, 249, 253, 249,  64,   0,   0,   0,   0,   0,\n",
              "          0,   0],\n",
              "       [  0,   0,   0,   0,   0,   0,   0,   0,   0,   0,   0,   0,   0,\n",
              "          0,  46, 130, 183, 253, 253, 207,   2,   0,   0,   0,   0,   0,\n",
              "          0,   0],\n",
              "       [  0,   0,   0,   0,   0,   0,   0,   0,   0,   0,   0,   0,  39,\n",
              "        148, 229, 253, 253, 253, 250, 182,   0,   0,   0,   0,   0,   0,\n",
              "          0,   0],\n",
              "       [  0,   0,   0,   0,   0,   0,   0,   0,   0,   0,  24, 114, 221,\n",
              "        253, 253, 253, 253, 201,  78,   0,   0,   0,   0,   0,   0,   0,\n",
              "          0,   0],\n",
              "       [  0,   0,   0,   0,   0,   0,   0,   0,  23,  66, 213, 253, 253,\n",
              "        253, 253, 198,  81,   2,   0,   0,   0,   0,   0,   0,   0,   0,\n",
              "          0,   0],\n",
              "       [  0,   0,   0,   0,   0,   0,  18, 171, 219, 253, 253, 253, 253,\n",
              "        195,  80,   9,   0,   0,   0,   0,   0,   0,   0,   0,   0,   0,\n",
              "          0,   0],\n",
              "       [  0,   0,   0,   0,  55, 172, 226, 253, 253, 253, 253, 244, 133,\n",
              "         11,   0,   0,   0,   0,   0,   0,   0,   0,   0,   0,   0,   0,\n",
              "          0,   0],\n",
              "       [  0,   0,   0,   0, 136, 253, 253, 253, 212, 135, 132,  16,   0,\n",
              "          0,   0,   0,   0,   0,   0,   0,   0,   0,   0,   0,   0,   0,\n",
              "          0,   0],\n",
              "       [  0,   0,   0,   0,   0,   0,   0,   0,   0,   0,   0,   0,   0,\n",
              "          0,   0,   0,   0,   0,   0,   0,   0,   0,   0,   0,   0,   0,\n",
              "          0,   0],\n",
              "       [  0,   0,   0,   0,   0,   0,   0,   0,   0,   0,   0,   0,   0,\n",
              "          0,   0,   0,   0,   0,   0,   0,   0,   0,   0,   0,   0,   0,\n",
              "          0,   0],\n",
              "       [  0,   0,   0,   0,   0,   0,   0,   0,   0,   0,   0,   0,   0,\n",
              "          0,   0,   0,   0,   0,   0,   0,   0,   0,   0,   0,   0,   0,\n",
              "          0,   0]], dtype=uint8)"
            ],
            "text/html": [
              "<style>\n",
              "      .ndarray_repr .ndarray_raw_data {\n",
              "        display: none;\n",
              "      }\n",
              "      .ndarray_repr.show_array .ndarray_raw_data {\n",
              "        display: block;\n",
              "      }\n",
              "      .ndarray_repr.show_array .ndarray_image_preview {\n",
              "        display: none;\n",
              "      }\n",
              "      </style>\n",
              "      <div id=\"id-afc2e749-8b7d-4089-8def-10f139b3de64\" class=\"ndarray_repr\"><pre>ndarray (28, 28) <button style=\"padding: 0 2px;\">show data</button></pre><img src=\"data:image/png;base64,iVBORw0KGgoAAAANSUhEUgAAABwAAAAcCAAAAABXZoBIAAABAElEQVR4nGNgGMyAWUhIqK5jvdSy/9/rGRgYGFhgEnJsVjYCwQwMDAxPJgV+vniQgYGBgREqZ7iXH8r6l/SV4dn7m8gmCt3++/fv37/Htn3/iMW+gDnZf/+e5WbQnoXNNXyMs/5GoQoxwVmf/n9kSGFiwAW49/11wynJoPzx4YIcRlyygR/+/i2XxCWru+vv32nSuGQFYv/83Y3b4p9/fzpAmSyoMnohpiwM1w5h06Q+5enfv39/bcMiJVF09+/fv39P+mFKiTtd/fv3799jgZiBJLT69t+/f/8eDuDEkDJf8+jv379/v7Ryo4qzMDAwMAQGMjBc3/y35wM2V1IfAABFF16Aa0wAOwAAAABJRU5ErkJggg==\" class=\"ndarray_image_preview\" /><pre class=\"ndarray_raw_data\">array([[  0,   0,   0,   0,   0,   0,   0,   0,   0,   0,   0,   0,   0,\n",
              "          0,   0,   0,   0,   0,   0,   0,   0,   0,   0,   0,   0,   0,\n",
              "          0,   0],\n",
              "       [  0,   0,   0,   0,   0,   0,   0,   0,   0,   0,   0,   0,   0,\n",
              "          0,   0,   0,   0,   0,   0,   0,   0,   0,   0,   0,   0,   0,\n",
              "          0,   0],\n",
              "       [  0,   0,   0,   0,   0,   0,   0,   0,   0,   0,   0,   0,   0,\n",
              "          0,   0,   0,   0,   0,   0,   0,   0,   0,   0,   0,   0,   0,\n",
              "          0,   0],\n",
              "       [  0,   0,   0,   0,   0,   0,   0,   0,   0,   0,   0,   0,   0,\n",
              "          0,   0,   0,   0,   0,   0,   0,   0,   0,   0,   0,   0,   0,\n",
              "          0,   0],\n",
              "       [  0,   0,   0,   0,   0,   0,   0,   0,   0,   0,   0,   0,   0,\n",
              "          0,   0,   0,   0,   0,   0,   0,   0,   0,   0,   0,   0,   0,\n",
              "          0,   0],\n",
              "       [  0,   0,   0,   0,   0,   0,   0,   0,   0,   0,   0,   0,   3,\n",
              "         18,  18,  18, 126, 136, 175,  26, 166, 255, 247, 127,   0,   0,\n",
              "          0,   0],\n",
              "       [  0,   0,   0,   0,   0,   0,   0,   0,  30,  36,  94, 154, 170,\n",
              "        253, 253, 253, 253, 253, 225, 172, 253, 242, 195,  64,   0,   0,\n",
              "          0,   0],\n",
              "       [  0,   0,   0,   0,   0,   0,   0,  49, 238, 253, 253, 253, 253,\n",
              "        253, 253, 253, 253, 251,  93,  82,  82,  56,  39,   0,   0,   0,\n",
              "          0,   0],\n",
              "       [  0,   0,   0,   0,   0,   0,   0,  18, 219, 253, 253, 253, 253,\n",
              "        253, 198, 182, 247, 241,   0,   0,   0,   0,   0,   0,   0,   0,\n",
              "          0,   0],\n",
              "       [  0,   0,   0,   0,   0,   0,   0,   0,  80, 156, 107, 253, 253,\n",
              "        205,  11,   0,  43, 154,   0,   0,   0,   0,   0,   0,   0,   0,\n",
              "          0,   0],\n",
              "       [  0,   0,   0,   0,   0,   0,   0,   0,   0,  14,   1, 154, 253,\n",
              "         90,   0,   0,   0,   0,   0,   0,   0,   0,   0,   0,   0,   0,\n",
              "          0,   0],\n",
              "       [  0,   0,   0,   0,   0,   0,   0,   0,   0,   0,   0, 139, 253,\n",
              "        190,   2,   0,   0,   0,   0,   0,   0,   0,   0,   0,   0,   0,\n",
              "          0,   0],\n",
              "       [  0,   0,   0,   0,   0,   0,   0,   0,   0,   0,   0,  11, 190,\n",
              "        253,  70,   0,   0,   0,   0,   0,   0,   0,   0,   0,   0,   0,\n",
              "          0,   0],\n",
              "       [  0,   0,   0,   0,   0,   0,   0,   0,   0,   0,   0,   0,  35,\n",
              "        241, 225, 160, 108,   1,   0,   0,   0,   0,   0,   0,   0,   0,\n",
              "          0,   0],\n",
              "       [  0,   0,   0,   0,   0,   0,   0,   0,   0,   0,   0,   0,   0,\n",
              "         81, 240, 253, 253, 119,  25,   0,   0,   0,   0,   0,   0,   0,\n",
              "          0,   0],\n",
              "       [  0,   0,   0,   0,   0,   0,   0,   0,   0,   0,   0,   0,   0,\n",
              "          0,  45, 186, 253, 253, 150,  27,   0,   0,   0,   0,   0,   0,\n",
              "          0,   0],\n",
              "       [  0,   0,   0,   0,   0,   0,   0,   0,   0,   0,   0,   0,   0,\n",
              "          0,   0,  16,  93, 252, 253, 187,   0,   0,   0,   0,   0,   0,\n",
              "          0,   0],\n",
              "       [  0,   0,   0,   0,   0,   0,   0,   0,   0,   0,   0,   0,   0,\n",
              "          0,   0,   0,   0, 249, 253, 249,  64,   0,   0,   0,   0,   0,\n",
              "          0,   0],\n",
              "       [  0,   0,   0,   0,   0,   0,   0,   0,   0,   0,   0,   0,   0,\n",
              "          0,  46, 130, 183, 253, 253, 207,   2,   0,   0,   0,   0,   0,\n",
              "          0,   0],\n",
              "       [  0,   0,   0,   0,   0,   0,   0,   0,   0,   0,   0,   0,  39,\n",
              "        148, 229, 253, 253, 253, 250, 182,   0,   0,   0,   0,   0,   0,\n",
              "          0,   0],\n",
              "       [  0,   0,   0,   0,   0,   0,   0,   0,   0,   0,  24, 114, 221,\n",
              "        253, 253, 253, 253, 201,  78,   0,   0,   0,   0,   0,   0,   0,\n",
              "          0,   0],\n",
              "       [  0,   0,   0,   0,   0,   0,   0,   0,  23,  66, 213, 253, 253,\n",
              "        253, 253, 198,  81,   2,   0,   0,   0,   0,   0,   0,   0,   0,\n",
              "          0,   0],\n",
              "       [  0,   0,   0,   0,   0,   0,  18, 171, 219, 253, 253, 253, 253,\n",
              "        195,  80,   9,   0,   0,   0,   0,   0,   0,   0,   0,   0,   0,\n",
              "          0,   0],\n",
              "       [  0,   0,   0,   0,  55, 172, 226, 253, 253, 253, 253, 244, 133,\n",
              "         11,   0,   0,   0,   0,   0,   0,   0,   0,   0,   0,   0,   0,\n",
              "          0,   0],\n",
              "       [  0,   0,   0,   0, 136, 253, 253, 253, 212, 135, 132,  16,   0,\n",
              "          0,   0,   0,   0,   0,   0,   0,   0,   0,   0,   0,   0,   0,\n",
              "          0,   0],\n",
              "       [  0,   0,   0,   0,   0,   0,   0,   0,   0,   0,   0,   0,   0,\n",
              "          0,   0,   0,   0,   0,   0,   0,   0,   0,   0,   0,   0,   0,\n",
              "          0,   0],\n",
              "       [  0,   0,   0,   0,   0,   0,   0,   0,   0,   0,   0,   0,   0,\n",
              "          0,   0,   0,   0,   0,   0,   0,   0,   0,   0,   0,   0,   0,\n",
              "          0,   0],\n",
              "       [  0,   0,   0,   0,   0,   0,   0,   0,   0,   0,   0,   0,   0,\n",
              "          0,   0,   0,   0,   0,   0,   0,   0,   0,   0,   0,   0,   0,\n",
              "          0,   0]], dtype=uint8)</pre></div><script>\n",
              "      (() => {\n",
              "      const titles = ['show data', 'hide data'];\n",
              "      let index = 0\n",
              "      document.querySelector('#id-afc2e749-8b7d-4089-8def-10f139b3de64 button').onclick = (e) => {\n",
              "        document.querySelector('#id-afc2e749-8b7d-4089-8def-10f139b3de64').classList.toggle('show_array');\n",
              "        index = (++index) % 2;\n",
              "        document.querySelector('#id-afc2e749-8b7d-4089-8def-10f139b3de64 button').textContent = titles[index];\n",
              "        e.preventDefault();\n",
              "        e.stopPropagation();\n",
              "      }\n",
              "      })();\n",
              "    </script>"
            ]
          },
          "metadata": {},
          "execution_count": 6
        }
      ]
    },
    {
      "cell_type": "markdown",
      "source": [
        "---\n",
        "Precisa sim! Vamos fazê-la abaixo."
      ],
      "metadata": {
        "id": "MP8XGnlOuEXU"
      }
    },
    {
      "cell_type": "code",
      "source": [
        "# normaliza as imagens\n",
        "X_train = X_train/255\n",
        "X_test = X_test/255"
      ],
      "metadata": {
        "id": "eXbgHXOcs7YT"
      },
      "execution_count": null,
      "outputs": []
    },
    {
      "cell_type": "markdown",
      "source": [
        "---\n",
        "Finalmente, vamos utilizar a estrutura do `Keras` para construir a rede neural. Essa construção é através do método `Sequential()`. A partir da construção do modelo podemos adicionar as camadas que comporão a rede neural."
      ],
      "metadata": {
        "id": "n1Ry0HIzuJ_j"
      }
    },
    {
      "cell_type": "code",
      "source": [
        "# cria a rede\n",
        "model = Sequential()\n",
        "model.add(Flatten(input_shape=(28,28))) # flatten serve para transformar a figura no seu formato original em um vetor empilhado\n",
        "model.add(Dense(128, activation='relu')) # dense são as camadas escondidas\n",
        "model.add(Dense(128, activation='relu'))\n",
        "model.add(Dense(10, activation='softmax'))"
      ],
      "metadata": {
        "id": "YW7nLebBtQTE",
        "colab": {
          "base_uri": "https://localhost:8080/"
        },
        "outputId": "d932792e-ec40-4734-f32e-8a84ec528f38"
      },
      "execution_count": null,
      "outputs": [
        {
          "output_type": "stream",
          "name": "stderr",
          "text": [
            "/usr/local/lib/python3.10/dist-packages/keras/src/layers/reshaping/flatten.py:37: UserWarning: Do not pass an `input_shape`/`input_dim` argument to a layer. When using Sequential models, prefer using an `Input(shape)` object as the first layer in the model instead.\n",
            "  super().__init__(**kwargs)\n"
          ]
        }
      ]
    },
    {
      "cell_type": "markdown",
      "source": [
        "---\n",
        "O método `summary()` vai mostras detalhes sobre essa rede construída."
      ],
      "metadata": {
        "id": "-S8xninSvaYK"
      }
    },
    {
      "cell_type": "code",
      "source": [
        "# Mostra um resumo da rede construída\n",
        "model.summary()"
      ],
      "metadata": {
        "colab": {
          "base_uri": "https://localhost:8080/",
          "height": 257
        },
        "id": "k8wN-a5Ftywa",
        "outputId": "cfbdd9da-a889-4929-c67e-31c7153b018d"
      },
      "execution_count": null,
      "outputs": [
        {
          "output_type": "display_data",
          "data": {
            "text/plain": [
              "\u001b[1mModel: \"sequential\"\u001b[0m\n"
            ],
            "text/html": [
              "<pre style=\"white-space:pre;overflow-x:auto;line-height:normal;font-family:Menlo,'DejaVu Sans Mono',consolas,'Courier New',monospace\"><span style=\"font-weight: bold\">Model: \"sequential\"</span>\n",
              "</pre>\n"
            ]
          },
          "metadata": {}
        },
        {
          "output_type": "display_data",
          "data": {
            "text/plain": [
              "┏━━━━━━━━━━━━━━━━━━━━━━━━━━━━━━━━━━━━━━┳━━━━━━━━━━━━━━━━━━━━━━━━━━━━━┳━━━━━━━━━━━━━━━━━┓\n",
              "┃\u001b[1m \u001b[0m\u001b[1mLayer (type)                        \u001b[0m\u001b[1m \u001b[0m┃\u001b[1m \u001b[0m\u001b[1mOutput Shape               \u001b[0m\u001b[1m \u001b[0m┃\u001b[1m \u001b[0m\u001b[1m        Param #\u001b[0m\u001b[1m \u001b[0m┃\n",
              "┡━━━━━━━━━━━━━━━━━━━━━━━━━━━━━━━━━━━━━━╇━━━━━━━━━━━━━━━━━━━━━━━━━━━━━╇━━━━━━━━━━━━━━━━━┩\n",
              "│ flatten (\u001b[38;5;33mFlatten\u001b[0m)                    │ (\u001b[38;5;45mNone\u001b[0m, \u001b[38;5;34m784\u001b[0m)                 │               \u001b[38;5;34m0\u001b[0m │\n",
              "├──────────────────────────────────────┼─────────────────────────────┼─────────────────┤\n",
              "│ dense (\u001b[38;5;33mDense\u001b[0m)                        │ (\u001b[38;5;45mNone\u001b[0m, \u001b[38;5;34m128\u001b[0m)                 │         \u001b[38;5;34m100,480\u001b[0m │\n",
              "├──────────────────────────────────────┼─────────────────────────────┼─────────────────┤\n",
              "│ dense_1 (\u001b[38;5;33mDense\u001b[0m)                      │ (\u001b[38;5;45mNone\u001b[0m, \u001b[38;5;34m128\u001b[0m)                 │          \u001b[38;5;34m16,512\u001b[0m │\n",
              "├──────────────────────────────────────┼─────────────────────────────┼─────────────────┤\n",
              "│ dense_2 (\u001b[38;5;33mDense\u001b[0m)                      │ (\u001b[38;5;45mNone\u001b[0m, \u001b[38;5;34m10\u001b[0m)                  │           \u001b[38;5;34m1,290\u001b[0m │\n",
              "└──────────────────────────────────────┴─────────────────────────────┴─────────────────┘\n"
            ],
            "text/html": [
              "<pre style=\"white-space:pre;overflow-x:auto;line-height:normal;font-family:Menlo,'DejaVu Sans Mono',consolas,'Courier New',monospace\">┏━━━━━━━━━━━━━━━━━━━━━━━━━━━━━━━━━━━━━━┳━━━━━━━━━━━━━━━━━━━━━━━━━━━━━┳━━━━━━━━━━━━━━━━━┓\n",
              "┃<span style=\"font-weight: bold\"> Layer (type)                         </span>┃<span style=\"font-weight: bold\"> Output Shape                </span>┃<span style=\"font-weight: bold\">         Param # </span>┃\n",
              "┡━━━━━━━━━━━━━━━━━━━━━━━━━━━━━━━━━━━━━━╇━━━━━━━━━━━━━━━━━━━━━━━━━━━━━╇━━━━━━━━━━━━━━━━━┩\n",
              "│ flatten (<span style=\"color: #0087ff; text-decoration-color: #0087ff\">Flatten</span>)                    │ (<span style=\"color: #00d7ff; text-decoration-color: #00d7ff\">None</span>, <span style=\"color: #00af00; text-decoration-color: #00af00\">784</span>)                 │               <span style=\"color: #00af00; text-decoration-color: #00af00\">0</span> │\n",
              "├──────────────────────────────────────┼─────────────────────────────┼─────────────────┤\n",
              "│ dense (<span style=\"color: #0087ff; text-decoration-color: #0087ff\">Dense</span>)                        │ (<span style=\"color: #00d7ff; text-decoration-color: #00d7ff\">None</span>, <span style=\"color: #00af00; text-decoration-color: #00af00\">128</span>)                 │         <span style=\"color: #00af00; text-decoration-color: #00af00\">100,480</span> │\n",
              "├──────────────────────────────────────┼─────────────────────────────┼─────────────────┤\n",
              "│ dense_1 (<span style=\"color: #0087ff; text-decoration-color: #0087ff\">Dense</span>)                      │ (<span style=\"color: #00d7ff; text-decoration-color: #00d7ff\">None</span>, <span style=\"color: #00af00; text-decoration-color: #00af00\">128</span>)                 │          <span style=\"color: #00af00; text-decoration-color: #00af00\">16,512</span> │\n",
              "├──────────────────────────────────────┼─────────────────────────────┼─────────────────┤\n",
              "│ dense_2 (<span style=\"color: #0087ff; text-decoration-color: #0087ff\">Dense</span>)                      │ (<span style=\"color: #00d7ff; text-decoration-color: #00d7ff\">None</span>, <span style=\"color: #00af00; text-decoration-color: #00af00\">10</span>)                  │           <span style=\"color: #00af00; text-decoration-color: #00af00\">1,290</span> │\n",
              "└──────────────────────────────────────┴─────────────────────────────┴─────────────────┘\n",
              "</pre>\n"
            ]
          },
          "metadata": {}
        },
        {
          "output_type": "display_data",
          "data": {
            "text/plain": [
              "\u001b[1m Total params: \u001b[0m\u001b[38;5;34m118,282\u001b[0m (462.04 KB)\n"
            ],
            "text/html": [
              "<pre style=\"white-space:pre;overflow-x:auto;line-height:normal;font-family:Menlo,'DejaVu Sans Mono',consolas,'Courier New',monospace\"><span style=\"font-weight: bold\"> Total params: </span><span style=\"color: #00af00; text-decoration-color: #00af00\">118,282</span> (462.04 KB)\n",
              "</pre>\n"
            ]
          },
          "metadata": {}
        },
        {
          "output_type": "display_data",
          "data": {
            "text/plain": [
              "\u001b[1m Trainable params: \u001b[0m\u001b[38;5;34m118,282\u001b[0m (462.04 KB)\n"
            ],
            "text/html": [
              "<pre style=\"white-space:pre;overflow-x:auto;line-height:normal;font-family:Menlo,'DejaVu Sans Mono',consolas,'Courier New',monospace\"><span style=\"font-weight: bold\"> Trainable params: </span><span style=\"color: #00af00; text-decoration-color: #00af00\">118,282</span> (462.04 KB)\n",
              "</pre>\n"
            ]
          },
          "metadata": {}
        },
        {
          "output_type": "display_data",
          "data": {
            "text/plain": [
              "\u001b[1m Non-trainable params: \u001b[0m\u001b[38;5;34m0\u001b[0m (0.00 B)\n"
            ],
            "text/html": [
              "<pre style=\"white-space:pre;overflow-x:auto;line-height:normal;font-family:Menlo,'DejaVu Sans Mono',consolas,'Courier New',monospace\"><span style=\"font-weight: bold\"> Non-trainable params: </span><span style=\"color: #00af00; text-decoration-color: #00af00\">0</span> (0.00 B)\n",
              "</pre>\n"
            ]
          },
          "metadata": {}
        }
      ]
    },
    {
      "cell_type": "markdown",
      "source": [
        "---\n",
        "Agora, com o método `compile()` vamos informar detalhes sobre a otimização. Por exemplo, qual tipo de função de perda, qual otimizador, qual a métrica de qualidade. Neste caso, estamos usando a entropia cruzada, o otimizador ADAM e a métrica é a acurácia."
      ],
      "metadata": {
        "id": "nKCg-zDcvkGp"
      }
    },
    {
      "cell_type": "code",
      "source": [
        "# Define o otimizador, a função de perda (é o erro que se deseja minimizar) e a métrica de qualidade\n",
        "model.compile(loss='categorical_crossentropy',\n",
        "\t      optimizer='adam',\n",
        "\t      metrics=['acc'])"
      ],
      "metadata": {
        "id": "l2MxxN_9uEC-"
      },
      "execution_count": null,
      "outputs": []
    },
    {
      "cell_type": "markdown",
      "source": [
        "---\n",
        "Finalmente, vamos colocar o modelo para otimizar com o método `fit()`. Observem aqui que colocamos 10 épocas, isso é, 10 repetições entre as passagens pra frente e pra trás."
      ],
      "metadata": {
        "id": "VX8FNgKYv84V"
      }
    },
    {
      "cell_type": "code",
      "source": [
        "epochs = 10\n",
        "model.fit(X_train, y_train, epochs=epochs, validation_data=(X_test,y_test))"
      ],
      "metadata": {
        "colab": {
          "base_uri": "https://localhost:8080/"
        },
        "id": "58waYpUsufVA",
        "outputId": "adaec8e8-4d5f-483c-cd08-0afb5be3fe0f"
      },
      "execution_count": null,
      "outputs": [
        {
          "output_type": "stream",
          "name": "stdout",
          "text": [
            "Epoch 1/10\n",
            "\u001b[1m1875/1875\u001b[0m \u001b[32m━━━━━━━━━━━━━━━━━━━━\u001b[0m\u001b[37m\u001b[0m \u001b[1m8s\u001b[0m 3ms/step - acc: 0.8817 - loss: 0.3980 - val_acc: 0.9581 - val_loss: 0.1307\n",
            "Epoch 2/10\n",
            "\u001b[1m1875/1875\u001b[0m \u001b[32m━━━━━━━━━━━━━━━━━━━━\u001b[0m\u001b[37m\u001b[0m \u001b[1m3s\u001b[0m 2ms/step - acc: 0.9707 - loss: 0.0976 - val_acc: 0.9615 - val_loss: 0.1224\n",
            "Epoch 3/10\n",
            "\u001b[1m1875/1875\u001b[0m \u001b[32m━━━━━━━━━━━━━━━━━━━━\u001b[0m\u001b[37m\u001b[0m \u001b[1m4s\u001b[0m 2ms/step - acc: 0.9780 - loss: 0.0678 - val_acc: 0.9755 - val_loss: 0.0778\n",
            "Epoch 4/10\n",
            "\u001b[1m1875/1875\u001b[0m \u001b[32m━━━━━━━━━━━━━━━━━━━━\u001b[0m\u001b[37m\u001b[0m \u001b[1m4s\u001b[0m 2ms/step - acc: 0.9849 - loss: 0.0484 - val_acc: 0.9773 - val_loss: 0.0761\n",
            "Epoch 5/10\n",
            "\u001b[1m1875/1875\u001b[0m \u001b[32m━━━━━━━━━━━━━━━━━━━━\u001b[0m\u001b[37m\u001b[0m \u001b[1m4s\u001b[0m 2ms/step - acc: 0.9874 - loss: 0.0405 - val_acc: 0.9711 - val_loss: 0.1037\n",
            "Epoch 6/10\n",
            "\u001b[1m1875/1875\u001b[0m \u001b[32m━━━━━━━━━━━━━━━━━━━━\u001b[0m\u001b[37m\u001b[0m \u001b[1m5s\u001b[0m 2ms/step - acc: 0.9897 - loss: 0.0303 - val_acc: 0.9776 - val_loss: 0.0828\n",
            "Epoch 7/10\n",
            "\u001b[1m1875/1875\u001b[0m \u001b[32m━━━━━━━━━━━━━━━━━━━━\u001b[0m\u001b[37m\u001b[0m \u001b[1m6s\u001b[0m 2ms/step - acc: 0.9920 - loss: 0.0239 - val_acc: 0.9772 - val_loss: 0.0923\n",
            "Epoch 8/10\n",
            "\u001b[1m1875/1875\u001b[0m \u001b[32m━━━━━━━━━━━━━━━━━━━━\u001b[0m\u001b[37m\u001b[0m \u001b[1m3s\u001b[0m 2ms/step - acc: 0.9935 - loss: 0.0197 - val_acc: 0.9790 - val_loss: 0.0840\n",
            "Epoch 9/10\n",
            "\u001b[1m1875/1875\u001b[0m \u001b[32m━━━━━━━━━━━━━━━━━━━━\u001b[0m\u001b[37m\u001b[0m \u001b[1m5s\u001b[0m 2ms/step - acc: 0.9944 - loss: 0.0167 - val_acc: 0.9743 - val_loss: 0.1125\n",
            "Epoch 10/10\n",
            "\u001b[1m1875/1875\u001b[0m \u001b[32m━━━━━━━━━━━━━━━━━━━━\u001b[0m\u001b[37m\u001b[0m \u001b[1m4s\u001b[0m 2ms/step - acc: 0.9936 - loss: 0.0176 - val_acc: 0.9774 - val_loss: 0.0940\n"
          ]
        },
        {
          "output_type": "execute_result",
          "data": {
            "text/plain": [
              "<keras.src.callbacks.history.History at 0x79810a27a230>"
            ]
          },
          "metadata": {},
          "execution_count": 11
        }
      ]
    },
    {
      "cell_type": "markdown",
      "source": [
        "---\n",
        "Com o modelo já calculado é hora de testar a sua qualidade. Foi possível perceber que ele forneceu quase 98% de eficiência na validação com os dados de teste. Isto é, ele deve errar pouco na hora de prever os dígitos."
      ],
      "metadata": {
        "id": "oZT_tHurwiGd"
      }
    },
    {
      "cell_type": "code",
      "source": [
        "# Vamos fazer umas previsões usando o nosso modelo treinado\n",
        "predictions = model.predict(X_test)\n",
        "predictions = np.argmax(predictions, axis=1)\n",
        "\n",
        "# Mostra algumas previsões usando os dados de teste\n",
        "fig, axes = plt.subplots(ncols=10, sharex=False,\n",
        "\t\t\t sharey=True, figsize=(20, 4))\n",
        "\n",
        "for i in range(10):\n",
        "  random_num = np.random.choice(len(X_test))\n",
        "  axes[i].set_title(predictions[random_num])\n",
        "  axes[i].imshow(X_test[random_num], cmap='gray')\n",
        "  axes[i].get_xaxis().set_visible(False)\n",
        "  axes[i].get_yaxis().set_visible(False)\n",
        "plt.show()"
      ],
      "metadata": {
        "colab": {
          "base_uri": "https://localhost:8080/",
          "height": 173
        },
        "id": "fmpnROpCw3K2",
        "outputId": "fd6cbebb-cf75-4be8-ec16-db81fb83db77"
      },
      "execution_count": null,
      "outputs": [
        {
          "output_type": "stream",
          "name": "stdout",
          "text": [
            "\u001b[1m313/313\u001b[0m \u001b[32m━━━━━━━━━━━━━━━━━━━━\u001b[0m\u001b[37m\u001b[0m \u001b[1m1s\u001b[0m 2ms/step\n"
          ]
        },
        {
          "output_type": "display_data",
          "data": {
            "text/plain": [
              "<Figure size 2000x400 with 10 Axes>"
            ],
            "image/png": "[encoded data removed]"
          },
          "metadata": {}
        }
      ]
    },
    {
      "cell_type": "markdown",
      "source": [
        "---\n",
        "Por fim, uma outra forma de visualizar os dados é através da matriz de confusão. Ela basicamente nos mostra os dígitos que foram classificados errados. Para gerar a matriz de confusão estamos utilizando o `seaborn`."
      ],
      "metadata": {
        "id": "1wQ-RIH7w0Eu"
      }
    },
    {
      "cell_type": "code",
      "source": [
        "# Gera a matriz de confusão\n",
        "confusion_mtx = confusion_matrix(np.argmax(y_test, axis=1), predictions)\n",
        "\n",
        "# Plota a matriz de confusão\n",
        "fig, ax = plt.subplots(figsize=(15, 10))\n",
        "ax = sns.heatmap(confusion_mtx, annot=True, fmt=\"d\", ax=ax, cmap=\"viridis\")\n",
        "ax.set_xlabel(\"Etiqueta prevista\")\n",
        "ax.set_ylabel(\"Etiqueta verdadeira\")\n",
        "ax.set_title(\"Matriz de Confusão\");"
      ],
      "metadata": {
        "id": "neU_kIqdxKZ0",
        "outputId": "d3ec5d57-faad-48d7-d7c6-b24b8705ba1c",
        "colab": {
          "base_uri": "https://localhost:8080/",
          "height": 872
        }
      },
      "execution_count": null,
      "outputs": [
        {
          "output_type": "display_data",
          "data": {
            "text/plain": [
              "<Figure size 1500x1000 with 2 Axes>"
            ],
            "image/png": "[encoded data removed]"
          },
          "metadata": {}
        }
      ]
    }
  ]
}