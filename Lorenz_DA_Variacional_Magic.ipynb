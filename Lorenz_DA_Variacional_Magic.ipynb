{
  "nbformat": 4,
  "nbformat_minor": 0,
  "metadata": {
    "colab": {
      "provenance": [],
      "collapsed_sections": [
        "BbCnpun9zGJE",
        "Rnm9Hzi1M8jo",
        "yE8qioOfLZnD",
        "emSJfHDZFkll",
        "mIYDfN2UA5Xh",
        "OZ33hAOVBD-F",
        "JmNt8EVkMgPh",
        "CK6XUeR2Bwqk",
        "bGlX8KlFBn1k",
        "e1lUNJMbCG87",
        "X2bPqh7MEh2c",
        "apQJBpVywEew",
        "Ra2Mtwivi8tT",
        "es6EZnh3dGTX",
        "hQmjkPHndsfu",
        "tyV0i81Beewl",
        "h04VK0fsfmsw",
        "zmXG-9PBo8bZ",
        "b7xuHissuqpf",
        "n77ozPksyDII",
        "txQqnLrk3gOx"
      ]
    },
    "kernelspec": {
      "name": "python3",
      "display_name": "Python 3"
    },
    "language_info": {
      "name": "python"
    }
  },
  "cells": [
    {
      "cell_type": "markdown",
      "source": [
        "## **Program to perform 4D-Var data assimilation on the Lorenz equations**\n",
        "### (c) 2002  Data Assimilation Research Centre\n",
        "### Original Fortran program by Marek Wlasak Converted to Matlab by Amos Lawless"
      ],
      "metadata": {
        "id": "BbCnpun9zGJE"
      }
    },
    {
      "cell_type": "markdown",
      "source": [
        "# **Instala o Octave e o plugin para jupyter notebook**"
      ],
      "metadata": {
        "id": "Rnm9Hzi1M8jo"
      }
    },
    {
      "cell_type": "code",
      "execution_count": null,
      "metadata": {
        "id": "351NAv5Swr3S",
        "colab": {
          "base_uri": "https://localhost:8080/"
        },
        "outputId": "bbeb0531-3fa4-496a-e39e-fe81b5c9b59f"
      },
      "outputs": [
        {
          "output_type": "stream",
          "name": "stdout",
          "text": [
            "Reading package lists... Done\n",
            "Building dependency tree... Done\n",
            "Reading state information... Done\n",
            "octave is already the newest version (6.4.0-2).\n",
            "0 upgraded, 0 newly installed, 0 to remove and 32 not upgraded.\n"
          ]
        }
      ],
      "source": [
        "!apt install octave"
      ]
    },
    {
      "cell_type": "code",
      "source": [
        "!pip install oct2py"
      ],
      "metadata": {
        "id": "Su0Mh-wEz4VM",
        "colab": {
          "base_uri": "https://localhost:8080/"
        },
        "outputId": "3f8e24f6-cbdd-4314-dc6b-a489aeeffe27"
      },
      "execution_count": null,
      "outputs": [
        {
          "output_type": "stream",
          "name": "stdout",
          "text": [
            "Requirement already satisfied: oct2py in /usr/local/lib/python3.10/dist-packages (5.6.0)\n",
            "Requirement already satisfied: numpy>=1.12 in /usr/local/lib/python3.10/dist-packages (from oct2py) (1.23.5)\n",
            "Requirement already satisfied: octave-kernel>=0.34.0 in /usr/local/lib/python3.10/dist-packages (from oct2py) (0.35.1)\n",
            "Requirement already satisfied: scipy>=0.17 in /usr/local/lib/python3.10/dist-packages (from oct2py) (1.11.4)\n",
            "Requirement already satisfied: ipykernel in /usr/local/lib/python3.10/dist-packages (from octave-kernel>=0.34.0->oct2py) (5.5.6)\n",
            "Requirement already satisfied: jupyter-client>=4.3.0 in /usr/local/lib/python3.10/dist-packages (from octave-kernel>=0.34.0->oct2py) (6.1.12)\n",
            "Requirement already satisfied: metakernel>=0.24.0 in /usr/local/lib/python3.10/dist-packages (from octave-kernel>=0.34.0->oct2py) (0.30.1)\n",
            "Requirement already satisfied: traitlets in /usr/local/lib/python3.10/dist-packages (from jupyter-client>=4.3.0->octave-kernel>=0.34.0->oct2py) (5.7.1)\n",
            "Requirement already satisfied: jupyter-core>=4.6.0 in /usr/local/lib/python3.10/dist-packages (from jupyter-client>=4.3.0->octave-kernel>=0.34.0->oct2py) (5.7.1)\n",
            "Requirement already satisfied: pyzmq>=13 in /usr/local/lib/python3.10/dist-packages (from jupyter-client>=4.3.0->octave-kernel>=0.34.0->oct2py) (23.2.1)\n",
            "Requirement already satisfied: python-dateutil>=2.1 in /usr/local/lib/python3.10/dist-packages (from jupyter-client>=4.3.0->octave-kernel>=0.34.0->oct2py) (2.8.2)\n",
            "Requirement already satisfied: tornado>=4.1 in /usr/local/lib/python3.10/dist-packages (from jupyter-client>=4.3.0->octave-kernel>=0.34.0->oct2py) (6.3.2)\n",
            "Requirement already satisfied: jedi>=0.18 in /usr/local/lib/python3.10/dist-packages (from metakernel>=0.24.0->octave-kernel>=0.34.0->oct2py) (0.19.1)\n",
            "Requirement already satisfied: pexpect>=4.8 in /usr/local/lib/python3.10/dist-packages (from metakernel>=0.24.0->octave-kernel>=0.34.0->oct2py) (4.9.0)\n",
            "Requirement already satisfied: ipython-genutils in /usr/local/lib/python3.10/dist-packages (from ipykernel->octave-kernel>=0.34.0->oct2py) (0.2.0)\n",
            "Requirement already satisfied: ipython>=5.0.0 in /usr/local/lib/python3.10/dist-packages (from ipykernel->octave-kernel>=0.34.0->oct2py) (7.34.0)\n",
            "Requirement already satisfied: setuptools>=18.5 in /usr/local/lib/python3.10/dist-packages (from ipython>=5.0.0->ipykernel->octave-kernel>=0.34.0->oct2py) (67.7.2)\n",
            "Requirement already satisfied: decorator in /usr/local/lib/python3.10/dist-packages (from ipython>=5.0.0->ipykernel->octave-kernel>=0.34.0->oct2py) (4.4.2)\n",
            "Requirement already satisfied: pickleshare in /usr/local/lib/python3.10/dist-packages (from ipython>=5.0.0->ipykernel->octave-kernel>=0.34.0->oct2py) (0.7.5)\n",
            "Requirement already satisfied: prompt-toolkit!=3.0.0,!=3.0.1,<3.1.0,>=2.0.0 in /usr/local/lib/python3.10/dist-packages (from ipython>=5.0.0->ipykernel->octave-kernel>=0.34.0->oct2py) (3.0.43)\n",
            "Requirement already satisfied: pygments in /usr/local/lib/python3.10/dist-packages (from ipython>=5.0.0->ipykernel->octave-kernel>=0.34.0->oct2py) (2.16.1)\n",
            "Requirement already satisfied: backcall in /usr/local/lib/python3.10/dist-packages (from ipython>=5.0.0->ipykernel->octave-kernel>=0.34.0->oct2py) (0.2.0)\n",
            "Requirement already satisfied: matplotlib-inline in /usr/local/lib/python3.10/dist-packages (from ipython>=5.0.0->ipykernel->octave-kernel>=0.34.0->oct2py) (0.1.6)\n",
            "Requirement already satisfied: parso<0.9.0,>=0.8.3 in /usr/local/lib/python3.10/dist-packages (from jedi>=0.18->metakernel>=0.24.0->octave-kernel>=0.34.0->oct2py) (0.8.3)\n",
            "Requirement already satisfied: platformdirs>=2.5 in /usr/local/lib/python3.10/dist-packages (from jupyter-core>=4.6.0->jupyter-client>=4.3.0->octave-kernel>=0.34.0->oct2py) (4.2.0)\n",
            "Requirement already satisfied: ptyprocess>=0.5 in /usr/local/lib/python3.10/dist-packages (from pexpect>=4.8->metakernel>=0.24.0->octave-kernel>=0.34.0->oct2py) (0.7.0)\n",
            "Requirement already satisfied: six>=1.5 in /usr/local/lib/python3.10/dist-packages (from python-dateutil>=2.1->jupyter-client>=4.3.0->octave-kernel>=0.34.0->oct2py) (1.16.0)\n",
            "Requirement already satisfied: wcwidth in /usr/local/lib/python3.10/dist-packages (from prompt-toolkit!=3.0.0,!=3.0.1,<3.1.0,>=2.0.0->ipython>=5.0.0->ipykernel->octave-kernel>=0.34.0->oct2py) (0.2.13)\n"
          ]
        }
      ]
    },
    {
      "cell_type": "code",
      "source": [
        "%load_ext oct2py.ipython"
      ],
      "metadata": {
        "id": "EbNdUds2E39h"
      },
      "execution_count": null,
      "outputs": []
    },
    {
      "cell_type": "markdown",
      "source": [
        "# **MAIN PROGRAM**\n",
        "\n"
      ],
      "metadata": {
        "id": "yE8qioOfLZnD"
      }
    },
    {
      "cell_type": "markdown",
      "source": [
        "## **Program's brief description**"
      ],
      "metadata": {
        "id": "emSJfHDZFkll"
      }
    },
    {
      "cell_type": "code",
      "source": [
        "%%octave\n",
        "\n",
        "%%%%%%%%%%%%%%%%%%%%%%%%%%%%%%%%\n",
        "% Program to perform 4D-Var data assimilation on the\n",
        "% Lorenz equations\n",
        "%\n",
        "%\n",
        "%  (c) 2002  Data Assimilation Research Centre\n",
        "%\n",
        "%  Original Fortran program by Marek Wlasak\n",
        "%  Converted to Matlab by Amos Lawless\n",
        "%\n",
        "%  Change history:\n",
        "%      Changes to make code more robust and add further options\n",
        "%                       (Amos Lawless)\n",
        "%      16/03/04  Corrections to code\n",
        "%                Remove high memory allocations\n",
        "%                Ensure windows appear in correct place\n",
        "%                       (Amos Lawless)\n",
        "%\n",
        "%  List of main variables\n",
        "%    a:          sigma coefficient in equations\n",
        "%    r:          rho coefficient in equations\n",
        "%    b:          beta coefficient in equations\n",
        "%\n",
        "%    ta:         Length of assimilation window\n",
        "%    tf:         Length of forecast window\n",
        "%    h:          Time step for numerical scheme\n",
        "%    freq:       Frequency of observations in time steps\n",
        "%    tstep:      Number of time steps for assimilation\n",
        "%    fcstep:     Total number of time steps for assimilation + forecast\n",
        "%\n",
        "%    [xx,yy,zz]: Truth values of trajectory\n",
        "%    [xf,yf,zf]: First guess values of trajectory\n",
        "%    [x,y,z]:    Calculated values of trajectory and final analysis\n",
        "%    [lx,ly,lz]: Gradient values calculated from adjoint\n",
        "%\n",
        "%    [datx,daty,datz]: Observation values\n",
        "%    D:                Observation weighting matrix\n",
        "%    max_iterations:   Maximum number of minimization iterations\n",
        "%    tolerance:        Convergence tolerance for minimization\n",
        "%    s:                Calculated step length in minimization\n",
        "%\n",
        "%\n",
        "%%%%%%%%%%%%%%%%%%%%%%%%%%%%%%%%%%%%%%%%%%%%%%%%%%%%%%%%%%%%%%\n"
      ],
      "metadata": {
        "id": "9HpgUAWU0-Ot"
      },
      "execution_count": null,
      "outputs": []
    },
    {
      "cell_type": "markdown",
      "source": [
        "## **1. Set up**"
      ],
      "metadata": {
        "id": "mIYDfN2UA5Xh"
      }
    },
    {
      "cell_type": "code",
      "source": [
        "%%octave\n",
        "\n",
        "% Determine screen size and set up figure positions\n",
        "ss=get(0,'ScreenSize');\n",
        "fig_width=0.55*ss(3);\n",
        "fig_height=0.4*ss(4);\n",
        "pos_1=[0.02*ss(3),0.55*ss(4),fig_width,fig_height];\n",
        "pos_2=[0.02*ss(3),0.05*ss(4),fig_width,fig_height];\n",
        "pos_3=[0.6*ss(3),0.45*ss(4),0.4*ss(3),0.45*ss(4)];\n",
        "pl=0.6*ss(3);\n",
        "pb=0.05*ss(4);\n",
        "pw=0.3*ss(3);\n",
        "ph=0.3*ss(4);\n",
        "pos_4=[pl,pb,pw,ph];\n",
        "pos_5=[0.02*pw,0.8*ph,0.95*pw,0.2*ph];\n",
        "pos_6=[0.02*pw,0.02*ph,0.95*pw,0.75*ph];\n",
        "%\n",
        "format long\n",
        "%parameters\n",
        "a=1.0d1;       % sigma\n",
        "b=8.0d0/3.0d0; % rho\n",
        "r=2.8d1;       % beta"
      ],
      "metadata": {
        "id": "XZiEmKcTLToq"
      },
      "execution_count": null,
      "outputs": []
    },
    {
      "cell_type": "markdown",
      "source": [
        "## **2. Input truth parameters and calculate truth**"
      ],
      "metadata": {
        "id": "OZ33hAOVBD-F"
      }
    },
    {
      "cell_type": "markdown",
      "source": [
        "### function **modeuler**"
      ],
      "metadata": {
        "id": "JmNt8EVkMgPh"
      }
    },
    {
      "cell_type": "code",
      "source": [
        "%%octave\n",
        "\n",
        "function [xo,yo,zo]=modeuler(tstep,h,j,zval,yval,xval,a,r,b)\n",
        "%%%%%%%%%%%%%%%%%%%%%%%%%%%%%%%%%%%%%%%%%%%%%%%%%%%%%%%%%%%%%%\n",
        "%\n",
        "%  Purpose: Apply modified Euler scheme to the  Lorenz equations\n",
        "%\n",
        "%  (c) 2002  Data Assimilation Research Centre\n",
        "%\n",
        "%  Original Fortran program by Marek Wlasak\n",
        "%  Converted to Matlab by Amos Lawless\n",
        "%\n",
        "%  List of main variables\n",
        "%    a:          sigma coefficient in equations\n",
        "%    r:          rho coefficient in equations\n",
        "%    b:          beta coefficient in equations\n",
        "%    h:          Time step for numerical scheme\n",
        "%    tstep:      Number of time steps to perform\n",
        "%    [xval,yval,zval]: Initial fields\n",
        "%    j:          Index to pick up correct initial field\n",
        "%\n",
        "%  Output:\n",
        "%    [xo,yo,zo]: Trajectories of evolved fields\n",
        "%\n",
        "%%%%%%%%%%%%%%%%%%%%%%%%%%%%%%%%%%%%%%%%%%%%%%%%%%%%%%%%%%%%%%\n",
        "x=zeros(tstep,1);\n",
        "y=zeros(tstep,1);\n",
        "z=zeros(tstep,1);\n",
        "%\n",
        "x(1)=xval(j+1);\n",
        "y(1)=yval(j+1);\n",
        "z(1)=zval(j+1);\n",
        "%\n",
        "for i = 1:tstep\n",
        "  kx1=h*f(a,x(i),y(i),z(i));\n",
        "  ky1=h*g(r,x(i),y(i),z(i));\n",
        "  kz1=h*fg(b,x(i),y(i),z(i));\n",
        "\n",
        "  kx2=h*f(a,x(i)+kx1,y(i)+ky1,z(i)+kz1);\n",
        "  ky2=h*g(r,x(i)+kx1,y(i)+ky1,z(i)+kz1);\n",
        "  kz2=h*fg(b,x(i)+kx1,y(i)+ky1,z(i)+kz1);\n",
        "\n",
        "  x(i+1)=x(i)+0.5d0*(kx1+kx2);\n",
        "  y(i+1)=y(i)+0.5d0*(ky1+ky2);\n",
        "  z(i+1)=z(i)+0.5d0*(kz1+kz2);\n",
        "end\n",
        "\n",
        "xo=x;\n",
        "yo=y;\n",
        "zo=z;\n",
        "%\n",
        "function [f_out]=f(a,xvl,yvl,zvl);\n",
        "      f_out=a*(yvl-xvl);\n",
        "\n",
        "function [g_out]=g(r,xvl,yvl,zvl);\n",
        "      g_out=r*xvl-yvl-xvl*zvl;\n",
        "\n",
        "function [fg_out]=fg(b,xvl,yvl,zvl);\n",
        "      fg_out=xvl*yvl-b*zvl;\n"
      ],
      "metadata": {
        "id": "919ft_6qQWM2"
      },
      "execution_count": null,
      "outputs": []
    },
    {
      "cell_type": "markdown",
      "source": [
        "### initial contidions"
      ],
      "metadata": {
        "id": "CK6XUeR2Bwqk"
      }
    },
    {
      "cell_type": "code",
      "source": [
        "%%octave\n",
        "\n",
        "%---------------------------------------------------------------------\n",
        "%  2. Input truth parameters and calculate truth\n",
        "%---------------------------------------------------------------------\n",
        "% Inputs 1\n",
        "% True value of x at t=0\n",
        "truex=1.0;\n",
        "\n",
        "% True value of y at t=0\n",
        "truey=1.0;\n",
        "\n",
        "% True value of z at t=0\n",
        "truez=1.0;\n"
      ],
      "metadata": {
        "id": "bmr1e2-Q7Clz"
      },
      "execution_count": null,
      "outputs": []
    },
    {
      "cell_type": "markdown",
      "source": [
        "### parameters"
      ],
      "metadata": {
        "id": "bGlX8KlFBn1k"
      }
    },
    {
      "cell_type": "code",
      "source": [
        "%%octave\n",
        "\n",
        "% Inputs 2\n",
        "% Length of assimilation window\n",
        "ta=3;\n",
        "\n",
        "% Length of subsequent forecast\n",
        "tf=3;\n",
        "\n",
        "ystr='Time step';\n",
        "h=0.05;\n",
        "\n",
        "% Frequency of observations (in time steps)\n",
        "freq=2;\n",
        "\n",
        "tstep = ta/h+1; %41\n",
        "fcstep = (ta+tf)/h; %100\n",
        "\n",
        "% Run truth\n",
        "guessx(1)=truex;\n",
        "guessy(1)=truey;\n",
        "guessz(1)=truez;\n",
        "j=0;\n",
        "[xx,yy,zz]=modeuler(fcstep,h,j,guessz,guessy,guessx,a,r,b);"
      ],
      "metadata": {
        "id": "eXP_2ayaBTWc"
      },
      "execution_count": null,
      "outputs": []
    },
    {
      "cell_type": "markdown",
      "source": [
        "## **3. Calculate observations and plot truth and observations**\n"
      ],
      "metadata": {
        "id": "e1lUNJMbCG87"
      }
    },
    {
      "cell_type": "code",
      "source": [
        "%%octave\n",
        "\n",
        "%---------------------------------------------------------------------\n",
        "% 3. Calculate observations and plot truth and observations\n",
        "%---------------------------------------------------------------------\n",
        "D=zeros(tstep,1);\n",
        "n_obs = (tstep-1) / freq + 1;\n",
        "datx=zeros(n_obs,1);\n",
        "daty=zeros(n_obs,1);\n",
        "datz=zeros(n_obs,1);\n",
        "%l_noise=menu_asl('Noise on observations?','No','Yes');\n",
        "l_noise=2;\n",
        "l_noise=l_noise-1;\n",
        "if l_noise==1\n",
        "  sc_x_noise=randn(n_obs,1);\n",
        "  sc_y_noise=randn(n_obs,1);\n",
        "  sc_z_noise=randn(n_obs,1);\n",
        "  %sd_str=inputdlg('Variance of observation error');\n",
        "  %sd=str2num(sd_str{1});\n",
        "  sd=0.1;\n",
        "  var=sqrt(sd);\n",
        "  RX=var*sc_x_noise;\n",
        "  RY=var*sc_y_noise;\n",
        "  RZ=var*sc_z_noise;\n",
        "else\n",
        "  for i=1:n_obs;\n",
        "    RX(i)=0.0;\n",
        "    RY(i)=0.0;\n",
        "    RZ(i)=0.0;\n",
        "  end\n",
        "end\n",
        "% Set up data and matrix D\n",
        "j=1;\n",
        "for i=1:freq:tstep\n",
        "  datx(i)=xx(i)+RX(j);\n",
        "  daty(i)=yy(i)+RY(j);\n",
        "  datz(i)=zz(i)+RZ(j);\n",
        "  D(i) = 1.;\n",
        "  j=j+1;\n",
        "end\n",
        "\n"
      ],
      "metadata": {
        "id": "Q32Bz58r7d8K"
      },
      "execution_count": null,
      "outputs": []
    },
    {
      "cell_type": "code",
      "source": [
        "%%octave\n",
        "\n",
        "% Plot truth and observations\n",
        "xvals=0:fcstep;\n",
        "vec=1:freq:tstep;\n",
        "v=vec-1;\n",
        "for i=vec\n",
        "  x_ob(i)=datx(i);\n",
        "  z_ob(i)=datz(i);\n",
        "end\n",
        "% x_ob and z_ob are temporary arrays for plotting\n",
        "%\n",
        "h1=figure(1);\n",
        "%clf;\n",
        "plot(xvals,xx)\n",
        "hold on\n",
        "plot(v,x_ob(vec),'.m')\n",
        "%hold on\n",
        "xlabel('passo de tempo')\n",
        "ylabel('x')\n",
        "title('Solucao para x')\n",
        "legend('modelo','observacoes')\n",
        "%\n",
        "\n"
      ],
      "metadata": {
        "id": "ySEx9X5NW1Gh",
        "colab": {
          "base_uri": "https://localhost:8080/",
          "height": 454
        },
        "outputId": "7dc1e53e-01cf-4d91-bedc-7a39e71ea8d0"
      },
      "execution_count": null,
      "outputs": [
        {
          "output_type": "display_data",
          "data": {
            "text/plain": [
              "ans = -16.00357857486066"
            ]
          },
          "metadata": {}
        },
        {
          "output_type": "display_data",
          "data": {
            "image/png": "[encoded data removed]",
            "text/plain": [
              "<IPython.core.display.Image object>"
            ]
          },
          "metadata": {}
        }
      ]
    },
    {
      "cell_type": "code",
      "source": [
        "%%octave\n",
        "\n",
        "h2=figure(2);\n",
        "plot(xvals,zz)\n",
        "hold on\n",
        "plot(v,z_ob(vec),'.m')\n",
        "hold on\n",
        "xlabel('passo de tempo')\n",
        "ylabel('z')\n",
        "title('Solucao para z')\n",
        "legend('modelo','observacoes')"
      ],
      "metadata": {
        "id": "-UlQTLu9Xx6L",
        "colab": {
          "base_uri": "https://localhost:8080/",
          "height": 454
        },
        "outputId": "e2362c1d-9367-4ba4-b2c4-07c50779c92c"
      },
      "execution_count": null,
      "outputs": [
        {
          "output_type": "display_data",
          "data": {
            "text/plain": [
              "ans = -16.72425198800664"
            ]
          },
          "metadata": {}
        },
        {
          "output_type": "display_data",
          "data": {
            "image/png": "[encoded data removed]",
            "text/plain": [
              "<IPython.core.display.Image object>"
            ]
          },
          "metadata": {}
        }
      ]
    },
    {
      "cell_type": "markdown",
      "source": [
        "## **4. Input initial guess and run model from this**"
      ],
      "metadata": {
        "id": "X2bPqh7MEh2c"
      }
    },
    {
      "cell_type": "markdown",
      "source": [
        "### Choose number of time steps between observations"
      ],
      "metadata": {
        "id": "apQJBpVywEew"
      }
    },
    {
      "cell_type": "code",
      "source": [
        "%%octave\n",
        "\n",
        "xstr='Initial guess of x at t=0';\n",
        "ystr='Initial guess of y at t=0';\n",
        "zstr='Initial guess of z at t=0';\n",
        "% guess_str=inputdlg({xstr,ystr,zstr},'Initial guess');\n",
        "guessx(2)=1.05;\n",
        "guessy(2)=1.05;\n",
        "guessz(2)=1.05;\n",
        "%\n",
        "j=1;\n",
        "% Plot first guess\n",
        "[xf,yf,zf]=modeuler(fcstep,h,j,guessz,guessy,guessx,a,r,b);\n",
        "h3=figure(3);\n",
        "plot(xvals,xx)\n",
        "hold on\n",
        "plot(v,x_ob(vec),'.m')\n",
        "plot(xvals,xf,'--k')\n",
        "legend('modelo','observacoes','background')\n",
        "\n"
      ],
      "metadata": {
        "id": "zx4ipHYUEcaj",
        "colab": {
          "base_uri": "https://localhost:8080/",
          "height": 454
        },
        "outputId": "243a9a78-e8d8-40aa-c255-dff0a53b0e28"
      },
      "execution_count": null,
      "outputs": [
        {
          "output_type": "display_data",
          "data": {
            "text/plain": [
              "ans = -15.49607442016896"
            ]
          },
          "metadata": {}
        },
        {
          "output_type": "display_data",
          "data": {
            "image/png": "[encoded data removed]",
            "text/plain": [
              "<IPython.core.display.Image object>"
            ]
          },
          "metadata": {}
        }
      ]
    },
    {
      "cell_type": "code",
      "source": [
        "%%octave\n",
        "h4=figure(4);\n",
        "plot(xvals,zz)\n",
        "hold on\n",
        "plot(v,z_ob(vec),'.m')\n",
        "plot(xvals,zf,'--k')\n",
        "legend('modelo','observacoes','background')\n",
        "hold on"
      ],
      "metadata": {
        "id": "x6TqklawbCMc",
        "colab": {
          "base_uri": "https://localhost:8080/",
          "height": 454
        },
        "outputId": "7ed09b8c-6d03-4f37-9a48-3462f8e3b978"
      },
      "execution_count": null,
      "outputs": [
        {
          "output_type": "display_data",
          "data": {
            "text/plain": [
              "ans = -15.62566531932649"
            ]
          },
          "metadata": {}
        },
        {
          "output_type": "display_data",
          "data": {
            "image/png": "[encoded data removed]",
            "text/plain": [
              "<IPython.core.display.Image object>"
            ]
          },
          "metadata": {}
        }
      ]
    },
    {
      "cell_type": "markdown",
      "source": [
        "## **5. Input minimization info and perform minimization**"
      ],
      "metadata": {
        "id": "Ra2Mtwivi8tT"
      }
    },
    {
      "cell_type": "markdown",
      "source": [
        "### function **calcfg_inc**"
      ],
      "metadata": {
        "id": "es6EZnh3dGTX"
      }
    },
    {
      "cell_type": "code",
      "source": [
        "%%octave\n",
        "\n",
        "function [f,g] = calcfg_inc(tstep,h,x,y,z,x_d,y_d,z_d,x0_p,y0_p,z0_p,...\n",
        "                            a,r,b,D,freq)\n",
        "%%%%%%%%%%%%%%%%%%%%%%%%%%%%%%%%%%%%%%%%%%%%%%%%%%%%%%%%%%%%%\n",
        "%\n",
        "%  Purpose: Calculate cost function and its gradient\n",
        "%\n",
        "%\n",
        "%  (c) 2002  Data Assimilation Research Centre\n",
        "%\n",
        "%  Written by Amos Lawless\n",
        "%\n",
        "%  List of main variables\n",
        "%    a:          sigma coefficient in equations\n",
        "%    r:          rho coefficient in equations\n",
        "%    b:          beta coefficient in equations\n",
        "%    D:          Observation weighting matrix\n",
        "%    h:          Time step for numerical scheme\n",
        "%    freq:       Frequency of observations\n",
        "%    tstep:      Number of time steps to perform\n",
        "%    [x,y,z]:    Forward trajectory\n",
        "%    [x_d,y_d,z_d]: Innovations\n",
        "%    [x0_p,y0_p,z0_p]: Initial perturbations\n",
        "%\n",
        "%  Output:\n",
        "%    [f,g]: Cost function and gradient\n",
        "%\n",
        "%%%%%%%%%%%%%%%%%%%%%%%%%%%%%%%%%%%%%%%%%%%%%%%%%%%%%%%%%%%%%%\n",
        "\n",
        "f=0.0;\n",
        "x_p=zeros(tstep,1); % Perturbations\n",
        "y_p=zeros(tstep,1); % Perturbations\n",
        "z_p=zeros(tstep,1); % Perturbations\n",
        "%\n",
        "x_p(1)=x0_p;\n",
        "y_p(1)=y0_p;\n",
        "z_p(1)=z0_p;\n",
        "%\n",
        "% Calculo da funcao custo\n",
        "[x_p,y_p,z_p]=modeuler_tl(tstep,h,0,z,y,x,z_p,y_p,x_p,a,r,b);\n",
        "%\n",
        "     for i=1:freq:tstep\n",
        "         f = f + 0.5*((x_d(i)+x_p(i))*(x_d(i)+x_p(i))*D(i) ...\n",
        "                      + (y_d(i)+y_p(i))*(y_d(i)+y_p(i))*D(i) ...\n",
        "                      + (z_d(i)+z_p(i))*(z_d(i)+z_p(i))*D(i));\n",
        "     end\n",
        "\n",
        "%       for i=1:freq:tstep\n",
        "%           f = f + 0.5*((x_p(i)-x_d(i))'*D*(x_p(i)-x_d(i)) ...\n",
        "%                      - (y_p(i)-y_d(i))'*D*(y_p(i)-x_d(i)) ...\n",
        "%                      - (z_p(i)-z_d(i))'*D*(z_p(i)-x_d(i)));\n",
        "%       end\n",
        "\n",
        "%\n",
        "\n",
        "% calculo do gradiente da funcao custo\n",
        "x_hat=zeros(tstep,1);\n",
        "y_hat=zeros(tstep,1);\n",
        "z_hat=zeros(tstep,1);\n",
        "%\n",
        "x_hat(tstep) = (x_d(tstep)+x_p(tstep))*D(tstep);\n",
        "y_hat(tstep) = (y_d(tstep)+y_p(tstep))*D(tstep);\n",
        "z_hat(tstep) = (z_d(tstep)+z_p(tstep))*D(tstep);\n",
        "%\n",
        "for i=tstep-1:-1:1\n",
        "    [x1_hat,y1_hat,z1_hat] = modeuler_adj(1,h,0,z(i),y(i),x(i),...\n",
        "               x_hat(i+1),y_hat(i+1),z_hat(i+1),a,r,b);\n",
        "\n",
        "    x_hat(i) = x1_hat(1) + (x_d(i)+x_p(i))*D(i);\n",
        "    y_hat(i) = y1_hat(1) + (y_d(i)+y_p(i))*D(i);\n",
        "    z_hat(i) = z1_hat(1) + (z_d(i)+z_p(i))*D(i);\n",
        "end\n",
        "g=[x_hat(1),y_hat(1),z_hat(1)];\n"
      ],
      "metadata": {
        "id": "z3PP3xJ1dAt7"
      },
      "execution_count": null,
      "outputs": []
    },
    {
      "cell_type": "markdown",
      "source": [
        "### function **modeuler_tl**"
      ],
      "metadata": {
        "id": "hQmjkPHndsfu"
      }
    },
    {
      "cell_type": "code",
      "source": [
        "%%octave\n",
        "\n",
        "function [xo_p,yo_p,zo_p]=modeuler_tl(tstep,h,j,z,y,x,...\n",
        "   zval_p,yval_p,xval_p,a,r,b)\n",
        "%%%%%%%%%%%%%%%%%%%%%%%%%%%%%%%%%%%%%%%%%%%%%%%%%%%%%%%%%%%%%%\n",
        "%\n",
        "%  Purpose: Tangent linear code of modeuler.m\n",
        "%\n",
        "%  (c) 2004  Data Assimilation Research Centre\n",
        "%\n",
        "%  Written  by Amos Lawless\n",
        "%\n",
        "%  List of main variables\n",
        "%    a:          sigma coefficient in equations\n",
        "%    r:          rho coefficient in equations\n",
        "%    b:          beta coefficient in equations\n",
        "%    h:          Time step for numerical scheme\n",
        "%    tstep:      Number of time steps to perform\n",
        "%    [xval,yval,zval]: Linearization state fields at all times\n",
        "%    [xval_p,yval_p,zval_p]: Initial perturbations\n",
        "%    j:          Index to pick up correct initial field\n",
        "%\n",
        "%  Output:\n",
        "%    [xo_p,yo_p,zo_p]: Evolved perturbations\n",
        "%\n",
        "%%%%%%%%%%%%%%%%%%%%%%%%%%%%%%%%%%%%%%%%%%%%%%%%%%%%%%%%%%%%%%\n",
        "%\n",
        "x_p=zeros(tstep,1);\n",
        "y_p=zeros(tstep,1);\n",
        "z_p=zeros(tstep,1);\n",
        "%\n",
        "x_p(1)=xval_p(j+1);\n",
        "y_p(1)=yval_p(j+1);\n",
        "z_p(1)=zval_p(j+1);\n",
        "%\n",
        "for i = 1:tstep\n",
        "  kx1 = h*a*(y(i)-x(i));\n",
        "  ky1 = h*(r*x(i)-y(i)-x(i)*z(i));\n",
        "  kz1 = h*(x(i)*y(i) - b*z(i));\n",
        "%\n",
        "  kx1_p = h*a*(y_p(i)-x_p(i));\n",
        "  ky1_p = h*(r*x_p(i)-y_p(i)-x_p(i)*z(i)-x(i)*z_p(i));\n",
        "  kz1_p = h*(x_p(i)*y(i)+x(i)*y_p(i)-b*z_p(i));\n",
        "\n",
        "  kx2_p = h*a*(y_p(i)+ky1_p-x_p(i)-kx1_p);\n",
        "  ky2_p = h*(r*(x_p(i)+kx1_p)-y_p(i)-ky1_p ...\n",
        "          - (x_p(i)+kx1_p)*(z(i)+kz1) - (x(i)+kx1)*(z_p(i)+kz1_p));\n",
        "  kz2_p = h*((x_p(i)+kx1_p)*(y(i)+ky1)+(x(i)+kx1)*(y_p(i)+ky1_p) ...\n",
        "          - b*(z_p(i)+kz1_p));\n",
        "%\n",
        "  x_p(i+1)=x_p(i)+0.5d0*(kx1_p+kx2_p);\n",
        "  y_p(i+1)=y_p(i)+0.5d0*(ky1_p+ky2_p);\n",
        "  z_p(i+1)=z_p(i)+0.5d0*(kz1_p+kz2_p);\n",
        "end\n",
        "\n",
        "xo_p=x_p;\n",
        "yo_p=y_p;\n",
        "zo_p=z_p;\n",
        "%"
      ],
      "metadata": {
        "id": "hmfbcxQ2di2X"
      },
      "execution_count": null,
      "outputs": []
    },
    {
      "cell_type": "markdown",
      "source": [
        "### function **modeuler_adj**\n"
      ],
      "metadata": {
        "id": "tyV0i81Beewl"
      }
    },
    {
      "cell_type": "code",
      "source": [
        "%%octave\n",
        "\n",
        "function [xval_hat,yval_hat,zval_hat]=modeuler_adj(tstep,h,j,z,y,x,...\n",
        "   xo_hat,yo_hat,zo_hat,a,r,b)\n",
        "%%%%%%%%%%%%%%%%%%%%%%%%%%%%%%%%%%%%%%%%%%%%%%%%%%%%%%%%%%%%%%\n",
        "%\n",
        "%  Purpose: Adjoint code of modeuler.m\n",
        "%\n",
        "%  (c) 2004  Data Assimilation Research Centre\n",
        "%\n",
        "%  Written  by Amos Lawless\n",
        "%\n",
        "%  List of main variables\n",
        "%    a:          sigma coefficient in equations\n",
        "%    r:          rho coefficient in equations\n",
        "%    b:          beta coefficient in equations\n",
        "%    h:          Time step for numerical scheme\n",
        "%    tstep:      Number of time steps to perform\n",
        "%    [xval,yval,zval]: Linearization state fields at all times\n",
        "%    [xo_hat,yo_hat,zo_hat]: Input adjoint variables\n",
        "%    j:          Index to pick up correct initial field\n",
        "%\n",
        "%  Output:\n",
        "%    [xval_hat,yval_hat,zval_hat]: Output adjoint variables\n",
        "%\n",
        "%%%%%%%%%%%%%%%%%%%%%%%%%%%%%%%%%%%%%%%%%%%%%%%%%%%%%%%%%%%%%%\n",
        "%\n",
        "x_hat=zeros(tstep+1,1);\n",
        "y_hat=zeros(tstep+1,1);\n",
        "z_hat=zeros(tstep+1,1);\n",
        "\n",
        "xval_hat=zeros(tstep+1,1);\n",
        "yval_hat=zeros(tstep+1,1);\n",
        "zval_hat=zeros(tstep+1,1);\n",
        "\n",
        "x_hat(tstep+1) = x_hat(tstep+1) + xo_hat;\n",
        "y_hat(tstep+1) = y_hat(tstep+1) + yo_hat;\n",
        "z_hat(tstep+1) = z_hat(tstep+1) + zo_hat;\n",
        "xo_hat = 0.0d0;\n",
        "yo_hat = 0.0d0;\n",
        "zo_hat = 0.0d0;\n",
        "\n",
        "for i=tstep:-1:1\n",
        "  kx1 = h*a*(y(i)-x(i));\n",
        "  ky1 = h*(r*x(i)-y(i)-x(i)*z(i));\n",
        "  kz1 = h*(x(i)*y(i) - b*z(i));\n",
        "%\n",
        "  kz1_hat = 0.5 * z_hat(i+1);\n",
        "  kz2_hat = 0.5 * z_hat(i+1);\n",
        "  z_hat(i) = z_hat(i) + z_hat(i+1);\n",
        "  z_hat(i+1) = 0;\n",
        "  ky1_hat = 0.5 * y_hat(i+1);\n",
        "  ky2_hat = 0.5 * y_hat(i+1);\n",
        "  y_hat(i) = y_hat(i) + y_hat(i+1);\n",
        "  y_hat(i+1) = 0;\n",
        "  kx1_hat = 0.5 * x_hat(i+1);\n",
        "  kx2_hat = 0.5 * x_hat(i+1);\n",
        "  x_hat(i) = x_hat(i) + x_hat(i+1);\n",
        "  x_hat(i+1) = 0;\n",
        "%\n",
        "  x_hat(i) = x_hat(i) + h*kz2_hat*(y(i)+ky1);\n",
        "  kx1_hat = kx1_hat + h*kz2_hat*(y(i)+ky1);\n",
        "  y_hat(i) = y_hat(i) + h*(x(i)+kx1)*kz2_hat;\n",
        "  ky1_hat = ky1_hat + h*(x(i)+kx1)*kz2_hat;\n",
        "  z_hat(i) = z_hat(i) - h*b*kz2_hat;\n",
        "  kz1_hat = kz1_hat - h*b*kz2_hat;\n",
        "  kz2_hat = 0.0d0;\n",
        "%\n",
        "  x_hat(i) = x_hat(i) + h*r*ky2_hat;\n",
        "  kx1_hat = kx1_hat + h*r*ky2_hat;\n",
        "  y_hat(i) = y_hat(i) - h* ky2_hat;\n",
        "  ky1_hat = ky1_hat - h*ky2_hat;\n",
        "  x_hat(i) = x_hat(i) - h*ky2_hat*(z(i)+kz1);\n",
        "  kx1_hat = kx1_hat - h*ky2_hat*(z(i)+kz1);\n",
        "  z_hat(i) = z_hat(i) - h*(x(i)+kx1)*ky2_hat;\n",
        "  kz1_hat = kz1_hat - h*(x(i)+kx1)*ky2_hat;\n",
        "  ky2_hat = 0.0d0;\n",
        "%\n",
        "  y_hat(i) = y_hat(i) + h*a*kx2_hat;\n",
        "  ky1_hat = ky1_hat + h*a*kx2_hat;\n",
        "  x_hat(i) = x_hat(i) - h*a*kx2_hat;\n",
        "  kx1_hat = kx1_hat - h*a*kx2_hat;\n",
        "  kx2_hat = 0.0d0;\n",
        "%\n",
        "  x_hat(i) = x_hat(i) + h*kz1_hat*y(i);\n",
        "  y_hat(i) = y_hat(i) + h*x(i)*kz1_hat;\n",
        "  z_hat(i) = z_hat(i) - h*b*kz1_hat;\n",
        "  kz1_hat = 0.0d0;\n",
        "  x_hat(i) = x_hat(i) + h*r*ky1_hat;\n",
        "  y_hat(i) = y_hat(i) - h*ky1_hat;\n",
        "  x_hat(i) = x_hat(i) - h*ky1_hat*z(i);\n",
        "  z_hat(i) = z_hat(i) - h*x(i)*ky1_hat;\n",
        "  ky1_hat = 0.0d0;\n",
        "  y_hat(i) = y_hat(i) + h*a*kx1_hat;\n",
        "  x_hat(i) = x_hat(i) - h*a*kx1_hat;\n",
        "  kx1_hat = 0.0d0;\n",
        "end\n",
        "xval_hat(j+1) = xval_hat(j+1) + x_hat(1);\n",
        "x_hat(1) = 0.0d0;\n",
        "yval_hat(j+1) = yval_hat(j+1) + y_hat(1);\n",
        "y_hat(1) = 0.0d0;\n",
        "zval_hat(j+1) = zval_hat(j+1) + z_hat(1);\n",
        "z_hat(1) = 0.0d0;\n"
      ],
      "metadata": {
        "id": "kY4AViYAeV2c"
      },
      "execution_count": null,
      "outputs": []
    },
    {
      "cell_type": "markdown",
      "source": [
        "### Input minimization info and perform minimization"
      ],
      "metadata": {
        "id": "h04VK0fsfmsw"
      }
    },
    {
      "cell_type": "code",
      "source": [
        "%%octave\n",
        "\n",
        "%---------------------------------------------------------------------\n",
        "% 5. Input minimization info and perform minimization\n",
        "%---------------------------------------------------------------------\n",
        "% Maximum number of iterations\n",
        "max_iterations=30;\n",
        "\n",
        "% Tolerance\n",
        "tolerance=1d-2;\n",
        "\n",
        "% Outer loops\n",
        "outer_loops=2;\n",
        "\n",
        "%zstr={'30','1d-2','2'};\n",
        "%min_str=inputdlg({xstr,ystr,y2str},'Minimization control',1,zstr);\n",
        "%\n",
        "k=1;\n",
        "costplot=zeros(1);\n",
        "normplot=zeros(1);\n",
        "for i_outer=1:outer_loops\n",
        "%%%% Start of outer loop %%%%\n",
        "disp(['Outer loop ' num2str(i_outer)])\n",
        "  [x,y,z]=modeuler(tstep,h,i_outer,guessz,guessy,guessx,a,r,b);\n",
        "  x0_p(1:2) = 0.0d0;\n",
        "  y0_p(1:2) = 0.0d0;\n",
        "  z0_p(1:2) = 0.0d0;\n",
        "% Calculate innovations\n",
        "  for i=1:freq:tstep\n",
        "    x_d(i) = x(i) - datx(i);\n",
        "    y_d(i) = y(i) - daty(i);\n",
        "    z_d(i) = z(i) - datz(i);\n",
        "  end\n",
        "\n",
        "j=2;\n",
        "  [f,g] = calcfg_inc(tstep,h,x,y,z,x_d,y_d,z_d,...\n",
        "                     x0_p(j),y0_p(j),z0_p(j),a,r,b,D,freq);\n",
        "  cost(j)=f;\n",
        "  lx=g(1);\n",
        "  ly=g(2);\n",
        "  lz=g(3);\n",
        "\n",
        "\n",
        "lnorm(j)=sqrt(lx(1)*lx(1)+ly(1)*ly(1)+lz(1)*lz(1));\n",
        "%     minimisation via least squares\n",
        "l_converged=0;\n",
        "if lnorm(j)<tolerance\n",
        "  l_converged=1;\n",
        "end\n",
        "\n",
        "%%% Inner minimization\n",
        "while lnorm(j)>tolerance & l_converged==0  % 70\n",
        "  s(j)=0.5d0;\n",
        "% normalise gradient vector\n",
        "  gx=lx(1)/lnorm(j);\n",
        "  gy=ly(1)/lnorm(j);\n",
        "  gz=lz(1)/lnorm(j);\n",
        "\n",
        "  x0_p(j+1) = x0_p(j)-s(j)*gx;\n",
        "  y0_p(j+1) = y0_p(j)-s(j)*gy;\n",
        "  z0_p(j+1) = z0_p(j)-s(j)*gz;\n",
        "  [f,g] = calcfg_inc(tstep,h,x,y,z,x_d,y_d,z_d,...\n",
        "                     x0_p(j+1),y0_p(j+1),z0_p(j+1),a,r,b,D,freq);\n",
        "  cost(j+1)=f;\n",
        "  lx=g(1);\n",
        "  ly=g(2);\n",
        "  lz=g(3);\n",
        "\n",
        "  lnorm(j+1)=sqrt(lx(1)*lx(1)+ly(1)*ly(1)+lz(1)*lz(1));\n",
        "\n",
        "  if (j-1>max_iterations)  % Max number of iterations reached\n",
        "    l_converged=1;\n",
        "    disp('Failed to converge in maximum number of iterations')\n",
        "    j=j-1;\n",
        "  else\n",
        "    Iteration=j-1\n",
        "    while (lnorm(j+1) >= lnorm(j) & s(j) > tolerance ...\n",
        "                       & l_converged == 0) % 75\n",
        "      s(j)=s(j)*0.5d0;\n",
        "      x0_p(j+1) = x0_p(j)-s(j)*gx;\n",
        "      y0_p(j+1) = y0_p(j)-s(j)*gy;\n",
        "      z0_p(j+1) = z0_p(j)-s(j)*gz;\n",
        "\n",
        "      [f,g] = calcfg_inc(tstep,h,x,y,z,x_d,y_d,z_d,...\n",
        "                     x0_p(j+1),y0_p(j+1),z0_p(j+1),a,r,b,D,freq);\n",
        "      cost(j+1)=f;\n",
        "      lx=g(1);\n",
        "      ly=g(2);\n",
        "      lz=g(3);\n",
        "      lnorm(j+1)=sqrt(lx(1)*lx(1)+ly(1)*ly(1)+lz(1)*lz(1));\n",
        "% Convergence test on norm of gradient\n",
        "      if (abs((lnorm(j+1)-lnorm(j)))<tolerance)\n",
        "        disp('Converged on change in gradient')\n",
        "        number_of_iterations=j-1\n",
        "        l_converged=1;\n",
        "      end\n",
        "    end\n",
        "      if (~l_converged)\n",
        "        j=j+1;\n",
        "      end\n",
        "  end\n",
        "end  % Inner minimization\n",
        "\n",
        "guessx(i_outer+2) = guessx(i_outer+1) + x0_p(j+1);\n",
        "guessy(i_outer+2) = guessy(i_outer+1) + y0_p(j+1);\n",
        "guessz(i_outer+2) = guessz(i_outer+1) + z0_p(j+1);\n",
        "\n",
        "costplot(k:k+j-1) = cost(2:j+1);\n",
        "normplot(k:k+j-1) = lnorm(2:j+1);\n",
        "k=k+j;\n",
        "\n",
        "end  % i_outer\n",
        "Norm_of_gradient=lnorm(j+1)\n"
      ],
      "metadata": {
        "id": "3KcRxVr97jok",
        "colab": {
          "base_uri": "https://localhost:8080/"
        },
        "outputId": "0fecdc1c-a003-4980-e3f0-f2983ed224d9"
      },
      "execution_count": null,
      "outputs": [
        {
          "output_type": "display_data",
          "data": {
            "text/plain": [
              "Outer loop 1"
            ]
          },
          "metadata": {}
        },
        {
          "output_type": "display_data",
          "data": {
            "text/plain": [
              "Iteration = 1"
            ]
          },
          "metadata": {}
        },
        {
          "output_type": "display_data",
          "data": {
            "text/plain": [
              "warning: Matlab-style short-circuit operation performed for operator &"
            ]
          },
          "metadata": {}
        },
        {
          "output_type": "display_data",
          "data": {
            "text/plain": [
              "warning: Matlab-style short-circuit operation performed for operator &"
            ]
          },
          "metadata": {}
        },
        {
          "output_type": "display_data",
          "data": {
            "text/plain": [
              "Iteration = 2"
            ]
          },
          "metadata": {}
        },
        {
          "output_type": "display_data",
          "data": {
            "text/plain": [
              "warning: Matlab-style short-circuit operation performed for operator &"
            ]
          },
          "metadata": {}
        },
        {
          "output_type": "display_data",
          "data": {
            "text/plain": [
              "warning: Matlab-style short-circuit operation performed for operator &"
            ]
          },
          "metadata": {}
        },
        {
          "output_type": "display_data",
          "data": {
            "text/plain": [
              "Iteration = 3"
            ]
          },
          "metadata": {}
        },
        {
          "output_type": "display_data",
          "data": {
            "text/plain": [
              "warning: Matlab-style short-circuit operation performed for operator &"
            ]
          },
          "metadata": {}
        },
        {
          "output_type": "display_data",
          "data": {
            "text/plain": [
              "warning: Matlab-style short-circuit operation performed for operator &"
            ]
          },
          "metadata": {}
        },
        {
          "output_type": "display_data",
          "data": {
            "text/plain": [
              "Iteration = 4"
            ]
          },
          "metadata": {}
        },
        {
          "output_type": "display_data",
          "data": {
            "text/plain": [
              "warning: Matlab-style short-circuit operation performed for operator &"
            ]
          },
          "metadata": {}
        },
        {
          "output_type": "display_data",
          "data": {
            "text/plain": [
              "warning: Matlab-style short-circuit operation performed for operator &"
            ]
          },
          "metadata": {}
        },
        {
          "output_type": "display_data",
          "data": {
            "text/plain": [
              "Iteration = 5"
            ]
          },
          "metadata": {}
        },
        {
          "output_type": "display_data",
          "data": {
            "text/plain": [
              "warning: Matlab-style short-circuit operation performed for operator &"
            ]
          },
          "metadata": {}
        },
        {
          "output_type": "display_data",
          "data": {
            "text/plain": [
              "warning: Matlab-style short-circuit operation performed for operator &"
            ]
          },
          "metadata": {}
        },
        {
          "output_type": "display_data",
          "data": {
            "text/plain": [
              "Iteration = 6"
            ]
          },
          "metadata": {}
        },
        {
          "output_type": "display_data",
          "data": {
            "text/plain": [
              "warning: Matlab-style short-circuit operation performed for operator &"
            ]
          },
          "metadata": {}
        },
        {
          "output_type": "display_data",
          "data": {
            "text/plain": [
              "Iteration = 7"
            ]
          },
          "metadata": {}
        },
        {
          "output_type": "display_data",
          "data": {
            "text/plain": [
              "warning: Matlab-style short-circuit operation performed for operator &"
            ]
          },
          "metadata": {}
        },
        {
          "output_type": "display_data",
          "data": {
            "text/plain": [
              "Iteration = 8"
            ]
          },
          "metadata": {}
        },
        {
          "output_type": "display_data",
          "data": {
            "text/plain": [
              "warning: Matlab-style short-circuit operation performed for operator &"
            ]
          },
          "metadata": {}
        },
        {
          "output_type": "display_data",
          "data": {
            "text/plain": [
              "warning: Matlab-style short-circuit operation performed for operator &"
            ]
          },
          "metadata": {}
        },
        {
          "output_type": "display_data",
          "data": {
            "text/plain": [
              "Iteration = 9"
            ]
          },
          "metadata": {}
        },
        {
          "output_type": "display_data",
          "data": {
            "text/plain": [
              "warning: Matlab-style short-circuit operation performed for operator &"
            ]
          },
          "metadata": {}
        },
        {
          "output_type": "display_data",
          "data": {
            "text/plain": [
              "Iteration = 10"
            ]
          },
          "metadata": {}
        },
        {
          "output_type": "display_data",
          "data": {
            "text/plain": [
              "warning: Matlab-style short-circuit operation performed for operator &"
            ]
          },
          "metadata": {}
        },
        {
          "output_type": "display_data",
          "data": {
            "text/plain": [
              "warning: Matlab-style short-circuit operation performed for operator &"
            ]
          },
          "metadata": {}
        },
        {
          "output_type": "display_data",
          "data": {
            "text/plain": [
              "Iteration = 11"
            ]
          },
          "metadata": {}
        },
        {
          "output_type": "display_data",
          "data": {
            "text/plain": [
              "warning: Matlab-style short-circuit operation performed for operator &"
            ]
          },
          "metadata": {}
        },
        {
          "output_type": "display_data",
          "data": {
            "text/plain": [
              "Iteration = 12"
            ]
          },
          "metadata": {}
        },
        {
          "output_type": "display_data",
          "data": {
            "text/plain": [
              "warning: Matlab-style short-circuit operation performed for operator &"
            ]
          },
          "metadata": {}
        },
        {
          "output_type": "display_data",
          "data": {
            "text/plain": [
              "warning: Matlab-style short-circuit operation performed for operator &"
            ]
          },
          "metadata": {}
        },
        {
          "output_type": "display_data",
          "data": {
            "text/plain": [
              "Iteration = 13"
            ]
          },
          "metadata": {}
        },
        {
          "output_type": "display_data",
          "data": {
            "text/plain": [
              "warning: Matlab-style short-circuit operation performed for operator &"
            ]
          },
          "metadata": {}
        },
        {
          "output_type": "display_data",
          "data": {
            "text/plain": [
              "Iteration = 14"
            ]
          },
          "metadata": {}
        },
        {
          "output_type": "display_data",
          "data": {
            "text/plain": [
              "warning: Matlab-style short-circuit operation performed for operator &"
            ]
          },
          "metadata": {}
        },
        {
          "output_type": "display_data",
          "data": {
            "text/plain": [
              "warning: Matlab-style short-circuit operation performed for operator &"
            ]
          },
          "metadata": {}
        },
        {
          "output_type": "display_data",
          "data": {
            "text/plain": [
              "Iteration = 15"
            ]
          },
          "metadata": {}
        },
        {
          "output_type": "display_data",
          "data": {
            "text/plain": [
              "warning: Matlab-style short-circuit operation performed for operator &"
            ]
          },
          "metadata": {}
        },
        {
          "output_type": "display_data",
          "data": {
            "text/plain": [
              "Iteration = 16"
            ]
          },
          "metadata": {}
        },
        {
          "output_type": "display_data",
          "data": {
            "text/plain": [
              "warning: Matlab-style short-circuit operation performed for operator &"
            ]
          },
          "metadata": {}
        },
        {
          "output_type": "display_data",
          "data": {
            "text/plain": [
              "warning: Matlab-style short-circuit operation performed for operator &"
            ]
          },
          "metadata": {}
        },
        {
          "output_type": "display_data",
          "data": {
            "text/plain": [
              "Iteration = 17"
            ]
          },
          "metadata": {}
        },
        {
          "output_type": "display_data",
          "data": {
            "text/plain": [
              "warning: Matlab-style short-circuit operation performed for operator &"
            ]
          },
          "metadata": {}
        },
        {
          "output_type": "display_data",
          "data": {
            "text/plain": [
              "Iteration = 18"
            ]
          },
          "metadata": {}
        },
        {
          "output_type": "display_data",
          "data": {
            "text/plain": [
              "warning: Matlab-style short-circuit operation performed for operator &"
            ]
          },
          "metadata": {}
        },
        {
          "output_type": "display_data",
          "data": {
            "text/plain": [
              "warning: Matlab-style short-circuit operation performed for operator &"
            ]
          },
          "metadata": {}
        },
        {
          "output_type": "display_data",
          "data": {
            "text/plain": [
              "Iteration = 19"
            ]
          },
          "metadata": {}
        },
        {
          "output_type": "display_data",
          "data": {
            "text/plain": [
              "warning: Matlab-style short-circuit operation performed for operator &"
            ]
          },
          "metadata": {}
        },
        {
          "output_type": "display_data",
          "data": {
            "text/plain": [
              "Iteration = 20"
            ]
          },
          "metadata": {}
        },
        {
          "output_type": "display_data",
          "data": {
            "text/plain": [
              "warning: Matlab-style short-circuit operation performed for operator &"
            ]
          },
          "metadata": {}
        },
        {
          "output_type": "display_data",
          "data": {
            "text/plain": [
              "warning: Matlab-style short-circuit operation performed for operator &"
            ]
          },
          "metadata": {}
        },
        {
          "output_type": "display_data",
          "data": {
            "text/plain": [
              "Iteration = 21"
            ]
          },
          "metadata": {}
        },
        {
          "output_type": "display_data",
          "data": {
            "text/plain": [
              "warning: Matlab-style short-circuit operation performed for operator &"
            ]
          },
          "metadata": {}
        },
        {
          "output_type": "display_data",
          "data": {
            "text/plain": [
              "Iteration = 22"
            ]
          },
          "metadata": {}
        },
        {
          "output_type": "display_data",
          "data": {
            "text/plain": [
              "warning: Matlab-style short-circuit operation performed for operator &"
            ]
          },
          "metadata": {}
        },
        {
          "output_type": "display_data",
          "data": {
            "text/plain": [
              "warning: Matlab-style short-circuit operation performed for operator &"
            ]
          },
          "metadata": {}
        },
        {
          "output_type": "display_data",
          "data": {
            "text/plain": [
              "Iteration = 23"
            ]
          },
          "metadata": {}
        },
        {
          "output_type": "display_data",
          "data": {
            "text/plain": [
              "warning: Matlab-style short-circuit operation performed for operator &"
            ]
          },
          "metadata": {}
        },
        {
          "output_type": "display_data",
          "data": {
            "text/plain": [
              "Iteration = 24"
            ]
          },
          "metadata": {}
        },
        {
          "output_type": "display_data",
          "data": {
            "text/plain": [
              "warning: Matlab-style short-circuit operation performed for operator &"
            ]
          },
          "metadata": {}
        },
        {
          "output_type": "display_data",
          "data": {
            "text/plain": [
              "warning: Matlab-style short-circuit operation performed for operator &"
            ]
          },
          "metadata": {}
        },
        {
          "output_type": "display_data",
          "data": {
            "text/plain": [
              "Iteration = 25"
            ]
          },
          "metadata": {}
        },
        {
          "output_type": "display_data",
          "data": {
            "text/plain": [
              "warning: Matlab-style short-circuit operation performed for operator &"
            ]
          },
          "metadata": {}
        },
        {
          "output_type": "display_data",
          "data": {
            "text/plain": [
              "Iteration = 26"
            ]
          },
          "metadata": {}
        },
        {
          "output_type": "display_data",
          "data": {
            "text/plain": [
              "warning: Matlab-style short-circuit operation performed for operator &"
            ]
          },
          "metadata": {}
        },
        {
          "output_type": "display_data",
          "data": {
            "text/plain": [
              "warning: Matlab-style short-circuit operation performed for operator &"
            ]
          },
          "metadata": {}
        },
        {
          "output_type": "display_data",
          "data": {
            "text/plain": [
              "Iteration = 27"
            ]
          },
          "metadata": {}
        },
        {
          "output_type": "display_data",
          "data": {
            "text/plain": [
              "warning: Matlab-style short-circuit operation performed for operator &"
            ]
          },
          "metadata": {}
        },
        {
          "output_type": "display_data",
          "data": {
            "text/plain": [
              "Iteration = 28"
            ]
          },
          "metadata": {}
        },
        {
          "output_type": "display_data",
          "data": {
            "text/plain": [
              "warning: Matlab-style short-circuit operation performed for operator &"
            ]
          },
          "metadata": {}
        },
        {
          "output_type": "display_data",
          "data": {
            "text/plain": [
              "warning: Matlab-style short-circuit operation performed for operator &"
            ]
          },
          "metadata": {}
        },
        {
          "output_type": "display_data",
          "data": {
            "text/plain": [
              "Iteration = 29"
            ]
          },
          "metadata": {}
        },
        {
          "output_type": "display_data",
          "data": {
            "text/plain": [
              "warning: Matlab-style short-circuit operation performed for operator &"
            ]
          },
          "metadata": {}
        },
        {
          "output_type": "display_data",
          "data": {
            "text/plain": [
              "Iteration = 30"
            ]
          },
          "metadata": {}
        },
        {
          "output_type": "display_data",
          "data": {
            "text/plain": [
              "warning: Matlab-style short-circuit operation performed for operator &"
            ]
          },
          "metadata": {}
        },
        {
          "output_type": "display_data",
          "data": {
            "text/plain": [
              "warning: Matlab-style short-circuit operation performed for operator &"
            ]
          },
          "metadata": {}
        },
        {
          "output_type": "display_data",
          "data": {
            "text/plain": [
              "Failed to converge in maximum number of iterations"
            ]
          },
          "metadata": {}
        },
        {
          "output_type": "display_data",
          "data": {
            "text/plain": [
              "Outer loop 2"
            ]
          },
          "metadata": {}
        },
        {
          "output_type": "display_data",
          "data": {
            "text/plain": [
              "Iteration = 1"
            ]
          },
          "metadata": {}
        },
        {
          "output_type": "display_data",
          "data": {
            "text/plain": [
              "warning: Matlab-style short-circuit operation performed for operator &"
            ]
          },
          "metadata": {}
        },
        {
          "output_type": "display_data",
          "data": {
            "text/plain": [
              "warning: Matlab-style short-circuit operation performed for operator &"
            ]
          },
          "metadata": {}
        },
        {
          "output_type": "display_data",
          "data": {
            "text/plain": [
              "Iteration = 2"
            ]
          },
          "metadata": {}
        },
        {
          "output_type": "display_data",
          "data": {
            "text/plain": [
              "warning: Matlab-style short-circuit operation performed for operator &"
            ]
          },
          "metadata": {}
        },
        {
          "output_type": "display_data",
          "data": {
            "text/plain": [
              "warning: Matlab-style short-circuit operation performed for operator &"
            ]
          },
          "metadata": {}
        },
        {
          "output_type": "display_data",
          "data": {
            "text/plain": [
              "Iteration = 3"
            ]
          },
          "metadata": {}
        },
        {
          "output_type": "display_data",
          "data": {
            "text/plain": [
              "warning: Matlab-style short-circuit operation performed for operator &"
            ]
          },
          "metadata": {}
        },
        {
          "output_type": "display_data",
          "data": {
            "text/plain": [
              "Iteration = 4"
            ]
          },
          "metadata": {}
        },
        {
          "output_type": "display_data",
          "data": {
            "text/plain": [
              "warning: Matlab-style short-circuit operation performed for operator &"
            ]
          },
          "metadata": {}
        },
        {
          "output_type": "display_data",
          "data": {
            "text/plain": [
              "warning: Matlab-style short-circuit operation performed for operator &"
            ]
          },
          "metadata": {}
        },
        {
          "output_type": "display_data",
          "data": {
            "text/plain": [
              "Iteration = 5"
            ]
          },
          "metadata": {}
        },
        {
          "output_type": "display_data",
          "data": {
            "text/plain": [
              "warning: Matlab-style short-circuit operation performed for operator &"
            ]
          },
          "metadata": {}
        },
        {
          "output_type": "display_data",
          "data": {
            "text/plain": [
              "Iteration = 6"
            ]
          },
          "metadata": {}
        },
        {
          "output_type": "display_data",
          "data": {
            "text/plain": [
              "warning: Matlab-style short-circuit operation performed for operator &"
            ]
          },
          "metadata": {}
        },
        {
          "output_type": "display_data",
          "data": {
            "text/plain": [
              "warning: Matlab-style short-circuit operation performed for operator &"
            ]
          },
          "metadata": {}
        },
        {
          "output_type": "display_data",
          "data": {
            "text/plain": [
              "Iteration = 7"
            ]
          },
          "metadata": {}
        },
        {
          "output_type": "display_data",
          "data": {
            "text/plain": [
              "warning: Matlab-style short-circuit operation performed for operator &"
            ]
          },
          "metadata": {}
        },
        {
          "output_type": "display_data",
          "data": {
            "text/plain": [
              "Iteration = 8"
            ]
          },
          "metadata": {}
        },
        {
          "output_type": "display_data",
          "data": {
            "text/plain": [
              "warning: Matlab-style short-circuit operation performed for operator &"
            ]
          },
          "metadata": {}
        },
        {
          "output_type": "display_data",
          "data": {
            "text/plain": [
              "warning: Matlab-style short-circuit operation performed for operator &"
            ]
          },
          "metadata": {}
        },
        {
          "output_type": "display_data",
          "data": {
            "text/plain": [
              "Iteration = 9"
            ]
          },
          "metadata": {}
        },
        {
          "output_type": "display_data",
          "data": {
            "text/plain": [
              "warning: Matlab-style short-circuit operation performed for operator &"
            ]
          },
          "metadata": {}
        },
        {
          "output_type": "display_data",
          "data": {
            "text/plain": [
              "Iteration = 10"
            ]
          },
          "metadata": {}
        },
        {
          "output_type": "display_data",
          "data": {
            "text/plain": [
              "warning: Matlab-style short-circuit operation performed for operator &"
            ]
          },
          "metadata": {}
        },
        {
          "output_type": "display_data",
          "data": {
            "text/plain": [
              "warning: Matlab-style short-circuit operation performed for operator &"
            ]
          },
          "metadata": {}
        },
        {
          "output_type": "display_data",
          "data": {
            "text/plain": [
              "Iteration = 11"
            ]
          },
          "metadata": {}
        },
        {
          "output_type": "display_data",
          "data": {
            "text/plain": [
              "warning: Matlab-style short-circuit operation performed for operator &"
            ]
          },
          "metadata": {}
        },
        {
          "output_type": "display_data",
          "data": {
            "text/plain": [
              "Iteration = 12"
            ]
          },
          "metadata": {}
        },
        {
          "output_type": "display_data",
          "data": {
            "text/plain": [
              "warning: Matlab-style short-circuit operation performed for operator &"
            ]
          },
          "metadata": {}
        },
        {
          "output_type": "display_data",
          "data": {
            "text/plain": [
              "warning: Matlab-style short-circuit operation performed for operator &"
            ]
          },
          "metadata": {}
        },
        {
          "output_type": "display_data",
          "data": {
            "text/plain": [
              "Iteration = 13"
            ]
          },
          "metadata": {}
        },
        {
          "output_type": "display_data",
          "data": {
            "text/plain": [
              "warning: Matlab-style short-circuit operation performed for operator &"
            ]
          },
          "metadata": {}
        },
        {
          "output_type": "display_data",
          "data": {
            "text/plain": [
              "Iteration = 14"
            ]
          },
          "metadata": {}
        },
        {
          "output_type": "display_data",
          "data": {
            "text/plain": [
              "warning: Matlab-style short-circuit operation performed for operator &"
            ]
          },
          "metadata": {}
        },
        {
          "output_type": "display_data",
          "data": {
            "text/plain": [
              "warning: Matlab-style short-circuit operation performed for operator &"
            ]
          },
          "metadata": {}
        },
        {
          "output_type": "display_data",
          "data": {
            "text/plain": [
              "Iteration = 15"
            ]
          },
          "metadata": {}
        },
        {
          "output_type": "display_data",
          "data": {
            "text/plain": [
              "warning: Matlab-style short-circuit operation performed for operator &"
            ]
          },
          "metadata": {}
        },
        {
          "output_type": "display_data",
          "data": {
            "text/plain": [
              "Iteration = 16"
            ]
          },
          "metadata": {}
        },
        {
          "output_type": "display_data",
          "data": {
            "text/plain": [
              "warning: Matlab-style short-circuit operation performed for operator &"
            ]
          },
          "metadata": {}
        },
        {
          "output_type": "display_data",
          "data": {
            "text/plain": [
              "warning: Matlab-style short-circuit operation performed for operator &"
            ]
          },
          "metadata": {}
        },
        {
          "output_type": "display_data",
          "data": {
            "text/plain": [
              "Iteration = 17"
            ]
          },
          "metadata": {}
        },
        {
          "output_type": "display_data",
          "data": {
            "text/plain": [
              "warning: Matlab-style short-circuit operation performed for operator &"
            ]
          },
          "metadata": {}
        },
        {
          "output_type": "display_data",
          "data": {
            "text/plain": [
              "Iteration = 18"
            ]
          },
          "metadata": {}
        },
        {
          "output_type": "display_data",
          "data": {
            "text/plain": [
              "warning: Matlab-style short-circuit operation performed for operator &"
            ]
          },
          "metadata": {}
        },
        {
          "output_type": "display_data",
          "data": {
            "text/plain": [
              "warning: Matlab-style short-circuit operation performed for operator &"
            ]
          },
          "metadata": {}
        },
        {
          "output_type": "display_data",
          "data": {
            "text/plain": [
              "Iteration = 19"
            ]
          },
          "metadata": {}
        },
        {
          "output_type": "display_data",
          "data": {
            "text/plain": [
              "warning: Matlab-style short-circuit operation performed for operator &"
            ]
          },
          "metadata": {}
        },
        {
          "output_type": "display_data",
          "data": {
            "text/plain": [
              "Iteration = 20"
            ]
          },
          "metadata": {}
        },
        {
          "output_type": "display_data",
          "data": {
            "text/plain": [
              "warning: Matlab-style short-circuit operation performed for operator &"
            ]
          },
          "metadata": {}
        },
        {
          "output_type": "display_data",
          "data": {
            "text/plain": [
              "warning: Matlab-style short-circuit operation performed for operator &"
            ]
          },
          "metadata": {}
        },
        {
          "output_type": "display_data",
          "data": {
            "text/plain": [
              "Iteration = 21"
            ]
          },
          "metadata": {}
        },
        {
          "output_type": "display_data",
          "data": {
            "text/plain": [
              "warning: Matlab-style short-circuit operation performed for operator &"
            ]
          },
          "metadata": {}
        },
        {
          "output_type": "display_data",
          "data": {
            "text/plain": [
              "Iteration = 22"
            ]
          },
          "metadata": {}
        },
        {
          "output_type": "display_data",
          "data": {
            "text/plain": [
              "warning: Matlab-style short-circuit operation performed for operator &"
            ]
          },
          "metadata": {}
        },
        {
          "output_type": "display_data",
          "data": {
            "text/plain": [
              "warning: Matlab-style short-circuit operation performed for operator &"
            ]
          },
          "metadata": {}
        },
        {
          "output_type": "display_data",
          "data": {
            "text/plain": [
              "Iteration = 23"
            ]
          },
          "metadata": {}
        },
        {
          "output_type": "display_data",
          "data": {
            "text/plain": [
              "warning: Matlab-style short-circuit operation performed for operator &"
            ]
          },
          "metadata": {}
        },
        {
          "output_type": "display_data",
          "data": {
            "text/plain": [
              "Iteration = 24"
            ]
          },
          "metadata": {}
        },
        {
          "output_type": "display_data",
          "data": {
            "text/plain": [
              "warning: Matlab-style short-circuit operation performed for operator &"
            ]
          },
          "metadata": {}
        },
        {
          "output_type": "display_data",
          "data": {
            "text/plain": [
              "warning: Matlab-style short-circuit operation performed for operator &"
            ]
          },
          "metadata": {}
        },
        {
          "output_type": "display_data",
          "data": {
            "text/plain": [
              "Iteration = 25"
            ]
          },
          "metadata": {}
        },
        {
          "output_type": "display_data",
          "data": {
            "text/plain": [
              "warning: Matlab-style short-circuit operation performed for operator &"
            ]
          },
          "metadata": {}
        },
        {
          "output_type": "display_data",
          "data": {
            "text/plain": [
              "Iteration = 26"
            ]
          },
          "metadata": {}
        },
        {
          "output_type": "display_data",
          "data": {
            "text/plain": [
              "warning: Matlab-style short-circuit operation performed for operator &"
            ]
          },
          "metadata": {}
        },
        {
          "output_type": "display_data",
          "data": {
            "text/plain": [
              "warning: Matlab-style short-circuit operation performed for operator &"
            ]
          },
          "metadata": {}
        },
        {
          "output_type": "display_data",
          "data": {
            "text/plain": [
              "Iteration = 27"
            ]
          },
          "metadata": {}
        },
        {
          "output_type": "display_data",
          "data": {
            "text/plain": [
              "warning: Matlab-style short-circuit operation performed for operator &"
            ]
          },
          "metadata": {}
        },
        {
          "output_type": "display_data",
          "data": {
            "text/plain": [
              "Iteration = 28"
            ]
          },
          "metadata": {}
        },
        {
          "output_type": "display_data",
          "data": {
            "text/plain": [
              "warning: Matlab-style short-circuit operation performed for operator &"
            ]
          },
          "metadata": {}
        },
        {
          "output_type": "display_data",
          "data": {
            "text/plain": [
              "warning: Matlab-style short-circuit operation performed for operator &"
            ]
          },
          "metadata": {}
        },
        {
          "output_type": "display_data",
          "data": {
            "text/plain": [
              "Iteration = 29"
            ]
          },
          "metadata": {}
        },
        {
          "output_type": "display_data",
          "data": {
            "text/plain": [
              "warning: Matlab-style short-circuit operation performed for operator &"
            ]
          },
          "metadata": {}
        },
        {
          "output_type": "display_data",
          "data": {
            "text/plain": [
              "Iteration = 30"
            ]
          },
          "metadata": {}
        },
        {
          "output_type": "display_data",
          "data": {
            "text/plain": [
              "warning: Matlab-style short-circuit operation performed for operator &"
            ]
          },
          "metadata": {}
        },
        {
          "output_type": "display_data",
          "data": {
            "text/plain": [
              "warning: Matlab-style short-circuit operation performed for operator &"
            ]
          },
          "metadata": {}
        },
        {
          "output_type": "display_data",
          "data": {
            "text/plain": [
              "Failed to converge in maximum number of iterations"
            ]
          },
          "metadata": {}
        },
        {
          "output_type": "display_data",
          "data": {
            "text/plain": [
              "Norm_of_gradient = 72.08057901586355"
            ]
          },
          "metadata": {}
        }
      ]
    },
    {
      "cell_type": "markdown",
      "source": [
        "## **6. Run forecast from final analysis and plot**\n"
      ],
      "metadata": {
        "id": "zmXG-9PBo8bZ"
      }
    },
    {
      "cell_type": "code",
      "source": [
        "%%octave\n",
        "\n",
        "%---------------------------------------------------------------------\n",
        "% 6. Run forecast from final analysis and plot\n",
        "%---------------------------------------------------------------------\n",
        "jtemp=0;\n",
        "guessx(1)=x(1);\n",
        "guessy(1)=y(1);\n",
        "guessz(1)=z(1);\n",
        "[x,y,z]=modeuler(fcstep,h,jtemp,guessz,guessy,guessx,a,r,b);\n",
        "\n",
        "%h5=figure(5)\n",
        "plot(xvals,xx)\n",
        "hold on\n",
        "plot(v,x_ob(vec),'.m')\n",
        "plot(xvals,xf,'--k')\n",
        "plot(xvals,x,'--r')\n",
        "legend('modelo','observacoes','background','analise')\n",
        "\n",
        "% Plot vertical line at start of forecast\n",
        "yminmax=get(gca,'YLim');\n",
        "yspace=(yminmax(2)-yminmax(1))*0.01;\n",
        "yvals=yminmax(1):yspace:yminmax(2);\n",
        "%line(tstep-1,yvals,'LineStyle',':','Color','k')\n",
        "hold off\n",
        "%\n",
        "\n"
      ],
      "metadata": {
        "id": "iST1n1rvo4FN",
        "colab": {
          "base_uri": "https://localhost:8080/",
          "height": 454
        },
        "outputId": "8226f987-ca22-4b9e-fdf7-d20e632bab84"
      },
      "execution_count": null,
      "outputs": [
        {
          "output_type": "display_data",
          "data": {
            "text/plain": [
              "ans = -14.00540854874746"
            ]
          },
          "metadata": {}
        },
        {
          "output_type": "display_data",
          "data": {
            "image/png": "[encoded data removed]",
            "text/plain": [
              "<IPython.core.display.Image object>"
            ]
          },
          "metadata": {}
        }
      ]
    },
    {
      "cell_type": "code",
      "source": [
        "%%octave\n",
        "plot(xvals,zz)\n",
        "hold on\n",
        "plot(v,z_ob(vec),'.m')\n",
        "plot(xvals,zf,'--k')\n",
        "plot(xvals,z,'--r')\n",
        "legend('modelo','observacoes','background','analise')\n",
        "hold on\n",
        "% Plot vertical line at start of forecast\n",
        "yminmax=get(gca,'YLim');\n",
        "yspace=(yminmax(2)-yminmax(1))*0.01;\n",
        "yvals=yminmax(1):yspace:yminmax(2);\n",
        "%line(tstep-1,yvals,'LineStyle',':','Color','k')\n",
        "hold off"
      ],
      "metadata": {
        "id": "6JPcrJwVp5Go",
        "colab": {
          "base_uri": "https://localhost:8080/",
          "height": 454
        },
        "outputId": "3ff3e40f-3577-49e2-9cdf-ae46ede9497c"
      },
      "execution_count": null,
      "outputs": [
        {
          "output_type": "display_data",
          "data": {
            "text/plain": [
              "ans = -14.44256023529798"
            ]
          },
          "metadata": {}
        },
        {
          "output_type": "display_data",
          "data": {
            "image/png": "[encoded data removed]",
            "text/plain": [
              "<IPython.core.display.Image object>"
            ]
          },
          "metadata": {}
        }
      ]
    },
    {
      "cell_type": "markdown",
      "source": [
        "## **7. Calculate and plot error**"
      ],
      "metadata": {
        "id": "b7xuHissuqpf"
      }
    },
    {
      "cell_type": "code",
      "source": [
        "%%octave\n",
        "\n",
        "%---------------------------------------------------------------------\n",
        "%  7. Calculate and plot error\n",
        "%---------------------------------------------------------------------\n",
        "x_error=xx-x;\n",
        "\n",
        "plot(xvals,x_error,'k-');\n",
        "xlabel('passo de tempo');ylabel('Error')\n",
        "title(' (Verdade-Analise) em x')\n",
        "\n",
        "% Plot vertical line at start of forecast\n",
        "yminmax=get(gca,'YLim');\n",
        "yspace=(yminmax(2)-yminmax(1))*0.01;\n",
        "yvals=yminmax(1):yspace:yminmax(2);\n",
        "%line(tstep-1,yvals,'LineStyle',':','Color','k')\n",
        "%\n",
        "\n"
      ],
      "metadata": {
        "id": "5fyWtJNWun2j",
        "colab": {
          "base_uri": "https://localhost:8080/"
        },
        "outputId": "554041bd-2a9b-4861-bc49-a685f8473b35"
      },
      "execution_count": null,
      "outputs": [
        {
          "output_type": "display_data",
          "data": {
            "image/png": "[encoded data removed]",
            "text/plain": [
              "<IPython.core.display.Image object>"
            ]
          },
          "metadata": {}
        }
      ]
    },
    {
      "cell_type": "code",
      "source": [
        "%%octave\n",
        "z_error=zz-z;\n",
        "\n",
        "plot(xvals,z_error,'k-')\n",
        "xlabel('passo de tempo');ylabel('erro')\n",
        "title(' (Verdade-Analise) em z')\n",
        "% Plot vertical line at start of forecast\n",
        "yminmax=get(gca,'YLim');\n",
        "yspace=(yminmax(2)-yminmax(1))*0.01;\n",
        "yvals=yminmax(1):yspace:yminmax(2);\n",
        "%line(tstep-1,yvals,'LineStyle',':','Color','k')"
      ],
      "metadata": {
        "id": "Va_wDBeUvD5s",
        "colab": {
          "base_uri": "https://localhost:8080/"
        },
        "outputId": "ce259cac-74d7-4e06-8e73-e9b0ca2f1701"
      },
      "execution_count": null,
      "outputs": [
        {
          "output_type": "display_data",
          "data": {
            "image/png": "[encoded data removed]",
            "text/plain": [
              "<IPython.core.display.Image object>"
            ]
          },
          "metadata": {}
        }
      ]
    },
    {
      "cell_type": "markdown",
      "source": [
        "## **8. Plot convergence**"
      ],
      "metadata": {
        "id": "n77ozPksyDII"
      }
    },
    {
      "cell_type": "code",
      "source": [
        "%%octave\n",
        "\n",
        "%-----------------------------------------------------------------------\n",
        "%  8. Plot convergence\n",
        "%---------------------------------------------------------------------\n",
        "xmax=max(size(normplot));\n",
        "xvals=0:xmax-1;\n",
        "\n",
        "semilogy(xvals,costplot)\n",
        "title('Convergence of cost function')\n",
        "xlabel('Iteration')\n",
        "ylabel('Cost function')\n",
        "\n"
      ],
      "metadata": {
        "id": "zBaPGNktwTk-",
        "colab": {
          "base_uri": "https://localhost:8080/"
        },
        "outputId": "c6cf45da-de28-48e5-9396-b0c4ae53f0e0"
      },
      "execution_count": null,
      "outputs": [
        {
          "output_type": "display_data",
          "data": {
            "image/png": "[encoded data removed]",
            "text/plain": [
              "<IPython.core.display.Image object>"
            ]
          },
          "metadata": {}
        }
      ]
    },
    {
      "cell_type": "code",
      "source": [
        "%%octave\n",
        "\n",
        "semilogy(xvals,normplot)\n",
        "title('Convergence of gradient')\n",
        "xlabel('Iteration')\n",
        "ylabel('Norm of gradient')"
      ],
      "metadata": {
        "id": "FEV1lZEAxjEv",
        "colab": {
          "base_uri": "https://localhost:8080/"
        },
        "outputId": "b71b81d7-a9d6-45be-f662-7e8c4edf418d"
      },
      "execution_count": null,
      "outputs": [
        {
          "output_type": "display_data",
          "data": {
            "image/png": "[encoded data removed]",
            "text/plain": [
              "<IPython.core.display.Image object>"
            ]
          },
          "metadata": {}
        }
      ]
    },
    {
      "cell_type": "markdown",
      "source": [
        "### **9. Write out options chosen**"
      ],
      "metadata": {
        "id": "txQqnLrk3gOx"
      }
    },
    {
      "cell_type": "code",
      "source": [
        "%%octave\n",
        "\n",
        "%-----------------------------------------------------------------------\n",
        "% 9. Write out options chosen\n",
        "%---------------------------------------------------------------------\n",
        "text1={'List of options chosen'};\n",
        "text2={['True (x,y,z) at t=0:   (' num2str(truex) ',' num2str(truey) ',' ...\n",
        " num2str(truez)  ')']};\n",
        "text3={['First guess (x,y,z) at t=0:   (' num2str(guessx(1)) ',' num2str(guessy(1)) ',' ...\n",
        " num2str(guessz(1))  ')']};\n",
        "text4={['Length of assimilation window: ' num2str(ta)]};\n",
        "text5={['Length of subsequent forecast: ' num2str(tf)]};\n",
        "text6={['Time step: ' num2str(h)]};\n",
        "text7={['Frequency of observations = ' num2str(freq)]};\n",
        "%text9={['Maximum iterations: ' min_str{1}]};\n",
        "%text10={['Tolerance: ' min_str{2}]};\n",
        "if l_noise==0\n",
        "  text11={['No noise on observations']};\n",
        "else\n",
        "  text11={['Observations have random noise with variance ' num2str(sd)]};\n",
        "end\n",
        "\n",
        "str1=[text2;text3;text4;text5;text6;text7;text11];\n",
        "disp(str1)"
      ],
      "metadata": {
        "id": "zQ8U_kh2yY5e",
        "colab": {
          "base_uri": "https://localhost:8080/"
        },
        "outputId": "9ab8e837-7aed-45f7-fd26-557eabaf0eaa"
      },
      "execution_count": null,
      "outputs": [
        {
          "output_type": "display_data",
          "data": {
            "text/plain": [
              "{"
            ]
          },
          "metadata": {}
        },
        {
          "output_type": "display_data",
          "data": {
            "text/plain": [
              "  [1,1] = True (x,y,z) at t=0:   (1,1,1)"
            ]
          },
          "metadata": {}
        },
        {
          "output_type": "display_data",
          "data": {
            "text/plain": [
              "  [2,1] = First guess (x,y,z) at t=0:   (0.99027,1.0046,1.0226)"
            ]
          },
          "metadata": {}
        },
        {
          "output_type": "display_data",
          "data": {
            "text/plain": [
              "  [3,1] = Length of assimilation window: 3"
            ]
          },
          "metadata": {}
        },
        {
          "output_type": "display_data",
          "data": {
            "text/plain": [
              "  [4,1] = Length of subsequent forecast: 3"
            ]
          },
          "metadata": {}
        },
        {
          "output_type": "display_data",
          "data": {
            "text/plain": [
              "  [5,1] = Time step: 0.05"
            ]
          },
          "metadata": {}
        },
        {
          "output_type": "display_data",
          "data": {
            "text/plain": [
              "  [6,1] = Frequency of observations = 2"
            ]
          },
          "metadata": {}
        },
        {
          "output_type": "display_data",
          "data": {
            "text/plain": [
              "  [7,1] = Observations have random noise with variance 0.1"
            ]
          },
          "metadata": {}
        },
        {
          "output_type": "display_data",
          "data": {
            "text/plain": [
              "}"
            ]
          },
          "metadata": {}
        }
      ]
    }
  ]
}