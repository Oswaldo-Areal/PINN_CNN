{
  "nbformat": 4,
  "nbformat_minor": 0,
  "metadata": {
    "colab": {
      "provenance": []
    },
    "kernelspec": {
      "name": "python3",
      "display_name": "Python 3"
    },
    "language_info": {
      "name": "python"
    }
  },
  "cells": [
    {
      "cell_type": "markdown",
      "source": [
        "# Introdução às Redes Neurais Fisicamente Informadas - PINNs (Dia 06) ![Picture1.jpg](data:image/jpeg;base64,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)"
      ],
      "metadata": {
        "id": "iPw04Bv-KbBU"
      }
    },
    {
      "cell_type": "markdown",
      "source": [
        "---\n",
        "**Objetivo deste notebook:** resolver um problema de valor inicial e um problema de valor de contorno envolvendo uma EDO de 2a ordem. Veremos as nuâncias de como tratar cada um dos casos."
      ],
      "metadata": {
        "id": "Ihz7pzSUKiHI"
      }
    },
    {
      "cell_type": "markdown",
      "source": [
        "---\n",
        "### EXEMPLO 5\n",
        "\n",
        "**Objetivo:** Neste exemplo vamos resolver o problema de valor inicial dado pela equação não-homogênea $$y''(t)+5 y'(t) + 6 y(t)=e^{-t}$$ com condições iniciais $y(0)=-1$ e $y'(0)=2$.\n",
        "\n",
        "* Esse PVI tem solução analítica dada por $y(t)=\\frac{1}{2} e^{-3t} \\left(1-4e^{t}+e^{2t}\\right)$."
      ],
      "metadata": {
        "id": "Wx3NVzC7LAA3"
      }
    },
    {
      "cell_type": "markdown",
      "source": [
        "---\n",
        "Começamos instalando a biblioteca DeepXDE"
      ],
      "metadata": {
        "id": "-zpApoHDUSvQ"
      }
    },
    {
      "cell_type": "code",
      "source": [
        "!pip install deepxde -q gwpy"
      ],
      "metadata": {
        "id": "qMDiF0CoVZo4"
      },
      "execution_count": null,
      "outputs": []
    },
    {
      "cell_type": "markdown",
      "source": [
        "---\n",
        "Em seguida importamos o necessário"
      ],
      "metadata": {
        "id": "ZD2B3fm1u018"
      }
    },
    {
      "cell_type": "code",
      "source": [
        "import deepxde as dde\n",
        "import numpy as np\n",
        "import matplotlib.pyplot as plt\n",
        "import tensorflow as tf"
      ],
      "metadata": {
        "id": "qa8bGsivVdxO"
      },
      "execution_count": null,
      "outputs": []
    },
    {
      "cell_type": "markdown",
      "source": [
        "---\n",
        "**1$^\\mathrm{a}$ Etapa**\n",
        "\n",
        "Começamos definindo a equação diferencial a se trabalhar.\n",
        "\n",
        "Começamos definindo a função `ode` com duas entradas: (1) a variável independente `t` e (2) a variável dependente `y`.\n",
        "\n",
        "Para escrevemos a equação diferencial precisamos da derivada da variável dependente. No DeepXDE a 1$^\\mathrm{a}$ derivada é calculada utilizando o comando `dde.grad.jacobian(y, t)` e a 2$^\\mathrm{a}$ derivada é calculada utilizando o comando `dde.grad.hessian(y, t)`.\n",
        "\n",
        "Por fim retornamos a equação na forma $y''+5 y'+ 6 y=e^{-t},$ uma vez que o objetivo da rede é minimizar este termo de forma que ele esteja próximo de zero.\n",
        "\n",
        "*Obs.:* como estamos usando o `tensorflow` como *backend* precisamos chamar a exponencial definida pelo `tensorflow`. Caso seja usada a versão do `numpy` o código retornará alguma erro e não irá rodar."
      ],
      "metadata": {
        "id": "fgaZIFEvvBze"
      }
    },
    {
      "cell_type": "code",
      "source": [
        "def ode(t, y):\n",
        "    dy_dt = dde.grad.jacobian(y, t)\n",
        "    d2y_dt2 = dde.grad.hessian(y, t)\n",
        "    return d2y_dt2 + 5 * dy_dt + 6 * y - tf.math.exp(-t) # exponencial definida no tensorflow"
      ],
      "metadata": {
        "id": "ZG2wdOjpVhcr"
      },
      "execution_count": null,
      "outputs": []
    },
    {
      "cell_type": "markdown",
      "source": [
        "---\n",
        "**2$^\\mathrm{a}$ Etapa**\n",
        "\n",
        "Vamos agora definir a geometria do nosso domínio e as condições iniciais.\n",
        "\n",
        "Novamente, como estamos lidando com uma EDO, nossa geometria será um intervalo na reta $\\mathbb{R}$. Fazemos essa definição utilizando o comando `dde.geometry.TimeDomain(a, b)`.\n",
        "\n",
        "Em seguida, como estamos lidando com duas condições iniciais à esquerda (o usual) vamos definir uma função `boundary_l` que retorna o ponto na fronteira $t=a$.\n",
        "\n",
        "Finalmente utilizando o módulo de condições iniciais e de fronteira do DeepXDE chamamos a função `dde.icbc.IC(...)` cujas entradas são: (1) a geometria; (2) o valor da condição inicial e (3) qual ponto está a condição inicial.\n",
        "\n",
        "Aqui temos um detalhe importante, pois o módulo `dde.icbc.IC(...)` é capaz de definir apenas uma condição inicial que é $y(a)=y_0$. Portanto, precisamos definir a 2$^\\mathrm{a}$ condição inicial $y'(a)=y_1$ utilizando o módulo `dde.icbc.OperatorBC` que permite definir condições de contorno gerais. Neste caso, através da função `bc_func` calculamos a derivada da rede e fazemos a diferença dela com a condição inicial `y_1`, isto se deve pois o módulo `OperatorBC` deve retornar como entrada uma função nula: `func(inputs, outputs, X) = 0`.\n",
        "\n",
        "*Obs.: Alternativamente seria possível utilizar o módulo `dde.icbc.NeumannBC(...)`, faça o teste depois* ;-)"
      ],
      "metadata": {
        "id": "GyNUgoImwb-w"
      }
    },
    {
      "cell_type": "code",
      "execution_count": null,
      "metadata": {
        "id": "Qodv-DfQ4eVa"
      },
      "outputs": [],
      "source": [
        "a = 0\n",
        "b = 2\n",
        "y_0 = -1\n",
        "y_1 = 2\n",
        "\n",
        "geom = dde.geometry.TimeDomain(a, b)\n",
        "\n",
        "def boundary_l(t, on_initial):\n",
        "    return on_initial and dde.utils.isclose(t[0], a)\n",
        "\n",
        "def bc_func(inputs, outputs, X):\n",
        "    return dde.grad.jacobian(outputs, inputs, i=0, j=None) - y_1\n",
        "\n",
        "# essa linha poderia ser reescrita como ic1 = dde.icbc.IC(geom, lambda x: y_0, boundary_l)\n",
        "ic1 = dde.icbc.IC(geom, lambda x: y_0, lambda _, on_initial: on_initial) # define y(t_0)=y_0\n",
        "\n",
        "ic2 = dde.icbc.OperatorBC(geom, bc_func, boundary_l) # define y'(t_0)=y_1"
      ]
    },
    {
      "cell_type": "markdown",
      "source": [
        "---\n",
        "**3$^\\mathrm{a}$ Etapa**\n",
        "\n",
        "Montamos agora a estrutura da nossa rede neural.\n",
        "\n",
        "Primeiro passo é utilizar o método `TimePDE` para incluir as informações que definimos no passo anterior: (1) geometria; (2) equação diferencial; (3) condições iniciais e (4) a quantidade de pontos amostrados aleatoriamente no interior do domínio e na fronteira.\n",
        "\n",
        "Em seguida devemos escolher os parâmetros da rede como: (1) número de camadas e neurônios, (2) função de ativação e (3) o inicializador dos pesos.\n",
        "\n",
        "Por último compilamos o modelo para fazer a mágica acontecer."
      ],
      "metadata": {
        "id": "FJ069b6ryqHn"
      }
    },
    {
      "cell_type": "code",
      "source": [
        "data = dde.data.TimePDE(geom, ode, [ic1, ic2], num_domain=64, num_boundary=1)\n",
        "layer_size = [1] + [50] * 3 + [1]\n",
        "activation = \"tanh\"\n",
        "initializer = \"Glorot uniform\"\n",
        "net = dde.nn.FNN(layer_size, activation, initializer)\n",
        "\n",
        "model = dde.Model(data, net)\n",
        "model.compile(\"adam\", lr=1e-3)\n",
        "losshistory, train_state = model.train(iterations=10000)\n",
        "\n",
        "dde.saveplot(losshistory, train_state, issave=False, isplot=False)"
      ],
      "metadata": {
        "id": "Ed9c1UbOwY1_",
        "colab": {
          "base_uri": "https://localhost:8080/"
        },
        "outputId": "7871dd50-f8c3-49e8-f9ea-787c9d755b45"
      },
      "execution_count": null,
      "outputs": [
        {
          "output_type": "stream",
          "name": "stdout",
          "text": [
            "Compiling model...\n",
            "Building feed-forward neural network...\n",
            "'build' took 0.071328 s\n",
            "\n",
            "'compile' took 0.770398 s\n",
            "\n",
            "Training model...\n",
            "\n",
            "Step      Train loss                        Test loss                         Test metric\n",
            "0         [7.41e-01, 1.00e+00, 3.93e+00]    [7.41e-01, 1.00e+00, 3.93e+00]    []  \n",
            "1000      [6.91e-05, 2.37e-07, 3.49e-07]    [6.91e-05, 2.37e-07, 3.49e-07]    []  \n",
            "2000      [4.59e-05, 7.49e-09, 3.19e-08]    [4.59e-05, 7.49e-09, 3.19e-08]    []  \n",
            "3000      [4.27e-05, 4.10e-09, 2.53e-08]    [4.27e-05, 4.10e-09, 2.53e-08]    []  \n",
            "4000      [3.75e-05, 8.19e-10, 1.35e-08]    [3.75e-05, 8.19e-10, 1.35e-08]    []  \n",
            "5000      [3.38e-05, 2.83e-10, 9.21e-09]    [3.38e-05, 2.83e-10, 9.21e-09]    []  \n",
            "6000      [3.19e-05, 2.90e-09, 7.61e-09]    [3.19e-05, 2.90e-09, 7.61e-09]    []  \n",
            "7000      [2.14e-05, 3.41e-12, 3.55e-09]    [2.14e-05, 3.41e-12, 3.55e-09]    []  \n",
            "8000      [4.88e-03, 9.93e-06, 1.03e-04]    [4.88e-03, 9.93e-06, 1.03e-04]    []  \n",
            "9000      [3.99e-05, 1.05e-07, 6.73e-07]    [3.99e-05, 1.05e-07, 6.73e-07]    []  \n",
            "10000     [7.76e-06, 8.19e-12, 1.03e-09]    [7.76e-06, 8.19e-12, 1.03e-09]    []  \n",
            "\n",
            "Best model at step 10000:\n",
            "  train loss: 7.76e-06\n",
            "  test loss: 7.76e-06\n",
            "  test metric: []\n",
            "\n",
            "'train' took 31.445251 s\n",
            "\n"
          ]
        }
      ]
    },
    {
      "cell_type": "markdown",
      "source": [
        "---\n",
        "**4$^\\mathrm{a}$ Etapa**\n",
        "\n",
        "Finalmente, após fazer os cálculos necessários, vamos verificar se a rede produziu a solução esperada comparando com a solução conhecida.\n",
        "\n",
        "Aqui vamos utilizar a função `geom.uniform_points` para gerar a malha necessária para os gráficos e `model.predict` para gerar as imagens dos pontos da malha."
      ],
      "metadata": {
        "id": "eku_pMtky2gu"
      }
    },
    {
      "cell_type": "code",
      "source": [
        "def func(t):\n",
        "    return 0.5 * np.exp(-3*t)*(1 - 4 * np.exp(t) + np.exp(2*t))\n",
        "\n",
        "x = geom.uniform_points(30, True)\n",
        "y = model.predict(x)\n",
        "y_test = func(x)\n",
        "plt.figure()\n",
        "plt.plot(x, y,x,y_test,'o')\n",
        "plt.xlabel(\"t\")\n",
        "plt.ylabel(\"y\")\n",
        "plt.show()"
      ],
      "metadata": {
        "colab": {
          "base_uri": "https://localhost:8080/",
          "height": 469
        },
        "id": "c67UqcklOrAN",
        "outputId": "7dc7352b-2473-48cd-f2be-6c6fa8380c32"
      },
      "execution_count": null,
      "outputs": [
        {
          "output_type": "display_data",
          "data": {
            "text/plain": [
              "<Figure size 640x480 with 1 Axes>"
            ],
            "image/png": "[encoded data removed]"
          },
          "metadata": {}
        }
      ]
    },
    {
      "cell_type": "markdown",
      "source": [
        "---\n",
        "### EXEMPLO 6\n",
        "\n",
        "**Objetivo:** Neste exemplo vamos resolver o problema de valor inicial dado pela equação não-homogênea $$y''(t)+9 y(t)=\\cos{t}$$ com condições de fronteira $y'(\\pi/4)=5$ e $y'(\\pi/2)=-5/3$.\n",
        "\n",
        "* Esse PVC tem solução dada por $y(t)=\\frac{1}{72} \\left(9 \\cos(x) - 37 \\cos(3 x) + 2 (17 - 60 \\sqrt{2}) \\sin(3 x)\\right)$."
      ],
      "metadata": {
        "id": "Mt6UzG-iOOXY"
      }
    },
    {
      "cell_type": "markdown",
      "source": [
        "---\n",
        "**1$^\\mathrm{a}$ Etapa**\n",
        "\n",
        "Novamente começamos definindo a equação diferencial a se trabalhar.\n",
        "\n",
        "Começamos definindo a função `ode` com duas entradas: (1) a variável independente `t` e (2) a variável dependente `y`.\n",
        "\n",
        "Para escrevemos a equação diferencial precisamos da derivada da variável dependente. No DeepXDE a 1$^\\mathrm{a}$ derivada é calculada utilizando o comando `dde.grad.jacobian(y, t)` e a 2$^\\mathrm{a}$ derivada é calculada utilizando o comando `dde.grad.hessian(y, t)`.\n",
        "\n",
        "Por fim retornamos a equação na forma $y''+9 y-\\cos(t),$ uma vez que o objetivo da rede é minimizar este termo de forma que ele esteja próximo de zero."
      ],
      "metadata": {
        "id": "s2jqeRQ_OT7i"
      }
    },
    {
      "cell_type": "code",
      "source": [
        "def ode(t, y):\n",
        "    dy_dt = dde.grad.jacobian(y, t)\n",
        "    d2y_dt2 = dde.grad.hessian(y, t)\n",
        "    return d2y_dt2 + 9 * y - tf.math.cos(t) # lembre-se de usar o cosseno do tensorflow ;)"
      ],
      "metadata": {
        "id": "iscDO3xyOhN-"
      },
      "execution_count": null,
      "outputs": []
    },
    {
      "cell_type": "markdown",
      "source": [
        "---\n",
        "**2$^\\mathrm{a}$ Etapa**\n",
        "\n",
        "Vamos agora definir a geometria do nosso domínio e as condições iniciais.\n",
        "\n",
        "Novamente, como estamos lidando com uma EDO, nossa geometria será um intervalo na reta $\\mathbb{R}$. Fazemos essa definição utilizando o comando `dde.geometry.TimeDomain(a, b)`.\n",
        "\n",
        "Em seguida, como estamos lidando com duas condições de contorno vamos definir duas funções `boundary_l` e `boundary_r` que retornam os pontos nas fronteiras $t=a$ e $t=b$.\n",
        "\n",
        "Finalmente iremos utilizar o módulo de condições de contorno de Neumann `dde.icbc.NeumannBC(...)` cujas entradas são: (1) a geometria; (2) o valor da condição inicial e (3) qual ponto está a condição de fronteira.\n",
        "\n",
        "*Obs.: Note que na condição à esquerda a o valor dado está com o sinal trocado, isto deve sempre acontecer porque o vetor normal deste lado está virado para a esquerda*"
      ],
      "metadata": {
        "id": "jpXB2M_eOz9D"
      }
    },
    {
      "cell_type": "code",
      "source": [
        "a = np.pi/4\n",
        "b = np.pi/2\n",
        "y_0 = 5\n",
        "y_1 = -5/3\n",
        "\n",
        "geom = dde.geometry.TimeDomain(a, b)\n",
        "\n",
        "def boundary_l(t, on_boundary):\n",
        "    return on_boundary and dde.utils.isclose(t[0], a)\n",
        "\n",
        "def boundary_r(t, on_boundary):\n",
        "    return on_boundary and dde.utils.isclose(t[0], b)\n",
        "\n",
        "ic1 = dde.icbc.NeumannBC(geom, lambda x: -y_0, boundary_l)\n",
        "ic2 = dde.icbc.NeumannBC(geom, lambda x: y_1, boundary_r)"
      ],
      "metadata": {
        "id": "Sj_hQ0JpO15H"
      },
      "execution_count": null,
      "outputs": []
    },
    {
      "cell_type": "markdown",
      "source": [
        "---\n",
        "**3$^\\mathrm{a}$ Etapa**\n",
        "\n",
        "Montamos agora a estrutura da nossa rede neural.\n",
        "\n",
        "Primeiro passo é utilizar o método `TimePDE` para incluir as informações que definimos no passo anterior: (1) geometria; (2) equação diferencial; (3) condições iniciais e (4) a quantidade de pontos amostrados aleatoriamente no interior do domínio e na fronteira.\n",
        "\n",
        "Em seguida devemos escolher os parâmetros da rede como: (1) número de camadas e neurônios, (2) função de ativação e (3) o inicializador dos pesos.\n",
        "\n",
        "Por último compilamos o modelo para fazer a mágica acontecer."
      ],
      "metadata": {
        "id": "uWeDxHx7PDrG"
      }
    },
    {
      "cell_type": "code",
      "source": [
        "data = dde.data.TimePDE(geom, ode, [ic1, ic2], num_domain=64, num_boundary=2)\n",
        "layer_size = [1] + [50] * 3 + [1]\n",
        "activation = \"tanh\"\n",
        "initializer = \"Glorot uniform\"\n",
        "net = dde.nn.FNN(layer_size, activation, initializer)\n",
        "\n",
        "model = dde.Model(data, net)\n",
        "model.compile(\"adam\", lr=1e-3)\n",
        "losshistory, train_state = model.train(iterations=10000)\n",
        "\n",
        "dde.saveplot(losshistory, train_state, issave=False, isplot=False)"
      ],
      "metadata": {
        "colab": {
          "base_uri": "https://localhost:8080/"
        },
        "id": "FuBH4Kr0PTs3",
        "outputId": "1fcaedb3-ec5c-4f5a-ef92-9033f5002844"
      },
      "execution_count": null,
      "outputs": [
        {
          "output_type": "stream",
          "name": "stdout",
          "text": [
            "Compiling model...\n",
            "Building feed-forward neural network...\n",
            "'build' took 0.076731 s\n",
            "\n",
            "'compile' took 0.867757 s\n",
            "\n",
            "Training model...\n",
            "\n",
            "Step      Train loss                        Test loss                         Test metric\n",
            "0         [2.64e-01, 2.43e+01, 3.24e+00]    [2.64e-01, 2.43e+01, 3.24e+00]    []  \n",
            "1000      [8.65e-04, 3.49e-08, 1.94e-06]    [8.65e-04, 3.49e-08, 1.94e-06]    []  \n",
            "2000      [3.30e-04, 6.59e-07, 9.78e-08]    [3.30e-04, 6.59e-07, 9.78e-08]    []  \n",
            "3000      [2.74e-04, 5.71e-07, 6.96e-08]    [2.74e-04, 5.71e-07, 6.96e-08]    []  \n",
            "4000      [2.34e-04, 1.19e-06, 7.11e-07]    [2.34e-04, 1.19e-06, 7.11e-07]    []  \n",
            "5000      [1.94e-04, 1.06e-06, 7.60e-07]    [1.94e-04, 1.06e-06, 7.60e-07]    []  \n",
            "6000      [1.27e-04, 2.92e-07, 7.78e-09]    [1.27e-04, 2.92e-07, 7.78e-09]    []  \n",
            "7000      [1.30e-04, 1.74e-07, 3.84e-11]    [1.30e-04, 1.74e-07, 3.84e-11]    []  \n",
            "8000      [1.58e-04, 1.98e-07, 1.23e-10]    [1.58e-04, 1.98e-07, 1.23e-10]    []  \n",
            "9000      [1.93e-04, 6.94e-07, 1.12e-06]    [1.93e-04, 6.94e-07, 1.12e-06]    []  \n",
            "10000     [1.61e-04, 1.01e-07, 6.75e-10]    [1.61e-04, 1.01e-07, 6.75e-10]    []  \n",
            "\n",
            "Best model at step 6000:\n",
            "  train loss: 1.27e-04\n",
            "  test loss: 1.27e-04\n",
            "  test metric: []\n",
            "\n",
            "'train' took 30.597340 s\n",
            "\n"
          ]
        }
      ]
    },
    {
      "cell_type": "markdown",
      "source": [
        "---\n",
        "**4$^\\mathrm{a}$ Etapa**\n",
        "\n",
        "Finalmente, após fazer os cálculos necessários, vamos verificar se a rede produziu a solução esperada comparando com a solução conhecida.\n",
        "\n",
        "Aqui vamos utilizar a função `geom.uniform_points` para gerar a malha necessária para os gráficos e `model.predict` para gerar as imagens dos pontos da malha."
      ],
      "metadata": {
        "id": "Hv1xdN8DPV20"
      }
    },
    {
      "cell_type": "code",
      "source": [
        "def func(t):\n",
        "    return (1/72) * (9*np.cos(x) - 37*np.cos(3*x) + 2*(17 - 60*np.sqrt(2))*np.sin(3*x))\n",
        "\n",
        "x = geom.uniform_points(30, True)\n",
        "y = model.predict(x)\n",
        "y_test = func(x)\n",
        "plt.figure()\n",
        "plt.plot(x, y,x,y_test,'o')\n",
        "plt.xlabel(\"t\")\n",
        "plt.ylabel(\"y\")\n",
        "plt.show()"
      ],
      "metadata": {
        "colab": {
          "base_uri": "https://localhost:8080/",
          "height": 469
        },
        "id": "UYz2tznQPYb7",
        "outputId": "c7eb3024-5882-49f8-ef01-9ed86525fb8f"
      },
      "execution_count": null,
      "outputs": [
        {
          "output_type": "display_data",
          "data": {
            "text/plain": [
              "<Figure size 640x480 with 1 Axes>"
            ],
            "image/png": "[encoded data removed]"
          },
          "metadata": {}
        }
      ]
    }
  ]
}