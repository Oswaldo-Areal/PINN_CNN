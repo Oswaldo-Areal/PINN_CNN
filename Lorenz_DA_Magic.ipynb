{
  "nbformat": 4,
  "nbformat_minor": 0,
  "metadata": {
    "colab": {
      "provenance": [],
      "collapsed_sections": [
        "BbCnpun9zGJE",
        "emSJfHDZFkll",
        "mIYDfN2UA5Xh",
        "OZ33hAOVBD-F",
        "bGlX8KlFBn1k",
        "CK6XUeR2Bwqk",
        "Iniw4SxLB4pl",
        "HFX7s8z-CBRG",
        "e1lUNJMbCG87",
        "Ixn-ri7YDJ1j",
        "Me3ZlKoRDjiT",
        "HKutT7p1ESh8",
        "X2bPqh7MEh2c",
        "apQJBpVywEew",
        "-uKbAaNWwlKQ",
        "m1-TAPgJ7INl",
        "YHKwdGUn7qb-",
        "8uGTh48s7aVz",
        "iEyiPjj7eK9u"
      ]
    },
    "kernelspec": {
      "name": "python3",
      "display_name": "Python 3"
    },
    "language_info": {
      "name": "python"
    }
  },
  "cells": [
    {
      "cell_type": "markdown",
      "source": [
        "# Program to perform data assimilation on the Lorenz equations\n",
        "###  (c) 2002  Data Assimilation Research Centre\n",
        "### Original program by Matthew Martin"
      ],
      "metadata": {
        "id": "BbCnpun9zGJE"
      }
    },
    {
      "cell_type": "markdown",
      "source": [
        "# **Instala o Octave e o plugin para jupyter notebook**"
      ],
      "metadata": {
        "id": "Rnm9Hzi1M8jo"
      }
    },
    {
      "cell_type": "code",
      "execution_count": null,
      "metadata": {
        "id": "351NAv5Swr3S",
        "colab": {
          "base_uri": "https://localhost:8080/"
        },
        "outputId": "1a867616-6795-4ce9-baef-942bc8227043",
        "collapsed": true
      },
      "outputs": [
        {
          "output_type": "stream",
          "name": "stdout",
          "text": [
            "Reading package lists... Done\n",
            "Building dependency tree... Done\n",
            "Reading state information... Done\n",
            "The following additional packages will be installed:\n",
            "  aglfn default-jre-headless epstool fonts-droid-fallback fonts-freefont-otf fonts-noto-mono\n",
            "  fonts-urw-base35 ghostscript gnuplot-data gnuplot-qt gsfonts imagemagick-6-common info\n",
            "  install-info libamd2 libauthen-sasl-perl libbtf1 libcamd2 libccolamd2 libcholmod3 libclone-perl\n",
            "  libcolamd2 libcombblas1.16.0 libcxsparse3 libdata-dump-perl libemf1 libencode-locale-perl\n",
            "  libevdev2 libfftw3-double3 libfftw3-long3 libfftw3-mpi3 libfftw3-single3 libfile-listing-perl\n",
            "  libfltk-gl1.3 libfltk1.3 libfont-afm-perl libglpk40 libglu1-mesa libgraphicsmagick++-q16-12\n",
            "  libgraphicsmagick-q16-3 libgs9 libgs9-common libgudev-1.0-0 libhdf5-openmpi-103-1\n",
            "  libhtml-form-perl libhtml-format-perl libhtml-parser-perl libhtml-tagset-perl libhtml-tree-perl\n",
            "  libhttp-cookies-perl libhttp-daemon-perl libhttp-date-perl libhttp-message-perl\n",
            "  libhttp-negotiate-perl libhypre-2.22.1 libidn12 libijs-0.35 libinput-bin libinput10\n",
            "  libio-html-perl libio-socket-ssl-perl libjbig2dec0 libklu1 liblqr-1-0 liblua5.4-0\n",
            "  liblwp-mediatypes-perl liblwp-protocol-https-perl libmagick++-6.q16-8 libmagickcore-6.q16-6\n",
            "  libmagickwand-6.q16-6 libmailtools-perl libmd4c0 libmetis5 libmtdev1 libmumps-5.4\n",
            "  libnet-http-perl libnet-smtp-ssl-perl libnet-ssleay-perl libnotify4 libpetsc-real3.15 libplot2c2\n",
            "  libportaudio2 libpstoedit0c2a libptscotch-6.1 libqrupdate1 libqscintilla2-qt5-15\n",
            "  libqscintilla2-qt5-l10n libqt5core5a libqt5dbus5 libqt5gui5 libqt5help5 libqt5network5\n",
            "  libqt5printsupport5 libqt5sql5 libqt5sql5-sqlite libqt5svg5 libqt5widgets5 libqt5xml5\n",
            "  libscalapack-openmpi2.1 libscotch-6.1 libsuitesparseconfig5 libsundials-ida4\n",
            "  libsundials-nvecparallel-petsc4 libsundials-nvecserial4 libsundials-sunlinsol2\n",
            "  libsundials-sunmatrix2 libsuperlu-dist7 libtext-unidecode-perl libtrilinos-amesos-13.2\n",
            "  libtrilinos-aztecoo-13.2 libtrilinos-epetra-13.2 libtrilinos-epetraext-13.2\n",
            "  libtrilinos-galeri-13.2 libtrilinos-ifpack-13.2 libtrilinos-kokkos-13.2 libtrilinos-ml-13.2\n",
            "  libtrilinos-teuchos-13.2 libtrilinos-trilinosss-13.2 libtrilinos-triutils-13.2\n",
            "  libtrilinos-zoltan-13.2 libtry-tiny-perl libumfpack5 liburi-perl libwacom-bin libwacom-common\n",
            "  libwacom9 libwmflite-0.2-7 libwww-perl libwww-robotrules-perl libwxbase3.0-0v5\n",
            "  libwxgtk3.0-gtk3-0v5 libxcb-icccm4 libxcb-image0 libxcb-keysyms1 libxcb-render-util0 libxcb-util1\n",
            "  libxcb-xinerama0 libxcb-xinput0 libxcb-xkb1 libxkbcommon-x11-0 libxml-libxml-perl\n",
            "  libxml-namespacesupport-perl libxml-parser-perl libxml-sax-base-perl libxml-sax-expat-perl\n",
            "  libxml-sax-perl libzip4 netbase octave-common octave-doc perl-openssl-defaults poppler-data\n",
            "  pstoedit qt5-gtk-platformtheme qttranslations5-l10n tex-common texinfo\n",
            "Suggested packages:\n",
            "  default-jre fonts-noto fonts-texgyre ghostscript-x gnuplot-doc libdigest-hmac-perl libgssapi-perl\n",
            "  libfftw3-bin libfftw3-dev libfftw3-mpi-dev libiodbc2-dev graphicsmagick-dbg libcrypt-ssleay-perl\n",
            "  libmagickcore-6.q16-6-extra gnome-shell | notification-daemon libqscintilla2-doc\n",
            "  qt5-image-formats-plugins qtwayland5 scalapack-doc libsub-name-perl libbusiness-isbn-perl\n",
            "  libauthen-ntlm-perl libxml-sax-expatxs-perl octave-dev www-browser | pdf-viewer poppler-utils\n",
            "  fonts-japanese-mincho | fonts-ipafont-mincho fonts-japanese-gothic | fonts-ipafont-gothic\n",
            "  fonts-arphic-ukai fonts-arphic-uming fonts-nanum xfig | ivtools-bin | tgif | transfig debhelper\n",
            "  texlive-base texlive-latex-base texlive-plain-generic texlive-fonts-recommended\n",
            "The following NEW packages will be installed:\n",
            "  aglfn default-jre-headless epstool fonts-droid-fallback fonts-freefont-otf fonts-noto-mono\n",
            "  fonts-urw-base35 ghostscript gnuplot-data gnuplot-qt gsfonts imagemagick-6-common info\n",
            "  install-info libamd2 libauthen-sasl-perl libbtf1 libcamd2 libccolamd2 libcholmod3 libclone-perl\n",
            "  libcolamd2 libcombblas1.16.0 libcxsparse3 libdata-dump-perl libemf1 libencode-locale-perl\n",
            "  libevdev2 libfftw3-double3 libfftw3-long3 libfftw3-mpi3 libfftw3-single3 libfile-listing-perl\n",
            "  libfltk-gl1.3 libfltk1.3 libfont-afm-perl libglpk40 libglu1-mesa libgraphicsmagick++-q16-12\n",
            "  libgraphicsmagick-q16-3 libgs9 libgs9-common libgudev-1.0-0 libhdf5-openmpi-103-1\n",
            "  libhtml-form-perl libhtml-format-perl libhtml-parser-perl libhtml-tagset-perl libhtml-tree-perl\n",
            "  libhttp-cookies-perl libhttp-daemon-perl libhttp-date-perl libhttp-message-perl\n",
            "  libhttp-negotiate-perl libhypre-2.22.1 libidn12 libijs-0.35 libinput-bin libinput10\n",
            "  libio-html-perl libio-socket-ssl-perl libjbig2dec0 libklu1 liblqr-1-0 liblua5.4-0\n",
            "  liblwp-mediatypes-perl liblwp-protocol-https-perl libmagick++-6.q16-8 libmagickcore-6.q16-6\n",
            "  libmagickwand-6.q16-6 libmailtools-perl libmd4c0 libmetis5 libmtdev1 libmumps-5.4\n",
            "  libnet-http-perl libnet-smtp-ssl-perl libnet-ssleay-perl libnotify4 libpetsc-real3.15 libplot2c2\n",
            "  libportaudio2 libpstoedit0c2a libptscotch-6.1 libqrupdate1 libqscintilla2-qt5-15\n",
            "  libqscintilla2-qt5-l10n libqt5core5a libqt5dbus5 libqt5gui5 libqt5help5 libqt5network5\n",
            "  libqt5printsupport5 libqt5sql5 libqt5sql5-sqlite libqt5svg5 libqt5widgets5 libqt5xml5\n",
            "  libscalapack-openmpi2.1 libscotch-6.1 libsuitesparseconfig5 libsundials-ida4\n",
            "  libsundials-nvecparallel-petsc4 libsundials-nvecserial4 libsundials-sunlinsol2\n",
            "  libsundials-sunmatrix2 libsuperlu-dist7 libtext-unidecode-perl libtrilinos-amesos-13.2\n",
            "  libtrilinos-aztecoo-13.2 libtrilinos-epetra-13.2 libtrilinos-epetraext-13.2\n",
            "  libtrilinos-galeri-13.2 libtrilinos-ifpack-13.2 libtrilinos-kokkos-13.2 libtrilinos-ml-13.2\n",
            "  libtrilinos-teuchos-13.2 libtrilinos-trilinosss-13.2 libtrilinos-triutils-13.2\n",
            "  libtrilinos-zoltan-13.2 libtry-tiny-perl libumfpack5 liburi-perl libwacom-bin libwacom-common\n",
            "  libwacom9 libwmflite-0.2-7 libwww-perl libwww-robotrules-perl libwxbase3.0-0v5\n",
            "  libwxgtk3.0-gtk3-0v5 libxcb-icccm4 libxcb-image0 libxcb-keysyms1 libxcb-render-util0 libxcb-util1\n",
            "  libxcb-xinerama0 libxcb-xinput0 libxcb-xkb1 libxkbcommon-x11-0 libxml-libxml-perl\n",
            "  libxml-namespacesupport-perl libxml-parser-perl libxml-sax-base-perl libxml-sax-expat-perl\n",
            "  libxml-sax-perl libzip4 netbase octave octave-common octave-doc perl-openssl-defaults\n",
            "  poppler-data pstoedit qt5-gtk-platformtheme qttranslations5-l10n tex-common texinfo\n",
            "0 upgraded, 158 newly installed, 0 to remove and 45 not upgraded.\n",
            "Need to get 2,336 kB/98.9 MB of archives.\n",
            "After this operation, 352 MB of additional disk space will be used.\n",
            "Ign:1 http://archive.ubuntu.com/ubuntu jammy-updates/universe amd64 imagemagick-6-common all 8:6.9.11.60+dfsg-1.3ubuntu0.22.04.3\n",
            "Ign:2 http://archive.ubuntu.com/ubuntu jammy-updates/universe amd64 libmagickcore-6.q16-6 amd64 8:6.9.11.60+dfsg-1.3ubuntu0.22.04.3\n",
            "Ign:3 http://archive.ubuntu.com/ubuntu jammy-updates/universe amd64 libmagickwand-6.q16-6 amd64 8:6.9.11.60+dfsg-1.3ubuntu0.22.04.3\n",
            "Ign:4 http://archive.ubuntu.com/ubuntu jammy-updates/universe amd64 libmagick++-6.q16-8 amd64 8:6.9.11.60+dfsg-1.3ubuntu0.22.04.3\n",
            "Err:1 http://security.ubuntu.com/ubuntu jammy-updates/universe amd64 imagemagick-6-common all 8:6.9.11.60+dfsg-1.3ubuntu0.22.04.3\n",
            "  404  Not Found [IP: 185.125.190.81 80]\n",
            "Err:2 http://security.ubuntu.com/ubuntu jammy-updates/universe amd64 libmagickcore-6.q16-6 amd64 8:6.9.11.60+dfsg-1.3ubuntu0.22.04.3\n",
            "  404  Not Found [IP: 185.125.190.81 80]\n",
            "Err:3 http://security.ubuntu.com/ubuntu jammy-updates/universe amd64 libmagickwand-6.q16-6 amd64 8:6.9.11.60+dfsg-1.3ubuntu0.22.04.3\n",
            "  404  Not Found [IP: 185.125.190.81 80]\n",
            "Err:4 http://security.ubuntu.com/ubuntu jammy-updates/universe amd64 libmagick++-6.q16-8 amd64 8:6.9.11.60+dfsg-1.3ubuntu0.22.04.3\n",
            "  404  Not Found [IP: 185.125.190.81 80]\n",
            "\u001b[1;31mE: \u001b[0mFailed to fetch http://security.ubuntu.com/ubuntu/pool/universe/i/imagemagick/imagemagick-6-common_6.9.11.60%2bdfsg-1.3ubuntu0.22.04.3_all.deb  404  Not Found [IP: 185.125.190.81 80]\u001b[0m\n",
            "\u001b[1;31mE: \u001b[0mFailed to fetch http://security.ubuntu.com/ubuntu/pool/universe/i/imagemagick/libmagickcore-6.q16-6_6.9.11.60%2bdfsg-1.3ubuntu0.22.04.3_amd64.deb  404  Not Found [IP: 185.125.190.81 80]\u001b[0m\n",
            "\u001b[1;31mE: \u001b[0mFailed to fetch http://security.ubuntu.com/ubuntu/pool/universe/i/imagemagick/libmagickwand-6.q16-6_6.9.11.60%2bdfsg-1.3ubuntu0.22.04.3_amd64.deb  404  Not Found [IP: 185.125.190.81 80]\u001b[0m\n",
            "\u001b[1;31mE: \u001b[0mFailed to fetch http://security.ubuntu.com/ubuntu/pool/universe/i/imagemagick/libmagick%2b%2b-6.q16-8_6.9.11.60%2bdfsg-1.3ubuntu0.22.04.3_amd64.deb  404  Not Found [IP: 185.125.190.81 80]\u001b[0m\n",
            "\u001b[1;31mE: \u001b[0mUnable to fetch some archives, maybe run apt-get update or try with --fix-missing?\u001b[0m\n"
          ]
        }
      ],
      "source": [
        "!apt install -y octave"
      ]
    },
    {
      "cell_type": "code",
      "source": [
        "!pip install oct2py"
      ],
      "metadata": {
        "id": "Su0Mh-wEz4VM",
        "colab": {
          "base_uri": "https://localhost:8080/"
        },
        "outputId": "b74d1f63-7fc4-4123-b88d-1a4e51882eec",
        "collapsed": true
      },
      "execution_count": null,
      "outputs": [
        {
          "output_type": "stream",
          "name": "stdout",
          "text": [
            "\n",
            "Usage:   \n",
            "  pip3 install [options] <requirement specifier> [package-index-options] ...\n",
            "  pip3 install [options] -r <requirements file> [package-index-options] ...\n",
            "  pip3 install [options] [-e] <vcs project url> ...\n",
            "  pip3 install [options] [-e] <local project path> ...\n",
            "  pip3 install [options] <archive url/path> ...\n",
            "\n",
            "no such option: -u\n",
            "Found existing installation: oct2py 5.7.0\n",
            "Uninstalling oct2py-5.7.0:\n",
            "  Would remove:\n",
            "    /usr/local/lib/python3.10/dist-packages/oct2py-5.7.0.dist-info/*\n",
            "    /usr/local/lib/python3.10/dist-packages/oct2py/*\n",
            "Proceed (Y/n)? \u001b[31mERROR: Operation cancelled by user\u001b[0m\u001b[31m\n",
            "\u001b[0mTraceback (most recent call last):\n",
            "  File \"/usr/local/lib/python3.10/dist-packages/pip/_internal/cli/base_command.py\", line 179, in exc_logging_wrapper\n",
            "    status = run_func(*args)\n",
            "  File \"/usr/local/lib/python3.10/dist-packages/pip/_internal/commands/uninstall.py\", line 106, in run\n",
            "    uninstall_pathset = req.uninstall(\n",
            "  File \"/usr/local/lib/python3.10/dist-packages/pip/_internal/req/req_install.py\", line 722, in uninstall\n",
            "    uninstalled_pathset.remove(auto_confirm, verbose)\n",
            "  File \"/usr/local/lib/python3.10/dist-packages/pip/_internal/req/req_uninstall.py\", line 364, in remove\n",
            "    if auto_confirm or self._allowed_to_proceed(verbose):\n",
            "  File \"/usr/local/lib/python3.10/dist-packages/pip/_internal/req/req_uninstall.py\", line 404, in _allowed_to_proceed\n",
            "    return ask(\"Proceed (Y/n)? \", (\"y\", \"n\", \"\")) != \"n\"\n",
            "  File \"/usr/local/lib/python3.10/dist-packages/pip/_internal/utils/misc.py\", line 235, in ask\n",
            "    response = input(message)\n",
            "KeyboardInterrupt\n",
            "\n",
            "During handling of the above exception, another exception occurred:\n",
            "\n",
            "Traceback (most recent call last):\n",
            "  File \"/usr/local/bin/pip3\", line 8, in <module>\n",
            "    sys.exit(main())\n",
            "  File \"/usr/local/lib/python3.10/dist-packages/pip/_internal/cli/main.py\", line 80, in main\n",
            "    return command.main(cmd_args)\n",
            "  File \"/usr/local/lib/python3.10/dist-packages/pip/_internal/cli/base_command.py\", line 100, in main\n",
            "    return self._main(args)\n",
            "  File \"/usr/local/lib/python3.10/dist-packages/pip/_internal/cli/base_command.py\", line 232, in _main\n",
            "    return run(options, args)\n",
            "  File \"/usr/local/lib/python3.10/dist-packages/pip/_internal/cli/base_command.py\", line 216, in exc_logging_wrapper\n",
            "    logger.debug(\"Exception information:\", exc_info=True)\n",
            "  File \"/usr/lib/python3.10/logging/__init__.py\", line 1465, in debug\n",
            "    self._log(DEBUG, msg, args, **kwargs)\n",
            "  File \"/usr/lib/python3.10/logging/__init__.py\", line 1624, in _log\n",
            "    self.handle(record)\n",
            "  File \"/usr/lib/python3.10/logging/__init__.py\", line 1634, in handle\n",
            "    self.callHandlers(record)\n",
            "  File \"/usr/lib/python3.10/logging/__init__.py\", line 1696, in callHandlers\n",
            "    hdlr.handle(record)\n",
            "  File \"/usr/lib/python3.10/logging/__init__.py\", line 968, in handle\n",
            "    self.emit(record)\n",
            "  File \"/usr/lib/python3.10/logging/handlers.py\", line 75, in emit\n",
            "    logging.FileHandler.emit(self, record)\n",
            "  File \"/usr/lib/python3.10/logging/__init__.py\", line 1218, in emit\n",
            "    StreamHandler.emit(self, record)\n",
            "  File \"/usr/lib/python3.10/logging/__init__.py\", line 1100, in emit\n",
            "    msg = self.format(record)\n",
            "  File \"/usr/lib/python3.10/logging/__init__.py\", line 943, in format\n",
            "    return fmt.format(record)\n",
            "  File \"/usr/local/lib/python3.10/dist-packages/pip/_internal/utils/logging.py\", line 112, in format\n",
            "    formatted = super().format(record)\n",
            "  File \"/usr/lib/python3.10/logging/__init__.py\", line 686, in format\n",
            "    record.exc_text = self.formatException(record.exc_info)\n",
            "  File \"/usr/lib/python3.10/logging/__init__.py\", line 636, in formatException\n",
            "    traceback.print_exception(ei[0], ei[1], tb, None, sio)\n",
            "  File \"/usr/lib/python3.10/traceback.py\", line 119, in print_exception\n",
            "    te = TracebackException(type(value), value, tb, limit=limit, compact=True)\n",
            "  File \"/usr/lib/python3.10/traceback.py\", line 502, in __init__\n",
            "    self.stack = StackSummary.extract(\n",
            "  File \"/usr/lib/python3.10/traceback.py\", line 383, in extract\n",
            "    f.line\n",
            "  File \"/usr/lib/python3.10/traceback.py\", line 306, in line\n",
            "    self._line = linecache.getline(self.filename, self.lineno)\n",
            "  File \"/usr/lib/python3.10/linecache.py\", line 30, in getline\n",
            "    lines = getlines(filename, module_globals)\n",
            "  File \"/usr/lib/python3.10/linecache.py\", line 46, in getlines\n",
            "    return updatecache(filename, module_globals)\n",
            "  File \"/usr/lib/python3.10/linecache.py\", line 136, in updatecache\n",
            "    with tokenize.open(fullname) as fp:\n",
            "  File \"/usr/lib/python3.10/tokenize.py\", line 396, in open\n",
            "    encoding, lines = detect_encoding(buffer.readline)\n",
            "  File \"/usr/lib/python3.10/tokenize.py\", line 365, in detect_encoding\n",
            "    first = read_or_stop()\n",
            "  File \"/usr/lib/python3.10/tokenize.py\", line 323, in read_or_stop\n",
            "    return readline()\n",
            "KeyboardInterrupt\n",
            "^C\n",
            "Requirement already satisfied: oct2py in /usr/local/lib/python3.10/dist-packages (5.7.0)\n",
            "Requirement already satisfied: numpy>=1.12 in /usr/local/lib/python3.10/dist-packages (from oct2py) (1.25.2)\n",
            "Requirement already satisfied: octave-kernel>=0.34.0 in /usr/local/lib/python3.10/dist-packages (from oct2py) (0.36.0)\n",
            "Requirement already satisfied: scipy>=0.17 in /usr/local/lib/python3.10/dist-packages (from oct2py) (1.13.1)\n",
            "Requirement already satisfied: ipykernel in /usr/local/lib/python3.10/dist-packages (from octave-kernel>=0.34.0->oct2py) (5.5.6)\n",
            "Requirement already satisfied: jupyter-client>=4.3.0 in /usr/local/lib/python3.10/dist-packages (from octave-kernel>=0.34.0->oct2py) (6.1.12)\n",
            "Requirement already satisfied: metakernel>=0.24.0 in /usr/local/lib/python3.10/dist-packages (from octave-kernel>=0.34.0->oct2py) (0.30.2)\n",
            "Requirement already satisfied: traitlets in /usr/local/lib/python3.10/dist-packages (from jupyter-client>=4.3.0->octave-kernel>=0.34.0->oct2py) (5.7.1)\n",
            "Requirement already satisfied: jupyter-core>=4.6.0 in /usr/local/lib/python3.10/dist-packages (from jupyter-client>=4.3.0->octave-kernel>=0.34.0->oct2py) (5.7.2)\n",
            "Requirement already satisfied: pyzmq>=13 in /usr/local/lib/python3.10/dist-packages (from jupyter-client>=4.3.0->octave-kernel>=0.34.0->oct2py) (24.0.1)\n",
            "Requirement already satisfied: python-dateutil>=2.1 in /usr/local/lib/python3.10/dist-packages (from jupyter-client>=4.3.0->octave-kernel>=0.34.0->oct2py) (2.8.2)\n",
            "Requirement already satisfied: tornado>=4.1 in /usr/local/lib/python3.10/dist-packages (from jupyter-client>=4.3.0->octave-kernel>=0.34.0->oct2py) (6.3.3)\n",
            "Requirement already satisfied: jedi>=0.18 in /usr/local/lib/python3.10/dist-packages (from metakernel>=0.24.0->octave-kernel>=0.34.0->oct2py) (0.19.1)\n",
            "Requirement already satisfied: pexpect>=4.8 in /usr/local/lib/python3.10/dist-packages (from metakernel>=0.24.0->octave-kernel>=0.34.0->oct2py) (4.9.0)\n",
            "Requirement already satisfied: ipython-genutils in /usr/local/lib/python3.10/dist-packages (from ipykernel->octave-kernel>=0.34.0->oct2py) (0.2.0)\n",
            "Requirement already satisfied: ipython>=5.0.0 in /usr/local/lib/python3.10/dist-packages (from ipykernel->octave-kernel>=0.34.0->oct2py) (7.34.0)\n",
            "Requirement already satisfied: setuptools>=18.5 in /usr/local/lib/python3.10/dist-packages (from ipython>=5.0.0->ipykernel->octave-kernel>=0.34.0->oct2py) (71.0.4)\n",
            "Requirement already satisfied: decorator in /usr/local/lib/python3.10/dist-packages (from ipython>=5.0.0->ipykernel->octave-kernel>=0.34.0->oct2py) (4.4.2)\n",
            "Requirement already satisfied: pickleshare in /usr/local/lib/python3.10/dist-packages (from ipython>=5.0.0->ipykernel->octave-kernel>=0.34.0->oct2py) (0.7.5)\n",
            "Requirement already satisfied: prompt-toolkit!=3.0.0,!=3.0.1,<3.1.0,>=2.0.0 in /usr/local/lib/python3.10/dist-packages (from ipython>=5.0.0->ipykernel->octave-kernel>=0.34.0->oct2py) (3.0.47)\n",
            "Requirement already satisfied: pygments in /usr/local/lib/python3.10/dist-packages (from ipython>=5.0.0->ipykernel->octave-kernel>=0.34.0->oct2py) (2.16.1)\n",
            "Requirement already satisfied: backcall in /usr/local/lib/python3.10/dist-packages (from ipython>=5.0.0->ipykernel->octave-kernel>=0.34.0->oct2py) (0.2.0)\n",
            "Requirement already satisfied: matplotlib-inline in /usr/local/lib/python3.10/dist-packages (from ipython>=5.0.0->ipykernel->octave-kernel>=0.34.0->oct2py) (0.1.7)\n",
            "Requirement already satisfied: parso<0.9.0,>=0.8.3 in /usr/local/lib/python3.10/dist-packages (from jedi>=0.18->metakernel>=0.24.0->octave-kernel>=0.34.0->oct2py) (0.8.4)\n",
            "Requirement already satisfied: platformdirs>=2.5 in /usr/local/lib/python3.10/dist-packages (from jupyter-core>=4.6.0->jupyter-client>=4.3.0->octave-kernel>=0.34.0->oct2py) (4.2.2)\n",
            "Requirement already satisfied: ptyprocess>=0.5 in /usr/local/lib/python3.10/dist-packages (from pexpect>=4.8->metakernel>=0.24.0->octave-kernel>=0.34.0->oct2py) (0.7.0)\n",
            "Requirement already satisfied: six>=1.5 in /usr/local/lib/python3.10/dist-packages (from python-dateutil>=2.1->jupyter-client>=4.3.0->octave-kernel>=0.34.0->oct2py) (1.16.0)\n",
            "Requirement already satisfied: wcwidth in /usr/local/lib/python3.10/dist-packages (from prompt-toolkit!=3.0.0,!=3.0.1,<3.1.0,>=2.0.0->ipython>=5.0.0->ipykernel->octave-kernel>=0.34.0->oct2py) (0.2.13)\n"
          ]
        }
      ]
    },
    {
      "cell_type": "code",
      "source": [],
      "metadata": {
        "id": "nv2JWihjNnAl"
      },
      "execution_count": null,
      "outputs": []
    },
    {
      "cell_type": "code",
      "source": [
        "%load_ext oct2py.ipython"
      ],
      "metadata": {
        "id": "EbNdUds2E39h",
        "colab": {
          "base_uri": "https://localhost:8080/",
          "height": 337
        },
        "outputId": "b2da6402-782e-43be-e8e8-bc19e7899aaa"
      },
      "execution_count": null,
      "outputs": [
        {
          "output_type": "error",
          "ename": "AttributeError",
          "evalue": "module 'oct2py' has no attribute 'octave'",
          "traceback": [
            "\u001b[0;31m---------------------------------------------------------------------------\u001b[0m",
            "\u001b[0;31mAttributeError\u001b[0m                            Traceback (most recent call last)",
            "\u001b[0;32m<ipython-input-17-c896ba3ec125>\u001b[0m in \u001b[0;36m<cell line: 1>\u001b[0;34m()\u001b[0m\n\u001b[0;32m----> 1\u001b[0;31m \u001b[0mget_ipython\u001b[0m\u001b[0;34m(\u001b[0m\u001b[0;34m)\u001b[0m\u001b[0;34m.\u001b[0m\u001b[0mrun_line_magic\u001b[0m\u001b[0;34m(\u001b[0m\u001b[0;34m'load_ext'\u001b[0m\u001b[0;34m,\u001b[0m \u001b[0;34m'oct2py.ipython'\u001b[0m\u001b[0;34m)\u001b[0m\u001b[0;34m\u001b[0m\u001b[0;34m\u001b[0m\u001b[0m\n\u001b[0m",
            "\u001b[0;32m/usr/local/lib/python3.10/dist-packages/IPython/core/interactiveshell.py\u001b[0m in \u001b[0;36mrun_line_magic\u001b[0;34m(self, magic_name, line, _stack_depth)\u001b[0m\n\u001b[1;32m   2416\u001b[0m                 \u001b[0mkwargs\u001b[0m\u001b[0;34m[\u001b[0m\u001b[0;34m'local_ns'\u001b[0m\u001b[0;34m]\u001b[0m \u001b[0;34m=\u001b[0m \u001b[0mself\u001b[0m\u001b[0;34m.\u001b[0m\u001b[0mget_local_scope\u001b[0m\u001b[0;34m(\u001b[0m\u001b[0mstack_depth\u001b[0m\u001b[0;34m)\u001b[0m\u001b[0;34m\u001b[0m\u001b[0;34m\u001b[0m\u001b[0m\n\u001b[1;32m   2417\u001b[0m             \u001b[0;32mwith\u001b[0m \u001b[0mself\u001b[0m\u001b[0;34m.\u001b[0m\u001b[0mbuiltin_trap\u001b[0m\u001b[0;34m:\u001b[0m\u001b[0;34m\u001b[0m\u001b[0;34m\u001b[0m\u001b[0m\n\u001b[0;32m-> 2418\u001b[0;31m                 \u001b[0mresult\u001b[0m \u001b[0;34m=\u001b[0m \u001b[0mfn\u001b[0m\u001b[0;34m(\u001b[0m\u001b[0;34m*\u001b[0m\u001b[0margs\u001b[0m\u001b[0;34m,\u001b[0m \u001b[0;34m**\u001b[0m\u001b[0mkwargs\u001b[0m\u001b[0;34m)\u001b[0m\u001b[0;34m\u001b[0m\u001b[0;34m\u001b[0m\u001b[0m\n\u001b[0m\u001b[1;32m   2419\u001b[0m             \u001b[0;32mreturn\u001b[0m \u001b[0mresult\u001b[0m\u001b[0;34m\u001b[0m\u001b[0;34m\u001b[0m\u001b[0m\n\u001b[1;32m   2420\u001b[0m \u001b[0;34m\u001b[0m\u001b[0m\n",
            "\u001b[0;32m<decorator-gen-57>\u001b[0m in \u001b[0;36mload_ext\u001b[0;34m(self, module_str)\u001b[0m\n",
            "\u001b[0;32m/usr/local/lib/python3.10/dist-packages/IPython/core/magic.py\u001b[0m in \u001b[0;36m<lambda>\u001b[0;34m(f, *a, **k)\u001b[0m\n\u001b[1;32m    185\u001b[0m     \u001b[0;31m# but it's overkill for just that one bit of state.\u001b[0m\u001b[0;34m\u001b[0m\u001b[0;34m\u001b[0m\u001b[0m\n\u001b[1;32m    186\u001b[0m     \u001b[0;32mdef\u001b[0m \u001b[0mmagic_deco\u001b[0m\u001b[0;34m(\u001b[0m\u001b[0marg\u001b[0m\u001b[0;34m)\u001b[0m\u001b[0;34m:\u001b[0m\u001b[0;34m\u001b[0m\u001b[0;34m\u001b[0m\u001b[0m\n\u001b[0;32m--> 187\u001b[0;31m         \u001b[0mcall\u001b[0m \u001b[0;34m=\u001b[0m \u001b[0;32mlambda\u001b[0m \u001b[0mf\u001b[0m\u001b[0;34m,\u001b[0m \u001b[0;34m*\u001b[0m\u001b[0ma\u001b[0m\u001b[0;34m,\u001b[0m \u001b[0;34m**\u001b[0m\u001b[0mk\u001b[0m\u001b[0;34m:\u001b[0m \u001b[0mf\u001b[0m\u001b[0;34m(\u001b[0m\u001b[0;34m*\u001b[0m\u001b[0ma\u001b[0m\u001b[0;34m,\u001b[0m \u001b[0;34m**\u001b[0m\u001b[0mk\u001b[0m\u001b[0;34m)\u001b[0m\u001b[0;34m\u001b[0m\u001b[0;34m\u001b[0m\u001b[0m\n\u001b[0m\u001b[1;32m    188\u001b[0m \u001b[0;34m\u001b[0m\u001b[0m\n\u001b[1;32m    189\u001b[0m         \u001b[0;32mif\u001b[0m \u001b[0mcallable\u001b[0m\u001b[0;34m(\u001b[0m\u001b[0marg\u001b[0m\u001b[0;34m)\u001b[0m\u001b[0;34m:\u001b[0m\u001b[0;34m\u001b[0m\u001b[0;34m\u001b[0m\u001b[0m\n",
            "\u001b[0;32m/usr/local/lib/python3.10/dist-packages/IPython/core/magics/extension.py\u001b[0m in \u001b[0;36mload_ext\u001b[0;34m(self, module_str)\u001b[0m\n\u001b[1;32m     31\u001b[0m         \u001b[0;32mif\u001b[0m \u001b[0;32mnot\u001b[0m \u001b[0mmodule_str\u001b[0m\u001b[0;34m:\u001b[0m\u001b[0;34m\u001b[0m\u001b[0;34m\u001b[0m\u001b[0m\n\u001b[1;32m     32\u001b[0m             \u001b[0;32mraise\u001b[0m \u001b[0mUsageError\u001b[0m\u001b[0;34m(\u001b[0m\u001b[0;34m'Missing module name.'\u001b[0m\u001b[0;34m)\u001b[0m\u001b[0;34m\u001b[0m\u001b[0;34m\u001b[0m\u001b[0m\n\u001b[0;32m---> 33\u001b[0;31m         \u001b[0mres\u001b[0m \u001b[0;34m=\u001b[0m \u001b[0mself\u001b[0m\u001b[0;34m.\u001b[0m\u001b[0mshell\u001b[0m\u001b[0;34m.\u001b[0m\u001b[0mextension_manager\u001b[0m\u001b[0;34m.\u001b[0m\u001b[0mload_extension\u001b[0m\u001b[0;34m(\u001b[0m\u001b[0mmodule_str\u001b[0m\u001b[0;34m)\u001b[0m\u001b[0;34m\u001b[0m\u001b[0;34m\u001b[0m\u001b[0m\n\u001b[0m\u001b[1;32m     34\u001b[0m \u001b[0;34m\u001b[0m\u001b[0m\n\u001b[1;32m     35\u001b[0m         \u001b[0;32mif\u001b[0m \u001b[0mres\u001b[0m \u001b[0;34m==\u001b[0m \u001b[0;34m'already loaded'\u001b[0m\u001b[0;34m:\u001b[0m\u001b[0;34m\u001b[0m\u001b[0;34m\u001b[0m\u001b[0m\n",
            "\u001b[0;32m/usr/local/lib/python3.10/dist-packages/IPython/core/extensions.py\u001b[0m in \u001b[0;36mload_extension\u001b[0;34m(self, module_str)\u001b[0m\n\u001b[1;32m     85\u001b[0m                               dir=compress_user(self.ipython_extension_dir)))\n\u001b[1;32m     86\u001b[0m             \u001b[0mmod\u001b[0m \u001b[0;34m=\u001b[0m \u001b[0msys\u001b[0m\u001b[0;34m.\u001b[0m\u001b[0mmodules\u001b[0m\u001b[0;34m[\u001b[0m\u001b[0mmodule_str\u001b[0m\u001b[0;34m]\u001b[0m\u001b[0;34m\u001b[0m\u001b[0;34m\u001b[0m\u001b[0m\n\u001b[0;32m---> 87\u001b[0;31m             \u001b[0;32mif\u001b[0m \u001b[0mself\u001b[0m\u001b[0;34m.\u001b[0m\u001b[0m_call_load_ipython_extension\u001b[0m\u001b[0;34m(\u001b[0m\u001b[0mmod\u001b[0m\u001b[0;34m)\u001b[0m\u001b[0;34m:\u001b[0m\u001b[0;34m\u001b[0m\u001b[0;34m\u001b[0m\u001b[0m\n\u001b[0m\u001b[1;32m     88\u001b[0m                 \u001b[0mself\u001b[0m\u001b[0;34m.\u001b[0m\u001b[0mloaded\u001b[0m\u001b[0;34m.\u001b[0m\u001b[0madd\u001b[0m\u001b[0;34m(\u001b[0m\u001b[0mmodule_str\u001b[0m\u001b[0;34m)\u001b[0m\u001b[0;34m\u001b[0m\u001b[0;34m\u001b[0m\u001b[0m\n\u001b[1;32m     89\u001b[0m             \u001b[0;32melse\u001b[0m\u001b[0;34m:\u001b[0m\u001b[0;34m\u001b[0m\u001b[0;34m\u001b[0m\u001b[0m\n",
            "\u001b[0;32m/usr/local/lib/python3.10/dist-packages/IPython/core/extensions.py\u001b[0m in \u001b[0;36m_call_load_ipython_extension\u001b[0;34m(self, mod)\u001b[0m\n\u001b[1;32m    132\u001b[0m     \u001b[0;32mdef\u001b[0m \u001b[0m_call_load_ipython_extension\u001b[0m\u001b[0;34m(\u001b[0m\u001b[0mself\u001b[0m\u001b[0;34m,\u001b[0m \u001b[0mmod\u001b[0m\u001b[0;34m)\u001b[0m\u001b[0;34m:\u001b[0m\u001b[0;34m\u001b[0m\u001b[0;34m\u001b[0m\u001b[0m\n\u001b[1;32m    133\u001b[0m         \u001b[0;32mif\u001b[0m \u001b[0mhasattr\u001b[0m\u001b[0;34m(\u001b[0m\u001b[0mmod\u001b[0m\u001b[0;34m,\u001b[0m \u001b[0;34m'load_ipython_extension'\u001b[0m\u001b[0;34m)\u001b[0m\u001b[0;34m:\u001b[0m\u001b[0;34m\u001b[0m\u001b[0;34m\u001b[0m\u001b[0m\n\u001b[0;32m--> 134\u001b[0;31m             \u001b[0mmod\u001b[0m\u001b[0;34m.\u001b[0m\u001b[0mload_ipython_extension\u001b[0m\u001b[0;34m(\u001b[0m\u001b[0mself\u001b[0m\u001b[0;34m.\u001b[0m\u001b[0mshell\u001b[0m\u001b[0;34m)\u001b[0m\u001b[0;34m\u001b[0m\u001b[0;34m\u001b[0m\u001b[0m\n\u001b[0m\u001b[1;32m    135\u001b[0m             \u001b[0;32mreturn\u001b[0m \u001b[0;32mTrue\u001b[0m\u001b[0;34m\u001b[0m\u001b[0;34m\u001b[0m\u001b[0m\n\u001b[1;32m    136\u001b[0m \u001b[0;34m\u001b[0m\u001b[0m\n",
            "\u001b[0;32m/usr/local/lib/python3.10/dist-packages/oct2py/ipython/octavemagic.py\u001b[0m in \u001b[0;36mload_ipython_extension\u001b[0;34m(ip)\u001b[0m\n\u001b[1;32m    299\u001b[0m \u001b[0;32mdef\u001b[0m \u001b[0mload_ipython_extension\u001b[0m\u001b[0;34m(\u001b[0m\u001b[0mip\u001b[0m\u001b[0;34m)\u001b[0m\u001b[0;34m:\u001b[0m\u001b[0;34m\u001b[0m\u001b[0;34m\u001b[0m\u001b[0m\n\u001b[1;32m    300\u001b[0m     \u001b[0;34m\"\"\"Load the extension in IPython.\"\"\"\u001b[0m\u001b[0;34m\u001b[0m\u001b[0;34m\u001b[0m\u001b[0m\n\u001b[0;32m--> 301\u001b[0;31m     \u001b[0mip\u001b[0m\u001b[0;34m.\u001b[0m\u001b[0mregister_magics\u001b[0m\u001b[0;34m(\u001b[0m\u001b[0mOctaveMagics\u001b[0m\u001b[0;34m)\u001b[0m\u001b[0;34m\u001b[0m\u001b[0;34m\u001b[0m\u001b[0m\n\u001b[0m",
            "\u001b[0;32m/usr/local/lib/python3.10/dist-packages/IPython/core/magic.py\u001b[0m in \u001b[0;36mregister\u001b[0;34m(self, *magic_objects)\u001b[0m\n\u001b[1;32m    449\u001b[0m             \u001b[0;32mif\u001b[0m \u001b[0misinstance\u001b[0m\u001b[0;34m(\u001b[0m\u001b[0mm\u001b[0m\u001b[0;34m,\u001b[0m \u001b[0mtype\u001b[0m\u001b[0;34m)\u001b[0m\u001b[0;34m:\u001b[0m\u001b[0;34m\u001b[0m\u001b[0;34m\u001b[0m\u001b[0m\n\u001b[1;32m    450\u001b[0m                 \u001b[0;31m# If we're given an uninstantiated class\u001b[0m\u001b[0;34m\u001b[0m\u001b[0;34m\u001b[0m\u001b[0m\n\u001b[0;32m--> 451\u001b[0;31m                 \u001b[0mm\u001b[0m \u001b[0;34m=\u001b[0m \u001b[0mm\u001b[0m\u001b[0;34m(\u001b[0m\u001b[0mshell\u001b[0m\u001b[0;34m=\u001b[0m\u001b[0mself\u001b[0m\u001b[0;34m.\u001b[0m\u001b[0mshell\u001b[0m\u001b[0;34m)\u001b[0m\u001b[0;34m\u001b[0m\u001b[0;34m\u001b[0m\u001b[0m\n\u001b[0m\u001b[1;32m    452\u001b[0m \u001b[0;34m\u001b[0m\u001b[0m\n\u001b[1;32m    453\u001b[0m             \u001b[0;31m# Now that we have an instance, we can register it and update the\u001b[0m\u001b[0;34m\u001b[0m\u001b[0;34m\u001b[0m\u001b[0m\n",
            "\u001b[0;32m/usr/local/lib/python3.10/dist-packages/oct2py/ipython/octavemagic.py\u001b[0m in \u001b[0;36m__init__\u001b[0;34m(self, shell)\u001b[0m\n\u001b[1;32m     70\u001b[0m         \"\"\"\n\u001b[1;32m     71\u001b[0m         \u001b[0msuper\u001b[0m\u001b[0;34m(\u001b[0m\u001b[0;34m)\u001b[0m\u001b[0;34m.\u001b[0m\u001b[0m__init__\u001b[0m\u001b[0;34m(\u001b[0m\u001b[0mshell\u001b[0m\u001b[0;34m)\u001b[0m\u001b[0;34m\u001b[0m\u001b[0;34m\u001b[0m\u001b[0m\n\u001b[0;32m---> 72\u001b[0;31m         \u001b[0mself\u001b[0m\u001b[0;34m.\u001b[0m\u001b[0m_oct\u001b[0m \u001b[0;34m=\u001b[0m \u001b[0moct2py\u001b[0m\u001b[0;34m.\u001b[0m\u001b[0moctave\u001b[0m\u001b[0;34m\u001b[0m\u001b[0;34m\u001b[0m\u001b[0m\n\u001b[0m\u001b[1;32m     73\u001b[0m \u001b[0;34m\u001b[0m\u001b[0m\n\u001b[1;32m     74\u001b[0m         \u001b[0;31m# Allow display to be overridden for\u001b[0m\u001b[0;34m\u001b[0m\u001b[0;34m\u001b[0m\u001b[0m\n",
            "\u001b[0;31mAttributeError\u001b[0m: module 'oct2py' has no attribute 'octave'"
          ]
        }
      ]
    },
    {
      "cell_type": "markdown",
      "source": [
        "# MAIN PROGRAM\n",
        "\n"
      ],
      "metadata": {
        "id": "yE8qioOfLZnD"
      }
    },
    {
      "cell_type": "markdown",
      "source": [
        "## 0. PROGRAM's BRIEF DESCRIPTION"
      ],
      "metadata": {
        "id": "emSJfHDZFkll"
      }
    },
    {
      "cell_type": "code",
      "source": [
        "%%octave\n",
        "\n",
        "%%%%%%%%%%%%%%%%%%%%%%%%%%%%%%%%%%%%%%%%%%%%%%%%%%%%%%%%%%%%%%\n",
        "% Program to perform data assimilation on the\n",
        "% Lorenz equations\n",
        "%\n",
        "%\n",
        "%  (c) 2002  Data Assimilation Research Centre\n",
        "%\n",
        "%  Original program by Matthew Martin\n",
        "%\n",
        "%  Change history:\n",
        "%      Changes to make code more robust and add further options\n",
        "%                       (Amos Lawless)\n",
        "%      23/01/03 Change to position windows correctly for any screen\n",
        "%               resolution (Amos Lawless)\n",
        "%      16/07/04 Change to initial conditions and run time\n",
        "%\n",
        "%  Structure of program:\n",
        "%    1. Inputs\n",
        "%    2. `True' solution\n",
        "%    3. Background solution\n",
        "%    4. Observations\n",
        "%    5. Covariance matrices\n",
        "%    6. Assimilation\n",
        "%    7. Plot results.\n",
        "%\n",
        "%  List of main variables\n",
        "%    h:          Time step for Runge-Kutta scheme\n",
        "%    s:          sigma coefficient in equations\n",
        "%    r:          rho coefficient in equations\n",
        "%    b:          beta coefficient in equations\n",
        "%\n",
        "%    fmax:       Total time of assimilation + forecast\n",
        "%    ob_f:       Frequency of observations in time steps\n",
        "%    q:          x-axis data values for plots\n",
        "%    sd:         Variance of observation error\n",
        "%    tmax:       Total time of assimilation\n",
        "%\n",
        "%    R(3,3):     Observation error covariance matrix\n",
        "%    B(3,3):     Background error covariance matrix\n",
        "%    Qx(3,3,fmax): Model error covariance matrix for Kalman Filter\n",
        "%                  (default constant in time)\n",
        "%\n",
        "%    x(fmax,1), y(fmax,1), z(fmax,1):\n",
        "%                True state vectors of x,y,z\n",
        "%    xb(fmax,1), yb(fmax,1), zb(fmax,1):\n",
        "%                Background state vectors of x,y,z\n",
        "%    xob(tmax), yob(tmax), zob(tmax)\n",
        "%                Observations of x,y,z\n",
        "%\n",
        "%    x_ob(3,tmax): [xob';yob';zob']\n",
        "%    x_sc(3,fmax): Analysis and forecast from SC scheme, with first\n",
        "%                  index representing x, y or z variable\n",
        "%    x_ac(3,fmax): Analysis and forecast from AC scheme, with first\n",
        "%                  index representing x, y or z variable\n",
        "%    x_oi(3,fmax): Analysis and forecast from OI scheme, with first\n",
        "%                  index representing x, y or z variable\n",
        "%    x_kf(3,fmax): Analysis and forecast from Kalman Filter, with first\n",
        "%                  index representing x, y or z variable\n",
        "%\n",
        "%%%%%%%%%%%%%%%%%%%%%%%%%%%%%%%%%%%%%%%%%%%%%%%%%%%%%%%%%%%%%%\n",
        "\n"
      ],
      "metadata": {
        "id": "9HpgUAWU0-Ot"
      },
      "execution_count": null,
      "outputs": []
    },
    {
      "cell_type": "markdown",
      "source": [
        "## 1. INPUTS"
      ],
      "metadata": {
        "id": "mIYDfN2UA5Xh"
      }
    },
    {
      "cell_type": "code",
      "source": [
        "%%octave\n",
        "\n",
        "%---------------------------------------------------------------------\n",
        "%%%%%%%%%%1.  INPUTS\n",
        "%---------------------------------------------------------------------\n",
        "\n",
        "%----- Please choose an assimilation scheme -----\n",
        "%      1) Successive correction\n",
        "%      2) Optimal Interpolation\n",
        "%      3) Analysis Correction\n",
        "%      4) Kalman Filter\n",
        "%      Select a menu number:\n",
        "l_assim = 4;\n",
        "l_assim=l_assim-1;\n",
        "\n",
        "if (l_assim==0 | l_assim==2)\n",
        "  %----- How many iterations? -----\n",
        "  %      1\n",
        "  %      2\n",
        "  %      3\n",
        "  %      4\n",
        "  %      5\n",
        "  n_its = 4\n",
        "end\n",
        "if l_assim~=0\n",
        "\n",
        "%----- Use correct weighting matrices? -----\n",
        "%      1) No\n",
        "%      2) Yes\n",
        "   l_weight = 2;\n",
        "   l_weight=l_weight-1;\n",
        "end\n",
        "fmax=1000;  %time of assimilation + forecast\n",
        "q=0:0.01:fmax*0.01-0.01;"
      ],
      "metadata": {
        "id": "XZiEmKcTLToq"
      },
      "execution_count": null,
      "outputs": []
    },
    {
      "cell_type": "markdown",
      "source": [
        "## 2. TRUE SOLUTION\n",
        "### True solution of lorenz equations using 2nd order Runge-Kutta method"
      ],
      "metadata": {
        "id": "OZ33hAOVBD-F"
      }
    },
    {
      "cell_type": "code",
      "source": [
        "%%octave\n",
        "\n",
        "%-------------------------------------------------------------------------\n",
        "%%%%%%%%%2.  TRUE SOLUTION\n",
        "%-------------------------------------------------------------------------\n",
        "%true solution of lorenz equations using 2nd order Runge-Kutta method\n",
        "x=zeros(fmax,1);\n",
        "y=zeros(fmax,1);\n",
        "z=zeros(fmax,1);"
      ],
      "metadata": {
        "id": "bmr1e2-Q7Clz"
      },
      "execution_count": null,
      "outputs": []
    },
    {
      "cell_type": "markdown",
      "source": [
        "### parameters"
      ],
      "metadata": {
        "id": "bGlX8KlFBn1k"
      }
    },
    {
      "cell_type": "code",
      "source": [
        "%%octave\n",
        "\n",
        "%parameters\n",
        "h=0.01;    % time step for Runge-Kutta scheme\n",
        "s=10.0;    % sigma\n",
        "r=28;      % rho\n",
        "b=8/3;     % beta"
      ],
      "metadata": {
        "id": "eXP_2ayaBTWc"
      },
      "execution_count": null,
      "outputs": []
    },
    {
      "cell_type": "markdown",
      "source": [
        "### initial contidions"
      ],
      "metadata": {
        "id": "CK6XUeR2Bwqk"
      }
    },
    {
      "cell_type": "code",
      "source": [
        "%%octave\n",
        "\n",
        "%initial conditions\n",
        "x(1)=-5.4458d0;\n",
        "y(1)=-5.4841d0;\n",
        "z(1)=22.5606d0;\n",
        "\n",
        "for i=1:fmax-1\n",
        "k1x(i)=s*y(i)-s*x(i);\n",
        "k1y(i)=r*x(i)-y(i)-x(i)*z(i);\n",
        "k1z(i)=x(i)*y(i)-b*z(i);\n",
        "\n",
        "k2x(i)=s*(y(i)+h*k1y(i))-s*(x(i)+h*k1x(i));\n",
        "k2y(i)=r*(x(i)+h*k1x(i))-(y(i)+h*k1y(i))-(x(i)+h*k1x(i))*(z(i)+h*k1z(i));\n",
        "k2z(i)=(x(i)+h*k1x(i))*(y(i)+h*k1y(i))-b*(z(i)+h*k1z(i));\n",
        "\n",
        "x(i+1)=x(i)+0.5*h*(k1x(i)+k2x(i));\n",
        "y(i+1)=y(i)+0.5*h*(k1y(i)+k2y(i));\n",
        "z(i+1)=z(i)+0.5*h*(k1z(i)+k2z(i));\n",
        "\n",
        "end\n",
        "disp(['*   done true solution'])"
      ],
      "metadata": {
        "id": "9hRXFm7qtOfO"
      },
      "execution_count": null,
      "outputs": []
    },
    {
      "cell_type": "markdown",
      "source": [
        "### Plot true solution of x"
      ],
      "metadata": {
        "id": "Iniw4SxLB4pl"
      }
    },
    {
      "cell_type": "code",
      "source": [
        "%%octave\n",
        "\n",
        "%Plot true solution of x\n",
        "h1=figure(1);\n",
        "clf;\n",
        "plot(q,x,'k--');\n",
        "legend(\"Truth\")\n",
        "xlabel(\"Time\")\n",
        "ylabel(\"x\")\n",
        "title(\"Solution for x\")\n",
        "hold on"
      ],
      "metadata": {
        "id": "eiP4BAus7SKN"
      },
      "execution_count": null,
      "outputs": []
    },
    {
      "cell_type": "markdown",
      "source": [
        "### Plot true solution of z"
      ],
      "metadata": {
        "id": "HFX7s8z-CBRG"
      }
    },
    {
      "cell_type": "code",
      "source": [
        "%%octave\n",
        "\n",
        "h2=figure(2);\n",
        "clf;\n",
        "plot(q,z,'k--');\n",
        "legend(\"Truth\")\n",
        "xlabel(\"Time\")\n",
        "ylabel(\"z\")\n",
        "title('Solution for z')\n",
        "hold on"
      ],
      "metadata": {
        "id": "VEmxyEFX8eyR"
      },
      "execution_count": null,
      "outputs": []
    },
    {
      "cell_type": "markdown",
      "source": [
        "## 3. BACKGROUND SOLUTION\n",
        "### Produce a background solution which starts from some perturbed initial conditions"
      ],
      "metadata": {
        "id": "e1lUNJMbCG87"
      }
    },
    {
      "cell_type": "code",
      "source": [
        "%%octave\n",
        "\n",
        "%-----------------------------------------------------------------------\n",
        "%%%%%%%%%3.  BACKGROUND SOLUTION\n",
        "%-----------------------------------------------------------------------\n",
        "%Produce a background solution which starts from some perturbed initial\n",
        "%conditions.\n",
        "\n",
        "xb=zeros(fmax,1);\n",
        "yb=zeros(fmax,1);\n",
        "zb=zeros(fmax,1);"
      ],
      "metadata": {
        "id": "Q32Bz58r7d8K"
      },
      "execution_count": null,
      "outputs": []
    },
    {
      "cell_type": "markdown",
      "source": [
        "### Background solution initial condition"
      ],
      "metadata": {
        "id": "Ixn-ri7YDJ1j"
      }
    },
    {
      "cell_type": "code",
      "source": [
        "%%octave\n",
        "\n",
        "%initial conditions\n",
        "%x(1)=-5.4458d0;\n",
        "%y(1)=-5.4841d0;\n",
        "%z(1)=22.5606d0;\n",
        "\n",
        "%Background solution initial conditions\n",
        "%bg_noise=randn(3,1);\n",
        "%xb(1)=x(1)+bg_noise(1)*2.0d0;\n",
        "%yb(1)=y(1)+bg_noise(2)*2.0d0;\n",
        "%zb(1)=z(1)+bg_noise(3)*2.0d0;\n",
        "xb(1)=-5.9d0+5;\n",
        "yb(1)=-5.0d0+5;\n",
        "zb(1)=24.0d0;"
      ],
      "metadata": {
        "id": "KKDuSi3XDDY7"
      },
      "execution_count": null,
      "outputs": []
    },
    {
      "cell_type": "markdown",
      "source": [
        "### Loop over time"
      ],
      "metadata": {
        "id": "Me3ZlKoRDjiT"
      }
    },
    {
      "cell_type": "code",
      "source": [
        "%%octave\n",
        "\n",
        "%start loop over time\n",
        "for i=1:fmax-1\n",
        "\n",
        "k1xb(i)=s*yb(i)-s*xb(i);\n",
        "k1yb(i)=r*xb(i)-yb(i)-xb(i)*zb(i);\n",
        "k1zb(i)=xb(i)*yb(i)-b*zb(i);\n",
        "\n",
        "k2xb(i)=s*(yb(i)+h*k1yb(i))-s*(xb(i)+h*k1xb(i));\n",
        "k2yb(i)=r*(xb(i)+h*k1xb(i))-(yb(i)+h*k1yb(i))-(xb(i)+h*k1xb(i))...\n",
        "*(zb(i)+h*k1zb(i));\n",
        "k2zb(i)=(xb(i)+h*k1xb(i))*(yb(i)+h*k1yb(i))-b*(zb(i)+h*k1zb(i));\n",
        "\n",
        "xb(i+1)=xb(i)+0.5*h*(k1xb(i)+k2xb(i));\n",
        "yb(i+1)=yb(i)+0.5*h*(k1yb(i)+k2yb(i));\n",
        "zb(i+1)=zb(i)+0.5*h*(k1zb(i)+k2zb(i));\n",
        "\n",
        "end\n",
        "%end loop over time\n",
        "disp(['*   done background solution'])"
      ],
      "metadata": {
        "id": "Q4yG11TWDbuS"
      },
      "execution_count": null,
      "outputs": []
    },
    {
      "cell_type": "markdown",
      "source": [
        "### Plot background solution"
      ],
      "metadata": {
        "id": "HKutT7p1ESh8"
      }
    },
    {
      "cell_type": "code",
      "source": [
        "%%octave\n",
        "\n",
        "%Plot background solution\n",
        "figure(h1)\n",
        "plot(q,x,'k--');\n",
        "hold on\n",
        "plot(q,xb,'b-.');\n",
        "legend(\"Truth\",\"Background\")\n",
        "hold on"
      ],
      "metadata": {
        "id": "YgPQ6H7eEEfK"
      },
      "execution_count": null,
      "outputs": []
    },
    {
      "cell_type": "code",
      "source": [
        "%%octave\n",
        "figure(h2)\n",
        "plot(q,z,'k--');\n",
        "hold on\n",
        "plot(q,zb,'b-.');\n",
        "legend(\"Truth\",\"Background\")\n",
        "hold on\n",
        "\n"
      ],
      "metadata": {
        "id": "0_H0bBL9G6pP"
      },
      "execution_count": null,
      "outputs": []
    },
    {
      "cell_type": "markdown",
      "source": [
        "## 4. OBSERVATIONS"
      ],
      "metadata": {
        "id": "X2bPqh7MEh2c"
      }
    },
    {
      "cell_type": "markdown",
      "source": [
        "### Choose number of time steps between observations"
      ],
      "metadata": {
        "id": "apQJBpVywEew"
      }
    },
    {
      "cell_type": "code",
      "source": [
        "%%octave\n",
        "\n",
        "%-----------------------------------------------------------------------------------\n",
        "%%%%%%%4  OBSERVATIONS\n",
        "%-----------------------------------------------------------------------------------\n",
        "\n",
        "%----- How many time steps between observations? -----\n",
        "%      25\n",
        "%      50\n",
        "%      100\n",
        "%      200\n",
        "ob_f=50;\n",
        "\n",
        "%----- Noise on observations? -----\n",
        "%      1) No\n",
        "%      2) Yes\n",
        "% Select a menu number:\n",
        "l_noise=2;\n",
        "l_noise=l_noise-1;\n",
        "tmax=600+ob_f; %time of assimilation (janela de assimilação)"
      ],
      "metadata": {
        "id": "zx4ipHYUEcaj",
        "collapsed": true
      },
      "execution_count": null,
      "outputs": []
    },
    {
      "cell_type": "markdown",
      "source": [
        "### The observations are calculated from the true solution at certain points with noise added."
      ],
      "metadata": {
        "id": "-uKbAaNWwlKQ"
      }
    },
    {
      "cell_type": "code",
      "source": [
        "%%octave\n",
        "\n",
        "%The observations are calculated from the true solution at certain\n",
        "%points with noise added.\n",
        "\n",
        "xob=zeros(tmax,1);\n",
        "yob=zeros(tmax,1);\n",
        "zob=zeros(tmax,1);\n",
        "\n",
        "nobs=tmax/ob_f; %number of observations\n",
        "vec=1:ob_f:tmax;\n",
        "\n",
        "if l_noise==1\n",
        "  l_read_noise=1;\n",
        "  l_read_noise=l_read_noise-1;\n",
        "  if (l_read_noise==0)\n",
        "    sc_x_noise=randn(nobs,1);\n",
        "    sc_y_noise=randn(nobs,1);\n",
        "    sc_z_noise=randn(nobs,1);\n",
        "    save ('noise.mat','sc_x_noise','sc_y_noise','sc_z_noise');\n",
        "  elseif (l_read_noise==1)\n",
        "    load('noise.mat','sc_x_noise','sc_y_noise','sc_z_noise');\n",
        "  else\n",
        "    error('Invalid input')\n",
        "  end\n",
        "  sd=0.1;\n",
        "  var=sqrt(sd);\n",
        "  RX=var*sc_x_noise;\n",
        "  RY=var*sc_y_noise;\n",
        "  RZ=var*sc_z_noise;\n",
        "else\n",
        "  for i=1:nobs;\n",
        "    RX(i)=0.0;\n",
        "    RY(i)=0.0;\n",
        "    RZ(i)=0.0;\n",
        "  end\n",
        "end\n",
        "\n",
        "j=1;\n",
        "for i=vec\n",
        "xob(i)=x(i)+RX(j);\n",
        "yob(i)=y(i)+RY(j);\n",
        "zob(i)=z(i)+RZ(j);\n",
        "j=j+1;\n",
        "end\n",
        "disp(['*   done observations'])"
      ],
      "metadata": {
        "id": "8KhPtHnXwV-q"
      },
      "execution_count": null,
      "outputs": []
    },
    {
      "cell_type": "markdown",
      "source": [
        "### Plot x observations"
      ],
      "metadata": {
        "id": "m1-TAPgJ7INl"
      }
    },
    {
      "cell_type": "code",
      "source": [
        "%%octave\n",
        "\n",
        "%Plot x observations\n",
        "v=0.01*vec;\n",
        "figure(h1)\n",
        "plot(q,x,'k--');\n",
        "hold on\n",
        "plot(q,xb,'b-.');\n",
        "plot(v(2:nobs),xob(vec(2:nobs)),'om');\n",
        "legend(\"Truth\",\"Background\",\"Observations\")\n",
        "hold on\n",
        "\n"
      ],
      "metadata": {
        "id": "LMuSMG9533bF"
      },
      "execution_count": null,
      "outputs": []
    },
    {
      "cell_type": "markdown",
      "source": [
        "### Plot z observations"
      ],
      "metadata": {
        "id": "YHKwdGUn7qb-"
      }
    },
    {
      "cell_type": "code",
      "source": [
        "%%octave\n",
        "\n",
        "figure(h2)\n",
        "plot(q,z,'k--');\n",
        "hold on\n",
        "plot(q,zb,'b-.');\n",
        "plot(v(2:nobs),zob(vec(2:nobs)),'om');\n",
        "legend(\"Truth\",\"Background\",\"Observations\")\n",
        "hold on\n",
        "\n"
      ],
      "metadata": {
        "id": "hb4lbcBm7P10"
      },
      "execution_count": null,
      "outputs": []
    },
    {
      "cell_type": "markdown",
      "source": [
        "## 5. ERROR COVARIANCE MATRICES"
      ],
      "metadata": {
        "id": "8uGTh48s7aVz"
      }
    },
    {
      "cell_type": "code",
      "source": [
        "%%octave\n",
        "\n",
        "%-----------------------------------------------------------------------------------\n",
        "%%%%%%%5.  ERROR COVARIANCE MATRICES\n",
        "%-----------------------------------------------------------------------------------\n",
        "% l_test=menu_asl('Click to perform analysis','OK');\n",
        "if l_assim~=0\n",
        "\n",
        "BX=zeros(3,3);\n",
        "BXi=zeros(3,3,tmax);\n",
        "R=zeros(3,3);\n",
        "Ri=zeros(3,3,nobs);\n",
        "\n",
        "%Observation error covariance matrix, R.\n",
        "%Calculated to be the average errors over time between\n",
        "%the observations and true solution at the observation points.\n",
        "R=zeros(3,3);\n",
        "  for i=vec\n",
        "    Ri(1,1,i)=(x(i)-xob(i))'*(x(i)-xob(i));\n",
        "    Ri(1,2,i)=(x(i)-xob(i))'*(y(i)-yob(i));\n",
        "    Ri(1,3,i)=(x(i)-xob(i))'*(z(i)-zob(i));\n",
        "    Ri(2,1,i)=(y(i)-yob(i))'*(x(i)-xob(i));\n",
        "    Ri(2,2,i)=(y(i)-yob(i))'*(y(i)-yob(i));\n",
        "    Ri(2,3,i)=(y(i)-yob(i))'*(z(i)-zob(i));\n",
        "    Ri(3,1,i)=(z(i)-zob(i))'*(x(i)-xob(i));\n",
        "    Ri(3,2,i)=(z(i)-zob(i))'*(y(i)-yob(i));\n",
        "    Ri(3,3,i)=(z(i)-zob(i))'*(z(i)-zob(i));\n",
        "  end\n",
        "\n",
        "if l_weight==1\n",
        "  Rj=zeros(3,3,nobs);\n",
        "  for j=1:3\n",
        "    for k=1:3\n",
        "      Rj(j,k,:)=Ri(j,k,vec);\n",
        "      R(j,k)=(1/nobs)*sum(Rj(j,k,:));\n",
        "    end\n",
        "  end\n",
        "else\n",
        "  R=eye(3,3);  % Set to identity matrix for l_weight==0\n",
        "end\n",
        "\n",
        "%Background error covariance matrix.\n",
        "%Calculated to be the average errors over time between the\n",
        "%background and true solutions.\n",
        "B=zeros(3,3);\n",
        "if l_weight==1\n",
        "  for i=1:tmax\n",
        "    BXi(1,1,i)=(x(i)-xb(i))'*(x(i)-xb(i));\n",
        "    BXi(1,2,i)=(x(i)-xb(i))'*(y(i)-yb(i));\n",
        "    BXi(1,3,i)=(x(i)-xb(i))'*(z(i)-zb(i));\n",
        "    BXi(2,1,i)=(y(i)-yb(i))'*(x(i)-xb(i));\n",
        "    BXi(2,2,i)=(y(i)-yb(i))'*(y(i)-yb(i));\n",
        "    BXi(2,3,i)=(y(i)-yb(i))'*(z(i)-zb(i));\n",
        "    BXi(3,1,i)=(z(i)-zb(i))'*(x(i)-xb(i));\n",
        "    BXi(3,2,i)=(z(i)-zb(i))'*(y(i)-yb(i));\n",
        "    BXi(3,3,i)=(z(i)-zb(i))'*(z(i)-zb(i));\n",
        "  end\n",
        "  for j=1:3\n",
        "    for k=1:3\n",
        "      BX(j,k)=(1/tmax)*sum(BXi(j,k,:));\n",
        "    end\n",
        "  end\n",
        "else\n",
        "  BX=eye(3,3);  % Set to identity matrix for l_weight==0\n",
        "end  % l_weight==1\n",
        "\n",
        "end  % l_assim~=0"
      ],
      "metadata": {
        "id": "3KcRxVr97jok"
      },
      "execution_count": null,
      "outputs": []
    },
    {
      "cell_type": "markdown",
      "source": [
        "### 6. DATA ASSIMILATION"
      ],
      "metadata": {
        "id": "iEyiPjj7eK9u"
      }
    },
    {
      "cell_type": "code",
      "source": [
        "%%octave\n",
        "\n",
        "%-----------------------------------------------------------------------------------\n",
        "%%%%%%%%%%6.  DATA ASSIMILATION\n",
        "%-----------------------------------------------------------------------------------\n",
        "\n",
        "\n",
        "if l_assim==0\n",
        "%%%%%%%%%%%%%%%%%% SUCCESSIVE CORRECTIONS %%%%%%%%%%%%%%%%%%%%%%%%%%%%%%%%%%%%%%%\n",
        "disp('Performing successive correction analysis')\n",
        "assim_str='Successive correction';\n",
        "x_ob=zeros(3,fmax);\n",
        "x_sc=zeros(3,fmax);\n",
        "WX=zeros(3,3);\n",
        "\n",
        "%state weighting matrix\n",
        "WX=0.5*eye(3,3);\n",
        "\n",
        "%forecast at the initial time is the background there.\n",
        "xfc(1)=xb(1);\n",
        "yfc(1)=yb(1);\n",
        "zfc(1)=zb(1);\n",
        "\n",
        "x_ob=[xob';yob';zob'];\n",
        "x_sc(:,1)=[xb(1);yb(1);zb(1)];\n",
        "\n",
        "\n",
        "%Start Loop over time\n",
        "for i=1:fmax-1\n",
        "\n",
        "  if i>=tmax\n",
        "    x_ob(:,i+1)=0;\n",
        "  end\n",
        "\n",
        "%Forecast to time step i+1\n",
        "  xfc(i)=x_sc(1,i);\n",
        "  yfc(i)=x_sc(2,i);\n",
        "  zfc(i)=x_sc(3,i);\n",
        "\n",
        "  k1xfc(i)=s*yfc(i)-s*xfc(i);\n",
        "  k1yfc(i)=r*xfc(i)-yfc(i)-xfc(i)*zfc(i);\n",
        "  k1zfc(i)=xfc(i)*yfc(i)-b*zfc(i);\n",
        "\n",
        "  k2xfc(i)=s*(yfc(i)+h*k1yfc(i))-s*(xfc(i)+h*k1xfc(i));\n",
        "  k2yfc(i)=r*(xfc(i)+h*k1xfc(i))-(yfc(i)+h*k1yfc(i))-(xfc(i)+h*k1xfc(i))...\n",
        "  *(zfc(i)+h*k1zfc(i));\n",
        "  k2zfc(i)=(xfc(i)+h*k1xfc(i))*(yfc(i)+h*k1yfc(i))-b*(zfc(i)+h*k1zfc(i));\n",
        "\n",
        "  xfc(i+1)=xfc(i)+0.5*h*(k1xfc(i)+k2xfc(i));\n",
        "  yfc(i+1)=yfc(i)+0.5*h*(k1yfc(i)+k2yfc(i));\n",
        "  zfc(i+1)=zfc(i)+0.5*h*(k1zfc(i)+k2zfc(i));\n",
        "\n",
        "%If there is an observation then produce an analysis\n",
        "  if x_ob(:,i+1)~=0\n",
        "    x_sc(:,i+1)=[xfc(i+1);yfc(i+1);zfc(i+1)];\n",
        "\n",
        "    for j=1:n_its\n",
        "      x_sc(:,i+1)=x_sc(:,i+1)+WX*(x_ob(:,i+1)-x_sc(:,i+1));\n",
        "    end\n",
        "\n",
        "  else\n",
        "\n",
        "    x_sc(:,i+1)=[xfc(i+1);yfc(i+1);zfc(i+1)];\n",
        "\n",
        "  end\n",
        "end\n",
        "\n",
        "\n",
        "\n",
        "elseif l_assim==1\n",
        "%%%%%%%%%%%%%%%%%% OPTIMAL INTERPOLATION %%%%%%%%%%%%%%%%%%%%%%%%%%%%%%%%%%%%%%%\n",
        "disp('Performing OI analysis')\n",
        "assim_str='Optimal interpolation';\n",
        "\n",
        "x_ob=zeros(3,fmax);\n",
        "x_oi=zeros(3,fmax);\n",
        "WX=zeros(3,3);\n",
        "\n",
        "xfc(1)=xb(1);\n",
        "yfc(1)=yb(1);\n",
        "zfc(1)=zb(1);\n",
        "\n",
        "%state weighting matrix\n",
        "WX=BX*pinv(BX+R);\n",
        "\n",
        "x_ob=[xob';yob';zob'];\n",
        "x_oi(:,1)=[xb(1);yb(1);zb(1)];\n",
        "\n",
        "%Start loop over time\n",
        "for i=1:fmax-1\n",
        "\n",
        "  if i>=tmax\n",
        "    x_ob(:,i+1)=0;\n",
        "  end\n",
        "\n",
        "%Forecast to time step i+1\n",
        "  xfc(i)=x_oi(1,i);\n",
        "  yfc(i)=x_oi(2,i);\n",
        "  zfc(i)=x_oi(3,i);\n",
        "\n",
        "  k1xfc(i)=s*yfc(i)-s*xfc(i);\n",
        "  k1yfc(i)=r*xfc(i)-yfc(i)-xfc(i)*zfc(i);\n",
        "  k1zfc(i)=xfc(i)*yfc(i)-b*zfc(i);\n",
        "\n",
        "  k2xfc(i)=s*(yfc(i)+h*k1yfc(i))-s*(xfc(i)+h*k1xfc(i));\n",
        "  k2yfc(i)=r*(xfc(i)+h*k1xfc(i))-(yfc(i)+h*k1yfc(i))-(xfc(i)+h*k1xfc(i))...\n",
        "  *(zfc(i)+h*k1zfc(i));\n",
        "  k2zfc(i)=(xfc(i)+h*k1xfc(i))*(yfc(i)+h*k1yfc(i))-b*(zfc(i)+h*k1zfc(i));\n",
        "\n",
        "  xfc(i+1)=xfc(i)+0.5*h*(k1xfc(i)+k2xfc(i));\n",
        "  yfc(i+1)=yfc(i)+0.5*h*(k1yfc(i)+k2yfc(i));\n",
        "  zfc(i+1)=zfc(i)+0.5*h*(k1zfc(i)+k2zfc(i));\n",
        "\n",
        "%If there is an observation then produce analysis\n",
        "  if x_ob(:,i+1)~=0\n",
        "\n",
        "    x_oi(:,i+1)=[xfc(i+1);yfc(i+1);zfc(i+1)];\n",
        "    x_oi(:,i+1)=x_oi(:,i+1)+WX*(x_ob(:,i+1)-x_oi(:,i+1));\n",
        "\n",
        "  else\n",
        "\n",
        "    x_oi(:,i+1)=[xfc(i+1);yfc(i+1);zfc(i+1)];\n",
        "\n",
        "  end\n",
        "end\n",
        "\n",
        "elseif l_assim==2\n",
        "%%%%%%%%%%%%%%%%%%%%%%%%%% ANALYSIS CORRECTION %%%%%%%%%%%%%%%%%%%%%%%%%%%%%%%%%%%%%%%%%%%%%%\n",
        "disp('Performing AC analysis')\n",
        "assim_str='Analysis correction';\n",
        "\n",
        "if l_noise==0\n",
        "  R=eye(3,3);\n",
        "end\n",
        "x_ob=zeros(3,fmax);\n",
        "x_ac=zeros(3,fmax);\n",
        "y_ac=zeros(3,fmax);\n",
        "\n",
        "WX=zeros(3,3); %=BXR^{-1}\n",
        "QX=zeros(3,3); %=(WX+I)^{-1}\n",
        "\n",
        "xfc(1)=xb(1);\n",
        "yfc(1)=yb(1);\n",
        "zfc(1)=zb(1);\n",
        "\n",
        "%state weighting matrix\n",
        "WX=BX*pinv(R)\n",
        "QX=pinv(WX+eye(3,3))\n",
        "\n",
        "x_ob=[xob';yob';zob'];\n",
        "x_ac(:,1)=[xb(1);yb(1);zb(1)];\n",
        "y_ac(:,1)=x_ob(:,1);\n",
        "\n",
        "%Start loop over time\n",
        "for i=1:fmax-1\n",
        "\n",
        "  if i>=tmax\n",
        "    x_ob(:,i+1)=0;\n",
        "  end\n",
        "\n",
        "%Forecast to time step i+1\n",
        "  xfc(i)=x_ac(1,i);\n",
        "  yfc(i)=x_ac(2,i);\n",
        "  zfc(i)=x_ac(3,i);\n",
        "\n",
        "  k1xfc(i)=s*yfc(i)-s*xfc(i);\n",
        "  k1yfc(i)=r*xfc(i)-yfc(i)-xfc(i)*zfc(i);\n",
        "  k1zfc(i)=xfc(i)*yfc(i)-b*zfc(i);\n",
        "\n",
        "  k2xfc(i)=s*(yfc(i)+h*k1yfc(i))-s*(xfc(i)+h*k1xfc(i));\n",
        "  k2yfc(i)=r*(xfc(i)+h*k1xfc(i))-(yfc(i)+h*k1yfc(i))-(xfc(i)+h*k1xfc(i))...\n",
        "  *(zfc(i)+h*k1zfc(i));\n",
        "  k2zfc(i)=(xfc(i)+h*k1xfc(i))*(yfc(i)+h*k1yfc(i))-b*(zfc(i)+h*k1zfc(i));\n",
        "\n",
        "  xfc(i+1)=xfc(i)+0.5*h*(k1xfc(i)+k2xfc(i));\n",
        "  yfc(i+1)=yfc(i)+0.5*h*(k1yfc(i)+k2yfc(i));\n",
        "  zfc(i+1)=zfc(i)+0.5*h*(k1zfc(i)+k2zfc(i));\n",
        "\n",
        "%If there is an observation then produce an analysis\n",
        "  if x_ob(:,i+1)~=0\n",
        "    x_ac(:,i+1)=[xfc(i+1);yfc(i+1);zfc(i+1)];\n",
        "    y_ac(:,i+1)=x_ob(:,i+1);\n",
        "\n",
        "    for j=1:n_its\n",
        "      x_ac(:,i+1)=x_ac(:,i+1)+WX*QX*(y_ac(:,i+1)-x_ac(:,i+1));\n",
        "      y_ac(:,i+1)=y_ac(:,i+1)-QX*(y_ac(:,i+1)-x_ac(:,i+1));\n",
        "    end\n",
        "\n",
        "  else\n",
        "\n",
        "    x_ac(:,i+1)=[xfc(i+1);yfc(i+1);zfc(i+1)];\n",
        "\n",
        "  end\n",
        "end\n",
        "%End loop over time\n",
        "\n",
        "elseif l_assim==3\n",
        "%%%%%%%%%%%%%%%%%%%%%%%%%% KALMAN FILTER %%%%%%%%%%%%%%%%%%%%%%%%%%%%%%%%%%%%%%%%%%%%%%\n",
        "disp('Performing kalman filter analysis')\n",
        "assim_str='Kalman filter';\n",
        "\n",
        "KX=zeros(3,3,fmax);\n",
        "Pfx=zeros(3,3,fmax);\n",
        "Pax=zeros(3,3,fmax);\n",
        "xfc=zeros(tmax);\n",
        "yfc=zeros(tmax);\n",
        "zfc=zeros(tmax);\n",
        "x_kf=zeros(3,fmax);\n",
        "x_fc=zeros(3,fmax);\n",
        "x_ob=zeros(3,fmax);\n",
        "Mx=zeros(3,3,fmax);\n",
        "Qx=zeros(3,3,fmax);\n",
        "\n",
        "%put obs into one array\n",
        "x_ob=[xob';yob';zob'];\n",
        "\n",
        "%set forecast at i=1 to be the background guess there\n",
        "xfc(1)=xb(1);\n",
        "yfc(1)=yb(1);\n",
        "zfc(1)=zb(1);\n",
        "\n",
        "%put forecast values into one array\n",
        "x_fc(:,1)=[xb(1);yb(1);zb(1)];\n",
        "\n",
        "\n",
        "if l_weight==1\n",
        "%forecast error covariance at i=1 is the background error\n",
        "%covariance there\n",
        "  Pfx(:,:,1)=BXi(:,:,1);\n",
        "else\n",
        "%begin with some incorrect guess\n",
        "  Pfx(:,:,1)=eye(3);\n",
        "end\n",
        "\n",
        "%calculate the gain matrix at i=1\n",
        "KX(:,:,1)=Pfx(:,:,1)*pinv(Pfx(:,:,1)+Ri(:,:,1));\n",
        "\n",
        "x_kf(:,1)=x_fc(:,1);\n",
        "\n",
        "%calculate analysis error covariance matrix at i=1\n",
        "Pax(:,:,1)=(eye(3,3)-KX(:,:,1))*Pfx(:,:,1);\n",
        "\n",
        "\n",
        "for i=1:fmax-1\n",
        "  if i>=tmax\n",
        "    x_ob(:,i+1)=0;\n",
        "  end\n",
        "\n",
        "  xfc(i)=x_kf(1,i);\n",
        "  yfc(i)=x_kf(2,i);\n",
        "  zfc(i)=x_kf(3,i);\n",
        "\n",
        "%tangent-linear model - linearised about the forecast state\n",
        "  Mx(1,1,i)=1.0-(h*s)+(((h*h*s)/2.0)*(r+s-zfc(i)));\n",
        "  Mx(1,2,i)=h*s-(((h*h*s)/2.0)*(1.0+s));\n",
        "  Mx(1,3,i)=-(h*h*s*xfc(i))/2.0;\n",
        "  Mx(2,1,i)=(h*(r-zfc(i)))+(((h*h)/2.0)*(zfc(i)-(r*s)-r+(b*zfc(i))...\n",
        "  +(s*zfc(i))-(2.0*xfc(i)*yfc(i))))+(((h*h*h*s)/2.0)*((b*zfc(i))-...\n",
        "  (yfc(i)*yfc(i))+(2.0*xfc(i)*yfc(i))));\n",
        "  Mx(2,2,i)=1.0-h+(((h*h)/2.0)*((s*r)+1.0-(xfc(i)*xfc(i))-(s*zfc(i))))...\n",
        "  +(((h*h*h*s)/2.0)*((b*zfc(i))-(2.0*xfc(i)*yfc(i))+(xfc(i)*xfc(i))));\n",
        "  Mx(2,3,i)=(-h*xfc(i))+(((h*h)/2.0)*(xfc(i)+(b*xfc(i))-(s*yfc(i))+...\n",
        "  (s*xfc(i))))+(((h*h*h*s*b)/2.0)*(yfc(i)+xfc(i)));\n",
        "  Mx(3,1,i)=(h*yfc(i))+(((h*h)/2.0)*((2.0*r*xfc(i))-yfc(i)-(2.0*xfc(i)...\n",
        "  *zfc(i))-(s*yfc(i))-(b*yfc(i))))+(((h*h*h*s)/2.0)*((r*yfc(i))-(yfc(i)...\n",
        "  *zfc(i))-(2.0*r*xfc(i))+yfc(i)+(2.0*xfc(i)*zfc(i))));\n",
        "  Mx(3,2,i)=(h*xfc(i))+(((h*h)/2.0)*((s*yfc(i))-xfc(i)-(s*xfc(i))-...\n",
        "  (b*xfc(i))))+(((h*h*h*s)/2.0)*((r*xfc(i))-(2.0*yfc(i))-(xfc(i)*zfc(i))...\n",
        "  +xfc(i)));\n",
        "  Mx(3,3,i)=1.0-(h*b)+(((h*h)/2.0)*((b*b)-(xfc(i)*xfc(i))))+...\n",
        "  (((h*h*h*s)/2.0)*((xfc(i)*xfc(i))-(xfc(i)*yfc(i))));\n",
        "\n",
        "%Choose something for the model error covariance matrix.\n",
        "%These are from Evensen, 1997.\n",
        "  Qx(1,1,i)=0.1491;\n",
        "  Qx(1,2,i)=0.1505;\n",
        "  Qx(1,3,i)=0.0007;\n",
        "  Qx(2,1,i)=0.1505;\n",
        "  Qx(2,2,i)=0.9048;\n",
        "  Qx(2,3,i)=0.0014;\n",
        "  Qx(3,1,i)=0.0007;\n",
        "  Qx(3,2,i)=0.0014;\n",
        "  Qx(3,3,i)=0.9180;\n",
        "\n",
        "%forecast the state\n",
        "  k1xfc(i)=s*yfc(i)-s*xfc(i);\n",
        "  k1yfc(i)=r*xfc(i)-yfc(i)-xfc(i)*zfc(i);\n",
        "  k1zfc(i)=xfc(i)*yfc(i)-b*zfc(i);\n",
        "\n",
        "  k2xfc(i)=s*(yfc(i)+h*k1yfc(i))-s*(xfc(i)+h*k1xfc(i));\n",
        "  k2yfc(i)=r*(xfc(i)+h*k1xfc(i))-(yfc(i)+h*k1yfc(i))-(xfc(i)+h*k1xfc(i))...\n",
        "  *(zfc(i)+h*k1zfc(i));\n",
        "  k2zfc(i)=(xfc(i)+h*k1xfc(i))*(yfc(i)+h*k1yfc(i))-b*(zfc(i)+h*k1zfc(i));\n",
        "\n",
        "  xfc(i+1)=xfc(i)+0.5*h*(k1xfc(i)+k2xfc(i));\n",
        "  yfc(i+1)=yfc(i)+0.5*h*(k1yfc(i)+k2yfc(i));\n",
        "  zfc(i+1)=zfc(i)+0.5*h*(k1zfc(i)+k2zfc(i));\n",
        "\n",
        "  x_fc(:,i+1)=[xfc(i+1);yfc(i+1);zfc(i+1)];\n",
        "\n",
        "%forecast error covariance matrix\n",
        "  Pfx(:,:,i+1)=Mx(:,:,i)*Pax(:,:,i)*Mx(:,:,i)'+Qx(:,:,i);\n",
        "\n",
        "%If there is an observation at this time\n",
        "  if x_ob(:,i+1)~=0\n",
        "\n",
        "%calculate the gain matrices\n",
        "    KX(:,:,i+1)=Pfx(:,:,i+1)*pinv(Pfx(:,:,i+1)+Ri(:,:,i+1));\n",
        "\n",
        "%produce an analysis\n",
        "    x_kf(:,i+1)=x_fc(:,i+1)+KX(:,:,i+1)*(x_ob(:,i+1)-x_fc(:,i+1));\n",
        "\n",
        "%calculate analysis error covariance matrices\n",
        "    Pax(:,:,i+1)=(eye(3,3)-KX(:,:,i+1))*Pfx(:,:,i+1);\n",
        "\n",
        "  else\n",
        "\n",
        "    x_kf(:,i+1)=x_fc(:,i+1);\n",
        "    Pax(:,:,i+1)=Pfx(:,:,i+1);\n",
        "\n",
        "  end\n",
        "\n",
        "end\n",
        "%End loop over time\n",
        "\n",
        "end\n",
        "%End if on type of assimilation\n",
        "\n",
        "disp(['***  FINISHED  ***'])"
      ],
      "metadata": {
        "id": "UNUdvYKneCbe"
      },
      "execution_count": null,
      "outputs": []
    },
    {
      "cell_type": "markdown",
      "source": [
        "## 7. PLOT RESULTS"
      ],
      "metadata": {
        "id": "nyNs4Q-O2Qry"
      }
    },
    {
      "cell_type": "markdown",
      "source": [
        "### Plot analysed solution of x"
      ],
      "metadata": {
        "id": "yASAkISp2a89"
      }
    },
    {
      "cell_type": "code",
      "source": [
        "%%octave\n",
        "\n",
        "%-----------------------------------------------------------------------\n",
        "%%%%%%%%%%7.  PLOT RESULTS\n",
        "%-----------------------------------------------------------------------\n",
        "\n",
        "%Plot analysed solution of x\n",
        "figure(h1)\n",
        "plot(q,x,'k--');\n",
        "hold on\n",
        "plot(q,xb,'b-.');\n",
        "plot(v(2:nobs),xob(vec(2:nobs)),'om');\n",
        "if l_assim==0\n",
        "  plot(q,x_sc(1,:),'r-');\n",
        "elseif l_assim==1\n",
        "  plot(q,x_oi(1,:),'r-');\n",
        "elseif l_assim==2\n",
        "  plot(q,x_ac(1,:),'r-');\n",
        "elseif l_assim==3\n",
        "  plot(q,x_kf(1,:),'r-');\n",
        "end\n",
        "legend(\"Truth\",\"Background\",\"Observations\",\"Analysis\")\n",
        "yminmax=get(gca,'YLim');\n",
        "yspace=(yminmax(2)-yminmax(1))*0.01;\n",
        "yvals=yminmax(1):yspace:yminmax(2);\n",
        "xval=(tmax-ob_f)*h;\n",
        "%%line(xval,yvals,'LineStyle',':','Color','k')\n",
        "hold on\n",
        "print -dpng -r240 x_results.png;"
      ],
      "metadata": {
        "id": "5baYdWyl2M-K"
      },
      "execution_count": null,
      "outputs": []
    },
    {
      "cell_type": "markdown",
      "source": [
        "### Plot analysed solution of Z"
      ],
      "metadata": {
        "id": "ltN_czPf2nXJ"
      }
    },
    {
      "cell_type": "code",
      "source": [
        "%%octave\n",
        "\n",
        "figure(h2);\n",
        "plot(q,z,'k--');\n",
        "hold on\n",
        "plot(q,zb,'b-.');\n",
        "plot(v(2:nobs),zob(vec(2:nobs)),'om');\n",
        "%Plot analysed solution of z\n",
        "if l_assim==0\n",
        "  plot(q,x_sc(3,:),'r-');\n",
        "elseif l_assim==1\n",
        "  plot(q,x_oi(3,:),'r-');\n",
        "elseif l_assim==2\n",
        "  plot(q,x_ac(3,:),'r-');\n",
        "elseif l_assim==3\n",
        "  plot(q,x_kf(3,:),'r-');\n",
        "end\n",
        "legend(\"Truth\",\"Background\",\"Observations\",\"Analysis\")\n",
        "yminmax=get(gca,'YLim');\n",
        "yspace=(yminmax(2)-yminmax(1))*0.01;\n",
        "yvals=yminmax(1):yspace:yminmax(2);\n",
        "xval=(tmax-ob_f)*h;\n",
        "%line(xval,yvals,'LineStyle',':','Color','k')\n",
        "hold on"
      ],
      "metadata": {
        "id": "65TQqQLl2kV6"
      },
      "execution_count": null,
      "outputs": []
    },
    {
      "cell_type": "markdown",
      "source": [
        "## **Ploting Error**"
      ],
      "metadata": {
        "id": "tS_b6MDs29RO"
      }
    },
    {
      "cell_type": "code",
      "source": [
        "%%octave\n",
        "\n",
        "if l_assim==0\n",
        "  x_err = x'-x_sc(1,:);\n",
        "  z_err = z'-x_sc(3,:);\n",
        "elseif l_assim==1\n",
        "  x_err = x'-x_oi(1,:);\n",
        "  z_err = z'-x_oi(3,:);\n",
        "elseif l_assim==2\n",
        "  x_err = x'-x_ac(1,:);\n",
        "  z_err = z'-x_ac(3,:);\n",
        "elseif l_assim==3\n",
        "  x_err = x'-x_kf(1,:);\n",
        "  z_err = z'-x_kf(3,:);\n",
        "end\n",
        "%save\n",
        "h3=figure(3);\n",
        "clf;\n",
        "subplot(2,1,1)\n",
        "plot(q,x_err,'k-');\n",
        "xlabel('Time');ylabel('Error')\n",
        "title('Plot of error (Truth-Analysis) in x against time')\n",
        "yminmax=get(gca,'YLim');\n",
        "yspace=(yminmax(2)-yminmax(1))*0.01;\n",
        "yvals=yminmax(1):yspace:yminmax(2);\n",
        "%%line(xval,yvals,'LineStyle',':','Color','k')\n",
        "%\n",
        "subplot(2,1,2)\n",
        "plot(q,z_err,'k-')\n",
        "xlabel('Time');ylabel('Error')\n",
        "title('Plot of error (Truth-Analysis) in z against time')\n",
        "yminmax=get(gca,'YLim');\n",
        "yspace=(yminmax(2)-yminmax(1))*0.01;\n",
        "yvals=yminmax(1):yspace:yminmax(2);\n",
        "%%line(xval,yvals,'LineStyle',':','Color','k')\n",
        "\n",
        "%imagename=strcat(\"varq_error_\",assim_str,\"_\",num2str(n_its),\".png\");\n",
        "%disp(imagename);\n",
        "%print(imagename)\n"
      ],
      "metadata": {
        "id": "9HksltdQ27Je"
      },
      "execution_count": null,
      "outputs": []
    },
    {
      "cell_type": "code",
      "source": [],
      "metadata": {
        "id": "ylHruRKHTJz9"
      },
      "execution_count": null,
      "outputs": []
    },
    {
      "cell_type": "markdown",
      "source": [
        "### Write out options chosen"
      ],
      "metadata": {
        "id": "txQqnLrk3gOx"
      }
    },
    {
      "cell_type": "code",
      "source": [
        "%%octave\n",
        "\n",
        "% Determine screen size and set up figure positions\n",
        "ss=get(0,'ScreenSize');\n",
        "fig_width=0.55*ss(3);\n",
        "fig_height=0.4*ss(4);\n",
        "pos_1=[0.02*ss(3),0.55*ss(4),fig_width,fig_height];\n",
        "pos_2=[0.02*ss(3),0.05*ss(4),fig_width,fig_height];\n",
        "pos_3=[0.6*ss(3),0.45*ss(4),0.4*ss(3),0.45*ss(4)];\n",
        "pl=0.6*ss(3);\n",
        "pb=0.05*ss(4);\n",
        "pw=0.3*ss(3);\n",
        "ph=0.3*ss(4);\n",
        "pos_4=[pl,pb,pw,ph];\n",
        "pos_5=[0.02*pw,0.8*ph,0.95*pw,0.2*ph];\n",
        "pos_6=[0.02*pw,0.02*ph,0.95*pw,0.75*ph];"
      ],
      "metadata": {
        "id": "gy_T7rtwvqpp"
      },
      "execution_count": null,
      "outputs": []
    },
    {
      "cell_type": "code",
      "source": [
        "%%octave\n",
        "%\n",
        "%-----------------------------------------------------------------------\n",
        "% Write out options chosen\n",
        "%\n",
        "text1={'List of options chosen'};\n",
        "text2={['Analysis scheme: ' assim_str]};\n",
        "if (l_assim==0 | l_assim==2)\n",
        "  text3={['Number of iterations: ' num2str(n_its)]};\n",
        "else\n",
        "  text3='';\n",
        "end\n",
        "if l_assim~0\n",
        "  if l_weight==0\n",
        "    text4={['Using incorrect weighting matrices']};\n",
        "  else\n",
        "    text4={['Using correct weighting matrices']};\n",
        "  end\n",
        "else\n",
        "  text4='';\n",
        "end\n",
        "text5={['Time steps between observations: ' num2str(ob_f)]};\n",
        "if l_noise==0\n",
        "  text6={['No noise on observations']};\n",
        "  text7='';\n",
        "else\n",
        "  text6={['Observations have random noise with variance ' num2str(sd)]};\n",
        "  if l_read_noise==0\n",
        "    text7={['Noise generated in program and saved to file']};\n",
        "  else\n",
        "    text7={['Noise read in from previously generated file']};\n",
        "  end\n",
        "end\n",
        "%\n",
        "str1=[text2;text3;text4;text5;text6;text7];\n",
        "disp(str1)\n",
        "\n",
        "%%%%%%%%%%  END OF PROGRAM  %%%%%%%%%%\n"
      ],
      "metadata": {
        "id": "vUWy5LRa3arh"
      },
      "execution_count": null,
      "outputs": []
    }
  ]
}